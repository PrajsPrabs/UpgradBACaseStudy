{
  "nbformat": 4,
  "nbformat_minor": 0,
  "metadata": {
    "colab": {
      "provenance": [],
      "mount_file_id": "https://github.com/PrajsPrabs/UpgradBACaseStudy/blob/main/EComm1.ipynb",
      "authorship_tag": "ABX9TyN+EXmNN3Y5Bn/E1HMX1xvs",
      "include_colab_link": true
    },
    "kernelspec": {
      "name": "python3",
      "display_name": "Python 3"
    },
    "language_info": {
      "name": "python"
    }
  },
  "cells": [
    {
      "cell_type": "markdown",
      "metadata": {
        "id": "view-in-github",
        "colab_type": "text"
      },
      "source": [
        "<a href=\"https://colab.research.google.com/github/PrajsPrabs/UpgradBACaseStudy/blob/main/EComm1.ipynb\" target=\"_parent\"><img src=\"https://colab.research.google.com/assets/colab-badge.svg\" alt=\"Open In Colab\"/></a>"
      ]
    },
    {
      "cell_type": "code",
      "execution_count": 133,
      "metadata": {
        "id": "rAK_VUdVqMmS"
      },
      "outputs": [],
      "source": [
        "import pandas as pd\n",
        "import numpy as nm\n",
        "import matplotlib.pyplot as plt\n",
        "import seaborn as sns"
      ]
    },
    {
      "cell_type": "markdown",
      "source": [
        "# Reading the Data"
      ],
      "metadata": {
        "id": "yiOc2iKs0hQQ"
      }
    },
    {
      "cell_type": "code",
      "source": [
        "EleData = pd.read_csv(\"/content/drive/MyDrive/Colab Notebooks/E-Commerce Capstone Dataset/ConsumerElectronics.csv\")\n",
        "ProdList = pd.read_excel(\"/content/drive/MyDrive/Colab Notebooks/E-Commerce Capstone Dataset/Media data and other information.xlsx\",header=1,sheet_name=\"Product List\")\n",
        "Investment = pd.read_excel(\"/content/drive/MyDrive/Colab Notebooks/E-Commerce Capstone Dataset/Media data and other information.xlsx\",header=2,sheet_name=\"Media Investment\")\n",
        "MonthlyNPS = pd.read_excel(\"/content/drive/MyDrive/Colab Notebooks/E-Commerce Capstone Dataset/Media data and other information.xlsx\",sheet_name=\"Monthly NPS Score\")\n",
        "SalesCal = pd.read_excel(\"/content/drive/MyDrive/Colab Notebooks/E-Commerce Capstone Dataset/Media data and other information.xlsx\",sheet_name=\"Special Sale Calendar\")\n",
        "Ont2015=pd.read_excel(\"/content/drive/MyDrive/Colab Notebooks/E-Commerce Capstone Dataset/ONTARIO-2015.xlsx\",header=24)\n",
        "Ont2016=pd.read_excel(\"/content/drive/MyDrive/Colab Notebooks/E-Commerce Capstone Dataset/ONTARIO-2016.xlsx\",header=24)"
      ],
      "metadata": {
        "colab": {
          "base_uri": "https://localhost:8080/"
        },
        "id": "2QpMh1qHr-WA",
        "outputId": "da165f48-afb6-4e56-eb2f-72d896d4a06f"
      },
      "execution_count": 134,
      "outputs": [
        {
          "output_type": "stream",
          "name": "stderr",
          "text": [
            "<ipython-input-134-69dde8b565b3>:1: DtypeWarning: Columns (6,12,13) have mixed types. Specify dtype option on import or set low_memory=False.\n",
            "  EleData = pd.read_csv(\"/content/drive/MyDrive/Colab Notebooks/E-Commerce Capstone Dataset/ConsumerElectronics.csv\")\n"
          ]
        }
      ]
    },
    {
      "cell_type": "code",
      "source": [
        "##ProdList\n",
        "ProdList.info()\n",
        "ProdList=ProdList.rename(columns={\"Unnamed: 1\":\"Equipment\"})\n",
        "ProdList.drop(\"Unnamed: 0\",1,inplace=True)\n"
      ],
      "metadata": {
        "colab": {
          "base_uri": "https://localhost:8080/"
        },
        "id": "GMbvY5YzsVgx",
        "outputId": "f8b3fcc9-aca9-4da8-e6ac-6eeda68a6d8c"
      },
      "execution_count": 135,
      "outputs": [
        {
          "output_type": "stream",
          "name": "stdout",
          "text": [
            "<class 'pandas.core.frame.DataFrame'>\n",
            "RangeIndex: 75 entries, 0 to 74\n",
            "Data columns (total 4 columns):\n",
            " #   Column      Non-Null Count  Dtype  \n",
            "---  ------      --------------  -----  \n",
            " 0   Unnamed: 0  0 non-null      float64\n",
            " 1   Unnamed: 1  75 non-null     object \n",
            " 2   Frequency   75 non-null     int64  \n",
            " 3   Percent     75 non-null     float64\n",
            "dtypes: float64(2), int64(1), object(1)\n",
            "memory usage: 2.5+ KB\n"
          ]
        },
        {
          "output_type": "stream",
          "name": "stderr",
          "text": [
            "<ipython-input-135-16c6641230a8>:4: FutureWarning: In a future version of pandas all arguments of DataFrame.drop except for the argument 'labels' will be keyword-only.\n",
            "  ProdList.drop(\"Unnamed: 0\",1,inplace=True)\n"
          ]
        }
      ]
    },
    {
      "cell_type": "code",
      "source": [
        "##Investments\n",
        "Investment.head()\n",
        "Investment = Investment.drop(\"Unnamed: 0\",1)"
      ],
      "metadata": {
        "id": "G0L4bSTssVjQ",
        "outputId": "f14e8860-8cc5-4bca-a360-737ed4aa819f",
        "colab": {
          "base_uri": "https://localhost:8080/"
        }
      },
      "execution_count": 136,
      "outputs": [
        {
          "output_type": "stream",
          "name": "stderr",
          "text": [
            "<ipython-input-136-ad6f8d046e0d>:3: FutureWarning: In a future version of pandas all arguments of DataFrame.drop except for the argument 'labels' will be keyword-only.\n",
            "  Investment = Investment.drop(\"Unnamed: 0\",1)\n"
          ]
        }
      ]
    },
    {
      "cell_type": "code",
      "source": [
        "Investment.head()"
      ],
      "metadata": {
        "colab": {
          "base_uri": "https://localhost:8080/",
          "height": 206
        },
        "id": "WNDlAZg8x7EA",
        "outputId": "04bd2926-54cc-4bc0-8dc5-7fbb8f43fe9a"
      },
      "execution_count": 137,
      "outputs": [
        {
          "output_type": "execute_result",
          "data": {
            "text/plain": [
              "     Year  Month  Total Investment        TV    Digital  Sponsorship  \\\n",
              "0  2015.0    7.0         17.061775  0.215330   2.533014     7.414270   \n",
              "1  2015.0    8.0          5.064306  0.006438   1.278074     1.063332   \n",
              "2  2015.0    9.0         96.254380  3.879504   1.356528    62.787651   \n",
              "3  2015.0   10.0        170.156297  6.144711  12.622480    84.672532   \n",
              "4  2015.0   11.0         51.216220  4.220630   1.275469    14.172116   \n",
              "\n",
              "   Content Marketing  Online marketing   Affiliates        SEM  Radio  Other  \n",
              "0           0.000933          1.327278     0.547254   5.023697    NaN    NaN  \n",
              "1           0.000006          0.129244     0.073684   2.513528    NaN    NaN  \n",
              "2           0.610292         16.379990     5.038266   6.202149    NaN    NaN  \n",
              "3           3.444075         24.371778     6.973711  31.927011    NaN    NaN  \n",
              "4           0.168633         19.561574     6.595767   5.222032    NaN    NaN  "
            ],
            "text/html": [
              "\n",
              "  <div id=\"df-314581ae-b062-431d-803b-c0368bbc818e\" class=\"colab-df-container\">\n",
              "    <div>\n",
              "<style scoped>\n",
              "    .dataframe tbody tr th:only-of-type {\n",
              "        vertical-align: middle;\n",
              "    }\n",
              "\n",
              "    .dataframe tbody tr th {\n",
              "        vertical-align: top;\n",
              "    }\n",
              "\n",
              "    .dataframe thead th {\n",
              "        text-align: right;\n",
              "    }\n",
              "</style>\n",
              "<table border=\"1\" class=\"dataframe\">\n",
              "  <thead>\n",
              "    <tr style=\"text-align: right;\">\n",
              "      <th></th>\n",
              "      <th>Year</th>\n",
              "      <th>Month</th>\n",
              "      <th>Total Investment</th>\n",
              "      <th>TV</th>\n",
              "      <th>Digital</th>\n",
              "      <th>Sponsorship</th>\n",
              "      <th>Content Marketing</th>\n",
              "      <th>Online marketing</th>\n",
              "      <th>Affiliates</th>\n",
              "      <th>SEM</th>\n",
              "      <th>Radio</th>\n",
              "      <th>Other</th>\n",
              "    </tr>\n",
              "  </thead>\n",
              "  <tbody>\n",
              "    <tr>\n",
              "      <th>0</th>\n",
              "      <td>2015.0</td>\n",
              "      <td>7.0</td>\n",
              "      <td>17.061775</td>\n",
              "      <td>0.215330</td>\n",
              "      <td>2.533014</td>\n",
              "      <td>7.414270</td>\n",
              "      <td>0.000933</td>\n",
              "      <td>1.327278</td>\n",
              "      <td>0.547254</td>\n",
              "      <td>5.023697</td>\n",
              "      <td>NaN</td>\n",
              "      <td>NaN</td>\n",
              "    </tr>\n",
              "    <tr>\n",
              "      <th>1</th>\n",
              "      <td>2015.0</td>\n",
              "      <td>8.0</td>\n",
              "      <td>5.064306</td>\n",
              "      <td>0.006438</td>\n",
              "      <td>1.278074</td>\n",
              "      <td>1.063332</td>\n",
              "      <td>0.000006</td>\n",
              "      <td>0.129244</td>\n",
              "      <td>0.073684</td>\n",
              "      <td>2.513528</td>\n",
              "      <td>NaN</td>\n",
              "      <td>NaN</td>\n",
              "    </tr>\n",
              "    <tr>\n",
              "      <th>2</th>\n",
              "      <td>2015.0</td>\n",
              "      <td>9.0</td>\n",
              "      <td>96.254380</td>\n",
              "      <td>3.879504</td>\n",
              "      <td>1.356528</td>\n",
              "      <td>62.787651</td>\n",
              "      <td>0.610292</td>\n",
              "      <td>16.379990</td>\n",
              "      <td>5.038266</td>\n",
              "      <td>6.202149</td>\n",
              "      <td>NaN</td>\n",
              "      <td>NaN</td>\n",
              "    </tr>\n",
              "    <tr>\n",
              "      <th>3</th>\n",
              "      <td>2015.0</td>\n",
              "      <td>10.0</td>\n",
              "      <td>170.156297</td>\n",
              "      <td>6.144711</td>\n",
              "      <td>12.622480</td>\n",
              "      <td>84.672532</td>\n",
              "      <td>3.444075</td>\n",
              "      <td>24.371778</td>\n",
              "      <td>6.973711</td>\n",
              "      <td>31.927011</td>\n",
              "      <td>NaN</td>\n",
              "      <td>NaN</td>\n",
              "    </tr>\n",
              "    <tr>\n",
              "      <th>4</th>\n",
              "      <td>2015.0</td>\n",
              "      <td>11.0</td>\n",
              "      <td>51.216220</td>\n",
              "      <td>4.220630</td>\n",
              "      <td>1.275469</td>\n",
              "      <td>14.172116</td>\n",
              "      <td>0.168633</td>\n",
              "      <td>19.561574</td>\n",
              "      <td>6.595767</td>\n",
              "      <td>5.222032</td>\n",
              "      <td>NaN</td>\n",
              "      <td>NaN</td>\n",
              "    </tr>\n",
              "  </tbody>\n",
              "</table>\n",
              "</div>\n",
              "    <div class=\"colab-df-buttons\">\n",
              "\n",
              "  <div class=\"colab-df-container\">\n",
              "    <button class=\"colab-df-convert\" onclick=\"convertToInteractive('df-314581ae-b062-431d-803b-c0368bbc818e')\"\n",
              "            title=\"Convert this dataframe to an interactive table.\"\n",
              "            style=\"display:none;\">\n",
              "\n",
              "  <svg xmlns=\"http://www.w3.org/2000/svg\" height=\"24px\" viewBox=\"0 -960 960 960\">\n",
              "    <path d=\"M120-120v-720h720v720H120Zm60-500h600v-160H180v160Zm220 220h160v-160H400v160Zm0 220h160v-160H400v160ZM180-400h160v-160H180v160Zm440 0h160v-160H620v160ZM180-180h160v-160H180v160Zm440 0h160v-160H620v160Z\"/>\n",
              "  </svg>\n",
              "    </button>\n",
              "\n",
              "  <style>\n",
              "    .colab-df-container {\n",
              "      display:flex;\n",
              "      gap: 12px;\n",
              "    }\n",
              "\n",
              "    .colab-df-convert {\n",
              "      background-color: #E8F0FE;\n",
              "      border: none;\n",
              "      border-radius: 50%;\n",
              "      cursor: pointer;\n",
              "      display: none;\n",
              "      fill: #1967D2;\n",
              "      height: 32px;\n",
              "      padding: 0 0 0 0;\n",
              "      width: 32px;\n",
              "    }\n",
              "\n",
              "    .colab-df-convert:hover {\n",
              "      background-color: #E2EBFA;\n",
              "      box-shadow: 0px 1px 2px rgba(60, 64, 67, 0.3), 0px 1px 3px 1px rgba(60, 64, 67, 0.15);\n",
              "      fill: #174EA6;\n",
              "    }\n",
              "\n",
              "    .colab-df-buttons div {\n",
              "      margin-bottom: 4px;\n",
              "    }\n",
              "\n",
              "    [theme=dark] .colab-df-convert {\n",
              "      background-color: #3B4455;\n",
              "      fill: #D2E3FC;\n",
              "    }\n",
              "\n",
              "    [theme=dark] .colab-df-convert:hover {\n",
              "      background-color: #434B5C;\n",
              "      box-shadow: 0px 1px 3px 1px rgba(0, 0, 0, 0.15);\n",
              "      filter: drop-shadow(0px 1px 2px rgba(0, 0, 0, 0.3));\n",
              "      fill: #FFFFFF;\n",
              "    }\n",
              "  </style>\n",
              "\n",
              "    <script>\n",
              "      const buttonEl =\n",
              "        document.querySelector('#df-314581ae-b062-431d-803b-c0368bbc818e button.colab-df-convert');\n",
              "      buttonEl.style.display =\n",
              "        google.colab.kernel.accessAllowed ? 'block' : 'none';\n",
              "\n",
              "      async function convertToInteractive(key) {\n",
              "        const element = document.querySelector('#df-314581ae-b062-431d-803b-c0368bbc818e');\n",
              "        const dataTable =\n",
              "          await google.colab.kernel.invokeFunction('convertToInteractive',\n",
              "                                                    [key], {});\n",
              "        if (!dataTable) return;\n",
              "\n",
              "        const docLinkHtml = 'Like what you see? Visit the ' +\n",
              "          '<a target=\"_blank\" href=https://colab.research.google.com/notebooks/data_table.ipynb>data table notebook</a>'\n",
              "          + ' to learn more about interactive tables.';\n",
              "        element.innerHTML = '';\n",
              "        dataTable['output_type'] = 'display_data';\n",
              "        await google.colab.output.renderOutput(dataTable, element);\n",
              "        const docLink = document.createElement('div');\n",
              "        docLink.innerHTML = docLinkHtml;\n",
              "        element.appendChild(docLink);\n",
              "      }\n",
              "    </script>\n",
              "  </div>\n",
              "\n",
              "\n",
              "<div id=\"df-f1b8a288-cf26-478e-a290-0d14afb39ccf\">\n",
              "  <button class=\"colab-df-quickchart\" onclick=\"quickchart('df-f1b8a288-cf26-478e-a290-0d14afb39ccf')\"\n",
              "            title=\"Suggest charts.\"\n",
              "            style=\"display:none;\">\n",
              "\n",
              "<svg xmlns=\"http://www.w3.org/2000/svg\" height=\"24px\"viewBox=\"0 0 24 24\"\n",
              "     width=\"24px\">\n",
              "    <g>\n",
              "        <path d=\"M19 3H5c-1.1 0-2 .9-2 2v14c0 1.1.9 2 2 2h14c1.1 0 2-.9 2-2V5c0-1.1-.9-2-2-2zM9 17H7v-7h2v7zm4 0h-2V7h2v10zm4 0h-2v-4h2v4z\"/>\n",
              "    </g>\n",
              "</svg>\n",
              "  </button>\n",
              "\n",
              "<style>\n",
              "  .colab-df-quickchart {\n",
              "      --bg-color: #E8F0FE;\n",
              "      --fill-color: #1967D2;\n",
              "      --hover-bg-color: #E2EBFA;\n",
              "      --hover-fill-color: #174EA6;\n",
              "      --disabled-fill-color: #AAA;\n",
              "      --disabled-bg-color: #DDD;\n",
              "  }\n",
              "\n",
              "  [theme=dark] .colab-df-quickchart {\n",
              "      --bg-color: #3B4455;\n",
              "      --fill-color: #D2E3FC;\n",
              "      --hover-bg-color: #434B5C;\n",
              "      --hover-fill-color: #FFFFFF;\n",
              "      --disabled-bg-color: #3B4455;\n",
              "      --disabled-fill-color: #666;\n",
              "  }\n",
              "\n",
              "  .colab-df-quickchart {\n",
              "    background-color: var(--bg-color);\n",
              "    border: none;\n",
              "    border-radius: 50%;\n",
              "    cursor: pointer;\n",
              "    display: none;\n",
              "    fill: var(--fill-color);\n",
              "    height: 32px;\n",
              "    padding: 0;\n",
              "    width: 32px;\n",
              "  }\n",
              "\n",
              "  .colab-df-quickchart:hover {\n",
              "    background-color: var(--hover-bg-color);\n",
              "    box-shadow: 0 1px 2px rgba(60, 64, 67, 0.3), 0 1px 3px 1px rgba(60, 64, 67, 0.15);\n",
              "    fill: var(--button-hover-fill-color);\n",
              "  }\n",
              "\n",
              "  .colab-df-quickchart-complete:disabled,\n",
              "  .colab-df-quickchart-complete:disabled:hover {\n",
              "    background-color: var(--disabled-bg-color);\n",
              "    fill: var(--disabled-fill-color);\n",
              "    box-shadow: none;\n",
              "  }\n",
              "\n",
              "  .colab-df-spinner {\n",
              "    border: 2px solid var(--fill-color);\n",
              "    border-color: transparent;\n",
              "    border-bottom-color: var(--fill-color);\n",
              "    animation:\n",
              "      spin 1s steps(1) infinite;\n",
              "  }\n",
              "\n",
              "  @keyframes spin {\n",
              "    0% {\n",
              "      border-color: transparent;\n",
              "      border-bottom-color: var(--fill-color);\n",
              "      border-left-color: var(--fill-color);\n",
              "    }\n",
              "    20% {\n",
              "      border-color: transparent;\n",
              "      border-left-color: var(--fill-color);\n",
              "      border-top-color: var(--fill-color);\n",
              "    }\n",
              "    30% {\n",
              "      border-color: transparent;\n",
              "      border-left-color: var(--fill-color);\n",
              "      border-top-color: var(--fill-color);\n",
              "      border-right-color: var(--fill-color);\n",
              "    }\n",
              "    40% {\n",
              "      border-color: transparent;\n",
              "      border-right-color: var(--fill-color);\n",
              "      border-top-color: var(--fill-color);\n",
              "    }\n",
              "    60% {\n",
              "      border-color: transparent;\n",
              "      border-right-color: var(--fill-color);\n",
              "    }\n",
              "    80% {\n",
              "      border-color: transparent;\n",
              "      border-right-color: var(--fill-color);\n",
              "      border-bottom-color: var(--fill-color);\n",
              "    }\n",
              "    90% {\n",
              "      border-color: transparent;\n",
              "      border-bottom-color: var(--fill-color);\n",
              "    }\n",
              "  }\n",
              "</style>\n",
              "\n",
              "  <script>\n",
              "    async function quickchart(key) {\n",
              "      const quickchartButtonEl =\n",
              "        document.querySelector('#' + key + ' button');\n",
              "      quickchartButtonEl.disabled = true;  // To prevent multiple clicks.\n",
              "      quickchartButtonEl.classList.add('colab-df-spinner');\n",
              "      try {\n",
              "        const charts = await google.colab.kernel.invokeFunction(\n",
              "            'suggestCharts', [key], {});\n",
              "      } catch (error) {\n",
              "        console.error('Error during call to suggestCharts:', error);\n",
              "      }\n",
              "      quickchartButtonEl.classList.remove('colab-df-spinner');\n",
              "      quickchartButtonEl.classList.add('colab-df-quickchart-complete');\n",
              "    }\n",
              "    (() => {\n",
              "      let quickchartButtonEl =\n",
              "        document.querySelector('#df-f1b8a288-cf26-478e-a290-0d14afb39ccf button');\n",
              "      quickchartButtonEl.style.display =\n",
              "        google.colab.kernel.accessAllowed ? 'block' : 'none';\n",
              "    })();\n",
              "  </script>\n",
              "</div>\n",
              "    </div>\n",
              "  </div>\n"
            ]
          },
          "metadata": {},
          "execution_count": 137
        }
      ]
    },
    {
      "cell_type": "code",
      "source": [
        "#SalesCal\n",
        "SalesCal.head(10)"
      ],
      "metadata": {
        "colab": {
          "base_uri": "https://localhost:8080/",
          "height": 363
        },
        "id": "9LQPQWTZsVl-",
        "outputId": "ee814409-ea1f-40c8-ddb9-9ba0a83a7500"
      },
      "execution_count": 138,
      "outputs": [
        {
          "output_type": "execute_result",
          "data": {
            "text/plain": [
              "   Unnamed: 0  Unnamed: 1               Sales Calendar\n",
              "0         NaN      2015.0               (18-19th July)\n",
              "1         NaN         NaN                (15-17th Aug)\n",
              "2         NaN         NaN                (28-30th Aug)\n",
              "3         NaN         NaN                (15-17th Oct)\n",
              "4         NaN         NaN                 (7-14th Nov)\n",
              "5         NaN         NaN   (25th Dec'15 - 3rd Jan'16)\n",
              "6         NaN      2016.0                  (20-22 Jan)\n",
              "7         NaN         NaN                    (1-2 Feb)\n",
              "8         NaN         NaN                  (20-21 Feb)\n",
              "9         NaN         NaN                  (14-15 Feb)"
            ],
            "text/html": [
              "\n",
              "  <div id=\"df-7e4635e3-6f59-4ca4-8379-28b55c376971\" class=\"colab-df-container\">\n",
              "    <div>\n",
              "<style scoped>\n",
              "    .dataframe tbody tr th:only-of-type {\n",
              "        vertical-align: middle;\n",
              "    }\n",
              "\n",
              "    .dataframe tbody tr th {\n",
              "        vertical-align: top;\n",
              "    }\n",
              "\n",
              "    .dataframe thead th {\n",
              "        text-align: right;\n",
              "    }\n",
              "</style>\n",
              "<table border=\"1\" class=\"dataframe\">\n",
              "  <thead>\n",
              "    <tr style=\"text-align: right;\">\n",
              "      <th></th>\n",
              "      <th>Unnamed: 0</th>\n",
              "      <th>Unnamed: 1</th>\n",
              "      <th>Sales Calendar</th>\n",
              "    </tr>\n",
              "  </thead>\n",
              "  <tbody>\n",
              "    <tr>\n",
              "      <th>0</th>\n",
              "      <td>NaN</td>\n",
              "      <td>2015.0</td>\n",
              "      <td>(18-19th July)</td>\n",
              "    </tr>\n",
              "    <tr>\n",
              "      <th>1</th>\n",
              "      <td>NaN</td>\n",
              "      <td>NaN</td>\n",
              "      <td>(15-17th Aug)</td>\n",
              "    </tr>\n",
              "    <tr>\n",
              "      <th>2</th>\n",
              "      <td>NaN</td>\n",
              "      <td>NaN</td>\n",
              "      <td>(28-30th Aug)</td>\n",
              "    </tr>\n",
              "    <tr>\n",
              "      <th>3</th>\n",
              "      <td>NaN</td>\n",
              "      <td>NaN</td>\n",
              "      <td>(15-17th Oct)</td>\n",
              "    </tr>\n",
              "    <tr>\n",
              "      <th>4</th>\n",
              "      <td>NaN</td>\n",
              "      <td>NaN</td>\n",
              "      <td>(7-14th Nov)</td>\n",
              "    </tr>\n",
              "    <tr>\n",
              "      <th>5</th>\n",
              "      <td>NaN</td>\n",
              "      <td>NaN</td>\n",
              "      <td>(25th Dec'15 - 3rd Jan'16)</td>\n",
              "    </tr>\n",
              "    <tr>\n",
              "      <th>6</th>\n",
              "      <td>NaN</td>\n",
              "      <td>2016.0</td>\n",
              "      <td>(20-22 Jan)</td>\n",
              "    </tr>\n",
              "    <tr>\n",
              "      <th>7</th>\n",
              "      <td>NaN</td>\n",
              "      <td>NaN</td>\n",
              "      <td>(1-2 Feb)</td>\n",
              "    </tr>\n",
              "    <tr>\n",
              "      <th>8</th>\n",
              "      <td>NaN</td>\n",
              "      <td>NaN</td>\n",
              "      <td>(20-21 Feb)</td>\n",
              "    </tr>\n",
              "    <tr>\n",
              "      <th>9</th>\n",
              "      <td>NaN</td>\n",
              "      <td>NaN</td>\n",
              "      <td>(14-15 Feb)</td>\n",
              "    </tr>\n",
              "  </tbody>\n",
              "</table>\n",
              "</div>\n",
              "    <div class=\"colab-df-buttons\">\n",
              "\n",
              "  <div class=\"colab-df-container\">\n",
              "    <button class=\"colab-df-convert\" onclick=\"convertToInteractive('df-7e4635e3-6f59-4ca4-8379-28b55c376971')\"\n",
              "            title=\"Convert this dataframe to an interactive table.\"\n",
              "            style=\"display:none;\">\n",
              "\n",
              "  <svg xmlns=\"http://www.w3.org/2000/svg\" height=\"24px\" viewBox=\"0 -960 960 960\">\n",
              "    <path d=\"M120-120v-720h720v720H120Zm60-500h600v-160H180v160Zm220 220h160v-160H400v160Zm0 220h160v-160H400v160ZM180-400h160v-160H180v160Zm440 0h160v-160H620v160ZM180-180h160v-160H180v160Zm440 0h160v-160H620v160Z\"/>\n",
              "  </svg>\n",
              "    </button>\n",
              "\n",
              "  <style>\n",
              "    .colab-df-container {\n",
              "      display:flex;\n",
              "      gap: 12px;\n",
              "    }\n",
              "\n",
              "    .colab-df-convert {\n",
              "      background-color: #E8F0FE;\n",
              "      border: none;\n",
              "      border-radius: 50%;\n",
              "      cursor: pointer;\n",
              "      display: none;\n",
              "      fill: #1967D2;\n",
              "      height: 32px;\n",
              "      padding: 0 0 0 0;\n",
              "      width: 32px;\n",
              "    }\n",
              "\n",
              "    .colab-df-convert:hover {\n",
              "      background-color: #E2EBFA;\n",
              "      box-shadow: 0px 1px 2px rgba(60, 64, 67, 0.3), 0px 1px 3px 1px rgba(60, 64, 67, 0.15);\n",
              "      fill: #174EA6;\n",
              "    }\n",
              "\n",
              "    .colab-df-buttons div {\n",
              "      margin-bottom: 4px;\n",
              "    }\n",
              "\n",
              "    [theme=dark] .colab-df-convert {\n",
              "      background-color: #3B4455;\n",
              "      fill: #D2E3FC;\n",
              "    }\n",
              "\n",
              "    [theme=dark] .colab-df-convert:hover {\n",
              "      background-color: #434B5C;\n",
              "      box-shadow: 0px 1px 3px 1px rgba(0, 0, 0, 0.15);\n",
              "      filter: drop-shadow(0px 1px 2px rgba(0, 0, 0, 0.3));\n",
              "      fill: #FFFFFF;\n",
              "    }\n",
              "  </style>\n",
              "\n",
              "    <script>\n",
              "      const buttonEl =\n",
              "        document.querySelector('#df-7e4635e3-6f59-4ca4-8379-28b55c376971 button.colab-df-convert');\n",
              "      buttonEl.style.display =\n",
              "        google.colab.kernel.accessAllowed ? 'block' : 'none';\n",
              "\n",
              "      async function convertToInteractive(key) {\n",
              "        const element = document.querySelector('#df-7e4635e3-6f59-4ca4-8379-28b55c376971');\n",
              "        const dataTable =\n",
              "          await google.colab.kernel.invokeFunction('convertToInteractive',\n",
              "                                                    [key], {});\n",
              "        if (!dataTable) return;\n",
              "\n",
              "        const docLinkHtml = 'Like what you see? Visit the ' +\n",
              "          '<a target=\"_blank\" href=https://colab.research.google.com/notebooks/data_table.ipynb>data table notebook</a>'\n",
              "          + ' to learn more about interactive tables.';\n",
              "        element.innerHTML = '';\n",
              "        dataTable['output_type'] = 'display_data';\n",
              "        await google.colab.output.renderOutput(dataTable, element);\n",
              "        const docLink = document.createElement('div');\n",
              "        docLink.innerHTML = docLinkHtml;\n",
              "        element.appendChild(docLink);\n",
              "      }\n",
              "    </script>\n",
              "  </div>\n",
              "\n",
              "\n",
              "<div id=\"df-a3a383fd-b7ae-44ae-818f-8258472ff96d\">\n",
              "  <button class=\"colab-df-quickchart\" onclick=\"quickchart('df-a3a383fd-b7ae-44ae-818f-8258472ff96d')\"\n",
              "            title=\"Suggest charts.\"\n",
              "            style=\"display:none;\">\n",
              "\n",
              "<svg xmlns=\"http://www.w3.org/2000/svg\" height=\"24px\"viewBox=\"0 0 24 24\"\n",
              "     width=\"24px\">\n",
              "    <g>\n",
              "        <path d=\"M19 3H5c-1.1 0-2 .9-2 2v14c0 1.1.9 2 2 2h14c1.1 0 2-.9 2-2V5c0-1.1-.9-2-2-2zM9 17H7v-7h2v7zm4 0h-2V7h2v10zm4 0h-2v-4h2v4z\"/>\n",
              "    </g>\n",
              "</svg>\n",
              "  </button>\n",
              "\n",
              "<style>\n",
              "  .colab-df-quickchart {\n",
              "      --bg-color: #E8F0FE;\n",
              "      --fill-color: #1967D2;\n",
              "      --hover-bg-color: #E2EBFA;\n",
              "      --hover-fill-color: #174EA6;\n",
              "      --disabled-fill-color: #AAA;\n",
              "      --disabled-bg-color: #DDD;\n",
              "  }\n",
              "\n",
              "  [theme=dark] .colab-df-quickchart {\n",
              "      --bg-color: #3B4455;\n",
              "      --fill-color: #D2E3FC;\n",
              "      --hover-bg-color: #434B5C;\n",
              "      --hover-fill-color: #FFFFFF;\n",
              "      --disabled-bg-color: #3B4455;\n",
              "      --disabled-fill-color: #666;\n",
              "  }\n",
              "\n",
              "  .colab-df-quickchart {\n",
              "    background-color: var(--bg-color);\n",
              "    border: none;\n",
              "    border-radius: 50%;\n",
              "    cursor: pointer;\n",
              "    display: none;\n",
              "    fill: var(--fill-color);\n",
              "    height: 32px;\n",
              "    padding: 0;\n",
              "    width: 32px;\n",
              "  }\n",
              "\n",
              "  .colab-df-quickchart:hover {\n",
              "    background-color: var(--hover-bg-color);\n",
              "    box-shadow: 0 1px 2px rgba(60, 64, 67, 0.3), 0 1px 3px 1px rgba(60, 64, 67, 0.15);\n",
              "    fill: var(--button-hover-fill-color);\n",
              "  }\n",
              "\n",
              "  .colab-df-quickchart-complete:disabled,\n",
              "  .colab-df-quickchart-complete:disabled:hover {\n",
              "    background-color: var(--disabled-bg-color);\n",
              "    fill: var(--disabled-fill-color);\n",
              "    box-shadow: none;\n",
              "  }\n",
              "\n",
              "  .colab-df-spinner {\n",
              "    border: 2px solid var(--fill-color);\n",
              "    border-color: transparent;\n",
              "    border-bottom-color: var(--fill-color);\n",
              "    animation:\n",
              "      spin 1s steps(1) infinite;\n",
              "  }\n",
              "\n",
              "  @keyframes spin {\n",
              "    0% {\n",
              "      border-color: transparent;\n",
              "      border-bottom-color: var(--fill-color);\n",
              "      border-left-color: var(--fill-color);\n",
              "    }\n",
              "    20% {\n",
              "      border-color: transparent;\n",
              "      border-left-color: var(--fill-color);\n",
              "      border-top-color: var(--fill-color);\n",
              "    }\n",
              "    30% {\n",
              "      border-color: transparent;\n",
              "      border-left-color: var(--fill-color);\n",
              "      border-top-color: var(--fill-color);\n",
              "      border-right-color: var(--fill-color);\n",
              "    }\n",
              "    40% {\n",
              "      border-color: transparent;\n",
              "      border-right-color: var(--fill-color);\n",
              "      border-top-color: var(--fill-color);\n",
              "    }\n",
              "    60% {\n",
              "      border-color: transparent;\n",
              "      border-right-color: var(--fill-color);\n",
              "    }\n",
              "    80% {\n",
              "      border-color: transparent;\n",
              "      border-right-color: var(--fill-color);\n",
              "      border-bottom-color: var(--fill-color);\n",
              "    }\n",
              "    90% {\n",
              "      border-color: transparent;\n",
              "      border-bottom-color: var(--fill-color);\n",
              "    }\n",
              "  }\n",
              "</style>\n",
              "\n",
              "  <script>\n",
              "    async function quickchart(key) {\n",
              "      const quickchartButtonEl =\n",
              "        document.querySelector('#' + key + ' button');\n",
              "      quickchartButtonEl.disabled = true;  // To prevent multiple clicks.\n",
              "      quickchartButtonEl.classList.add('colab-df-spinner');\n",
              "      try {\n",
              "        const charts = await google.colab.kernel.invokeFunction(\n",
              "            'suggestCharts', [key], {});\n",
              "      } catch (error) {\n",
              "        console.error('Error during call to suggestCharts:', error);\n",
              "      }\n",
              "      quickchartButtonEl.classList.remove('colab-df-spinner');\n",
              "      quickchartButtonEl.classList.add('colab-df-quickchart-complete');\n",
              "    }\n",
              "    (() => {\n",
              "      let quickchartButtonEl =\n",
              "        document.querySelector('#df-a3a383fd-b7ae-44ae-818f-8258472ff96d button');\n",
              "      quickchartButtonEl.style.display =\n",
              "        google.colab.kernel.accessAllowed ? 'block' : 'none';\n",
              "    })();\n",
              "  </script>\n",
              "</div>\n",
              "    </div>\n",
              "  </div>\n"
            ]
          },
          "metadata": {},
          "execution_count": 138
        }
      ]
    },
    {
      "cell_type": "code",
      "source": [
        "SalesCal=SalesCal.drop(\"Unnamed: 0\",1)\n",
        "SalesCal.rename(columns={\"Unnamed: 1\":\"Year\"},inplace=True)"
      ],
      "metadata": {
        "id": "tz3-Uof2sVod",
        "outputId": "7b2bb475-3ca0-409d-c5fc-e310a082dd95",
        "colab": {
          "base_uri": "https://localhost:8080/"
        }
      },
      "execution_count": 139,
      "outputs": [
        {
          "output_type": "stream",
          "name": "stderr",
          "text": [
            "<ipython-input-139-3ef3e6c831f7>:1: FutureWarning: In a future version of pandas all arguments of DataFrame.drop except for the argument 'labels' will be keyword-only.\n",
            "  SalesCal=SalesCal.drop(\"Unnamed: 0\",1)\n"
          ]
        }
      ]
    },
    {
      "cell_type": "code",
      "source": [
        "SalesCal.iloc[0:6,0:1]='2015'\n",
        "SalesCal.iloc[6:11,0:1]='2016'"
      ],
      "metadata": {
        "id": "xL-FkycjsVrC"
      },
      "execution_count": 140,
      "outputs": []
    },
    {
      "cell_type": "code",
      "source": [
        "SalesCal"
      ],
      "metadata": {
        "colab": {
          "base_uri": "https://localhost:8080/",
          "height": 426
        },
        "id": "ltti0ca3zcE-",
        "outputId": "5fc5d41e-2249-43b5-debb-5c908808f43e"
      },
      "execution_count": 141,
      "outputs": [
        {
          "output_type": "execute_result",
          "data": {
            "text/plain": [
              "    Year               Sales Calendar\n",
              "0   2015               (18-19th July)\n",
              "1   2015                (15-17th Aug)\n",
              "2   2015                (28-30th Aug)\n",
              "3   2015                (15-17th Oct)\n",
              "4   2015                 (7-14th Nov)\n",
              "5   2015   (25th Dec'15 - 3rd Jan'16)\n",
              "6   2016                  (20-22 Jan)\n",
              "7   2016                    (1-2 Feb)\n",
              "8   2016                  (20-21 Feb)\n",
              "9   2016                  (14-15 Feb)\n",
              "10  2016                    (7-9 Mar)\n",
              "11   NaN                  (25-27 May)"
            ],
            "text/html": [
              "\n",
              "  <div id=\"df-0a67d601-8d1b-4be3-8a2d-0b24661380f9\" class=\"colab-df-container\">\n",
              "    <div>\n",
              "<style scoped>\n",
              "    .dataframe tbody tr th:only-of-type {\n",
              "        vertical-align: middle;\n",
              "    }\n",
              "\n",
              "    .dataframe tbody tr th {\n",
              "        vertical-align: top;\n",
              "    }\n",
              "\n",
              "    .dataframe thead th {\n",
              "        text-align: right;\n",
              "    }\n",
              "</style>\n",
              "<table border=\"1\" class=\"dataframe\">\n",
              "  <thead>\n",
              "    <tr style=\"text-align: right;\">\n",
              "      <th></th>\n",
              "      <th>Year</th>\n",
              "      <th>Sales Calendar</th>\n",
              "    </tr>\n",
              "  </thead>\n",
              "  <tbody>\n",
              "    <tr>\n",
              "      <th>0</th>\n",
              "      <td>2015</td>\n",
              "      <td>(18-19th July)</td>\n",
              "    </tr>\n",
              "    <tr>\n",
              "      <th>1</th>\n",
              "      <td>2015</td>\n",
              "      <td>(15-17th Aug)</td>\n",
              "    </tr>\n",
              "    <tr>\n",
              "      <th>2</th>\n",
              "      <td>2015</td>\n",
              "      <td>(28-30th Aug)</td>\n",
              "    </tr>\n",
              "    <tr>\n",
              "      <th>3</th>\n",
              "      <td>2015</td>\n",
              "      <td>(15-17th Oct)</td>\n",
              "    </tr>\n",
              "    <tr>\n",
              "      <th>4</th>\n",
              "      <td>2015</td>\n",
              "      <td>(7-14th Nov)</td>\n",
              "    </tr>\n",
              "    <tr>\n",
              "      <th>5</th>\n",
              "      <td>2015</td>\n",
              "      <td>(25th Dec'15 - 3rd Jan'16)</td>\n",
              "    </tr>\n",
              "    <tr>\n",
              "      <th>6</th>\n",
              "      <td>2016</td>\n",
              "      <td>(20-22 Jan)</td>\n",
              "    </tr>\n",
              "    <tr>\n",
              "      <th>7</th>\n",
              "      <td>2016</td>\n",
              "      <td>(1-2 Feb)</td>\n",
              "    </tr>\n",
              "    <tr>\n",
              "      <th>8</th>\n",
              "      <td>2016</td>\n",
              "      <td>(20-21 Feb)</td>\n",
              "    </tr>\n",
              "    <tr>\n",
              "      <th>9</th>\n",
              "      <td>2016</td>\n",
              "      <td>(14-15 Feb)</td>\n",
              "    </tr>\n",
              "    <tr>\n",
              "      <th>10</th>\n",
              "      <td>2016</td>\n",
              "      <td>(7-9 Mar)</td>\n",
              "    </tr>\n",
              "    <tr>\n",
              "      <th>11</th>\n",
              "      <td>NaN</td>\n",
              "      <td>(25-27 May)</td>\n",
              "    </tr>\n",
              "  </tbody>\n",
              "</table>\n",
              "</div>\n",
              "    <div class=\"colab-df-buttons\">\n",
              "\n",
              "  <div class=\"colab-df-container\">\n",
              "    <button class=\"colab-df-convert\" onclick=\"convertToInteractive('df-0a67d601-8d1b-4be3-8a2d-0b24661380f9')\"\n",
              "            title=\"Convert this dataframe to an interactive table.\"\n",
              "            style=\"display:none;\">\n",
              "\n",
              "  <svg xmlns=\"http://www.w3.org/2000/svg\" height=\"24px\" viewBox=\"0 -960 960 960\">\n",
              "    <path d=\"M120-120v-720h720v720H120Zm60-500h600v-160H180v160Zm220 220h160v-160H400v160Zm0 220h160v-160H400v160ZM180-400h160v-160H180v160Zm440 0h160v-160H620v160ZM180-180h160v-160H180v160Zm440 0h160v-160H620v160Z\"/>\n",
              "  </svg>\n",
              "    </button>\n",
              "\n",
              "  <style>\n",
              "    .colab-df-container {\n",
              "      display:flex;\n",
              "      gap: 12px;\n",
              "    }\n",
              "\n",
              "    .colab-df-convert {\n",
              "      background-color: #E8F0FE;\n",
              "      border: none;\n",
              "      border-radius: 50%;\n",
              "      cursor: pointer;\n",
              "      display: none;\n",
              "      fill: #1967D2;\n",
              "      height: 32px;\n",
              "      padding: 0 0 0 0;\n",
              "      width: 32px;\n",
              "    }\n",
              "\n",
              "    .colab-df-convert:hover {\n",
              "      background-color: #E2EBFA;\n",
              "      box-shadow: 0px 1px 2px rgba(60, 64, 67, 0.3), 0px 1px 3px 1px rgba(60, 64, 67, 0.15);\n",
              "      fill: #174EA6;\n",
              "    }\n",
              "\n",
              "    .colab-df-buttons div {\n",
              "      margin-bottom: 4px;\n",
              "    }\n",
              "\n",
              "    [theme=dark] .colab-df-convert {\n",
              "      background-color: #3B4455;\n",
              "      fill: #D2E3FC;\n",
              "    }\n",
              "\n",
              "    [theme=dark] .colab-df-convert:hover {\n",
              "      background-color: #434B5C;\n",
              "      box-shadow: 0px 1px 3px 1px rgba(0, 0, 0, 0.15);\n",
              "      filter: drop-shadow(0px 1px 2px rgba(0, 0, 0, 0.3));\n",
              "      fill: #FFFFFF;\n",
              "    }\n",
              "  </style>\n",
              "\n",
              "    <script>\n",
              "      const buttonEl =\n",
              "        document.querySelector('#df-0a67d601-8d1b-4be3-8a2d-0b24661380f9 button.colab-df-convert');\n",
              "      buttonEl.style.display =\n",
              "        google.colab.kernel.accessAllowed ? 'block' : 'none';\n",
              "\n",
              "      async function convertToInteractive(key) {\n",
              "        const element = document.querySelector('#df-0a67d601-8d1b-4be3-8a2d-0b24661380f9');\n",
              "        const dataTable =\n",
              "          await google.colab.kernel.invokeFunction('convertToInteractive',\n",
              "                                                    [key], {});\n",
              "        if (!dataTable) return;\n",
              "\n",
              "        const docLinkHtml = 'Like what you see? Visit the ' +\n",
              "          '<a target=\"_blank\" href=https://colab.research.google.com/notebooks/data_table.ipynb>data table notebook</a>'\n",
              "          + ' to learn more about interactive tables.';\n",
              "        element.innerHTML = '';\n",
              "        dataTable['output_type'] = 'display_data';\n",
              "        await google.colab.output.renderOutput(dataTable, element);\n",
              "        const docLink = document.createElement('div');\n",
              "        docLink.innerHTML = docLinkHtml;\n",
              "        element.appendChild(docLink);\n",
              "      }\n",
              "    </script>\n",
              "  </div>\n",
              "\n",
              "\n",
              "<div id=\"df-914e1b32-857c-4ef7-a96c-b2ca765639f5\">\n",
              "  <button class=\"colab-df-quickchart\" onclick=\"quickchart('df-914e1b32-857c-4ef7-a96c-b2ca765639f5')\"\n",
              "            title=\"Suggest charts.\"\n",
              "            style=\"display:none;\">\n",
              "\n",
              "<svg xmlns=\"http://www.w3.org/2000/svg\" height=\"24px\"viewBox=\"0 0 24 24\"\n",
              "     width=\"24px\">\n",
              "    <g>\n",
              "        <path d=\"M19 3H5c-1.1 0-2 .9-2 2v14c0 1.1.9 2 2 2h14c1.1 0 2-.9 2-2V5c0-1.1-.9-2-2-2zM9 17H7v-7h2v7zm4 0h-2V7h2v10zm4 0h-2v-4h2v4z\"/>\n",
              "    </g>\n",
              "</svg>\n",
              "  </button>\n",
              "\n",
              "<style>\n",
              "  .colab-df-quickchart {\n",
              "      --bg-color: #E8F0FE;\n",
              "      --fill-color: #1967D2;\n",
              "      --hover-bg-color: #E2EBFA;\n",
              "      --hover-fill-color: #174EA6;\n",
              "      --disabled-fill-color: #AAA;\n",
              "      --disabled-bg-color: #DDD;\n",
              "  }\n",
              "\n",
              "  [theme=dark] .colab-df-quickchart {\n",
              "      --bg-color: #3B4455;\n",
              "      --fill-color: #D2E3FC;\n",
              "      --hover-bg-color: #434B5C;\n",
              "      --hover-fill-color: #FFFFFF;\n",
              "      --disabled-bg-color: #3B4455;\n",
              "      --disabled-fill-color: #666;\n",
              "  }\n",
              "\n",
              "  .colab-df-quickchart {\n",
              "    background-color: var(--bg-color);\n",
              "    border: none;\n",
              "    border-radius: 50%;\n",
              "    cursor: pointer;\n",
              "    display: none;\n",
              "    fill: var(--fill-color);\n",
              "    height: 32px;\n",
              "    padding: 0;\n",
              "    width: 32px;\n",
              "  }\n",
              "\n",
              "  .colab-df-quickchart:hover {\n",
              "    background-color: var(--hover-bg-color);\n",
              "    box-shadow: 0 1px 2px rgba(60, 64, 67, 0.3), 0 1px 3px 1px rgba(60, 64, 67, 0.15);\n",
              "    fill: var(--button-hover-fill-color);\n",
              "  }\n",
              "\n",
              "  .colab-df-quickchart-complete:disabled,\n",
              "  .colab-df-quickchart-complete:disabled:hover {\n",
              "    background-color: var(--disabled-bg-color);\n",
              "    fill: var(--disabled-fill-color);\n",
              "    box-shadow: none;\n",
              "  }\n",
              "\n",
              "  .colab-df-spinner {\n",
              "    border: 2px solid var(--fill-color);\n",
              "    border-color: transparent;\n",
              "    border-bottom-color: var(--fill-color);\n",
              "    animation:\n",
              "      spin 1s steps(1) infinite;\n",
              "  }\n",
              "\n",
              "  @keyframes spin {\n",
              "    0% {\n",
              "      border-color: transparent;\n",
              "      border-bottom-color: var(--fill-color);\n",
              "      border-left-color: var(--fill-color);\n",
              "    }\n",
              "    20% {\n",
              "      border-color: transparent;\n",
              "      border-left-color: var(--fill-color);\n",
              "      border-top-color: var(--fill-color);\n",
              "    }\n",
              "    30% {\n",
              "      border-color: transparent;\n",
              "      border-left-color: var(--fill-color);\n",
              "      border-top-color: var(--fill-color);\n",
              "      border-right-color: var(--fill-color);\n",
              "    }\n",
              "    40% {\n",
              "      border-color: transparent;\n",
              "      border-right-color: var(--fill-color);\n",
              "      border-top-color: var(--fill-color);\n",
              "    }\n",
              "    60% {\n",
              "      border-color: transparent;\n",
              "      border-right-color: var(--fill-color);\n",
              "    }\n",
              "    80% {\n",
              "      border-color: transparent;\n",
              "      border-right-color: var(--fill-color);\n",
              "      border-bottom-color: var(--fill-color);\n",
              "    }\n",
              "    90% {\n",
              "      border-color: transparent;\n",
              "      border-bottom-color: var(--fill-color);\n",
              "    }\n",
              "  }\n",
              "</style>\n",
              "\n",
              "  <script>\n",
              "    async function quickchart(key) {\n",
              "      const quickchartButtonEl =\n",
              "        document.querySelector('#' + key + ' button');\n",
              "      quickchartButtonEl.disabled = true;  // To prevent multiple clicks.\n",
              "      quickchartButtonEl.classList.add('colab-df-spinner');\n",
              "      try {\n",
              "        const charts = await google.colab.kernel.invokeFunction(\n",
              "            'suggestCharts', [key], {});\n",
              "      } catch (error) {\n",
              "        console.error('Error during call to suggestCharts:', error);\n",
              "      }\n",
              "      quickchartButtonEl.classList.remove('colab-df-spinner');\n",
              "      quickchartButtonEl.classList.add('colab-df-quickchart-complete');\n",
              "    }\n",
              "    (() => {\n",
              "      let quickchartButtonEl =\n",
              "        document.querySelector('#df-914e1b32-857c-4ef7-a96c-b2ca765639f5 button');\n",
              "      quickchartButtonEl.style.display =\n",
              "        google.colab.kernel.accessAllowed ? 'block' : 'none';\n",
              "    })();\n",
              "  </script>\n",
              "</div>\n",
              "    </div>\n",
              "  </div>\n"
            ]
          },
          "metadata": {},
          "execution_count": 141
        }
      ]
    },
    {
      "cell_type": "code",
      "source": [
        "MonthlyNPS.rename(columns={\"Unnamed: 0\":\"Header\"},inplace=True)"
      ],
      "metadata": {
        "id": "-fY85JtMzvCj"
      },
      "execution_count": 142,
      "outputs": []
    },
    {
      "cell_type": "markdown",
      "source": [
        "# Data Cleaning"
      ],
      "metadata": {
        "id": "NrsAzbRE1Clv"
      }
    },
    {
      "cell_type": "code",
      "source": [
        "EleData.info()"
      ],
      "metadata": {
        "colab": {
          "base_uri": "https://localhost:8080/",
          "height": 73
        },
        "id": "wGTwHKu1QwCc",
        "outputId": "6f90612d-1435-4034-c9a6-82cdbcabc8c5"
      },
      "execution_count": 163,
      "outputs": [
        {
          "output_type": "execute_result",
          "data": {
            "text/plain": [
              "Empty DataFrame\n",
              "Columns: [fsn_id, order_date, Year, Month, order_id, order_item_id, gmv, units, deliverybdays, deliverycdays, s1_fact.order_payment_type, sla, cust_id, pincode, product_analytic_super_category, product_analytic_category, product_analytic_sub_category, product_analytic_vertical, product_mrp, product_procurement_sla]\n",
              "Index: []"
            ],
            "text/html": [
              "\n",
              "  <div id=\"df-c1745279-3dc4-4f95-acd3-8e074dfa9ff8\" class=\"colab-df-container\">\n",
              "    <div>\n",
              "<style scoped>\n",
              "    .dataframe tbody tr th:only-of-type {\n",
              "        vertical-align: middle;\n",
              "    }\n",
              "\n",
              "    .dataframe tbody tr th {\n",
              "        vertical-align: top;\n",
              "    }\n",
              "\n",
              "    .dataframe thead th {\n",
              "        text-align: right;\n",
              "    }\n",
              "</style>\n",
              "<table border=\"1\" class=\"dataframe\">\n",
              "  <thead>\n",
              "    <tr style=\"text-align: right;\">\n",
              "      <th></th>\n",
              "      <th>fsn_id</th>\n",
              "      <th>order_date</th>\n",
              "      <th>Year</th>\n",
              "      <th>Month</th>\n",
              "      <th>order_id</th>\n",
              "      <th>order_item_id</th>\n",
              "      <th>gmv</th>\n",
              "      <th>units</th>\n",
              "      <th>deliverybdays</th>\n",
              "      <th>deliverycdays</th>\n",
              "      <th>s1_fact.order_payment_type</th>\n",
              "      <th>sla</th>\n",
              "      <th>cust_id</th>\n",
              "      <th>pincode</th>\n",
              "      <th>product_analytic_super_category</th>\n",
              "      <th>product_analytic_category</th>\n",
              "      <th>product_analytic_sub_category</th>\n",
              "      <th>product_analytic_vertical</th>\n",
              "      <th>product_mrp</th>\n",
              "      <th>product_procurement_sla</th>\n",
              "    </tr>\n",
              "  </thead>\n",
              "  <tbody>\n",
              "  </tbody>\n",
              "</table>\n",
              "</div>\n",
              "    <div class=\"colab-df-buttons\">\n",
              "\n",
              "  <div class=\"colab-df-container\">\n",
              "    <button class=\"colab-df-convert\" onclick=\"convertToInteractive('df-c1745279-3dc4-4f95-acd3-8e074dfa9ff8')\"\n",
              "            title=\"Convert this dataframe to an interactive table.\"\n",
              "            style=\"display:none;\">\n",
              "\n",
              "  <svg xmlns=\"http://www.w3.org/2000/svg\" height=\"24px\" viewBox=\"0 -960 960 960\">\n",
              "    <path d=\"M120-120v-720h720v720H120Zm60-500h600v-160H180v160Zm220 220h160v-160H400v160Zm0 220h160v-160H400v160ZM180-400h160v-160H180v160Zm440 0h160v-160H620v160ZM180-180h160v-160H180v160Zm440 0h160v-160H620v160Z\"/>\n",
              "  </svg>\n",
              "    </button>\n",
              "\n",
              "  <style>\n",
              "    .colab-df-container {\n",
              "      display:flex;\n",
              "      gap: 12px;\n",
              "    }\n",
              "\n",
              "    .colab-df-convert {\n",
              "      background-color: #E8F0FE;\n",
              "      border: none;\n",
              "      border-radius: 50%;\n",
              "      cursor: pointer;\n",
              "      display: none;\n",
              "      fill: #1967D2;\n",
              "      height: 32px;\n",
              "      padding: 0 0 0 0;\n",
              "      width: 32px;\n",
              "    }\n",
              "\n",
              "    .colab-df-convert:hover {\n",
              "      background-color: #E2EBFA;\n",
              "      box-shadow: 0px 1px 2px rgba(60, 64, 67, 0.3), 0px 1px 3px 1px rgba(60, 64, 67, 0.15);\n",
              "      fill: #174EA6;\n",
              "    }\n",
              "\n",
              "    .colab-df-buttons div {\n",
              "      margin-bottom: 4px;\n",
              "    }\n",
              "\n",
              "    [theme=dark] .colab-df-convert {\n",
              "      background-color: #3B4455;\n",
              "      fill: #D2E3FC;\n",
              "    }\n",
              "\n",
              "    [theme=dark] .colab-df-convert:hover {\n",
              "      background-color: #434B5C;\n",
              "      box-shadow: 0px 1px 3px 1px rgba(0, 0, 0, 0.15);\n",
              "      filter: drop-shadow(0px 1px 2px rgba(0, 0, 0, 0.3));\n",
              "      fill: #FFFFFF;\n",
              "    }\n",
              "  </style>\n",
              "\n",
              "    <script>\n",
              "      const buttonEl =\n",
              "        document.querySelector('#df-c1745279-3dc4-4f95-acd3-8e074dfa9ff8 button.colab-df-convert');\n",
              "      buttonEl.style.display =\n",
              "        google.colab.kernel.accessAllowed ? 'block' : 'none';\n",
              "\n",
              "      async function convertToInteractive(key) {\n",
              "        const element = document.querySelector('#df-c1745279-3dc4-4f95-acd3-8e074dfa9ff8');\n",
              "        const dataTable =\n",
              "          await google.colab.kernel.invokeFunction('convertToInteractive',\n",
              "                                                    [key], {});\n",
              "        if (!dataTable) return;\n",
              "\n",
              "        const docLinkHtml = 'Like what you see? Visit the ' +\n",
              "          '<a target=\"_blank\" href=https://colab.research.google.com/notebooks/data_table.ipynb>data table notebook</a>'\n",
              "          + ' to learn more about interactive tables.';\n",
              "        element.innerHTML = '';\n",
              "        dataTable['output_type'] = 'display_data';\n",
              "        await google.colab.output.renderOutput(dataTable, element);\n",
              "        const docLink = document.createElement('div');\n",
              "        docLink.innerHTML = docLinkHtml;\n",
              "        element.appendChild(docLink);\n",
              "      }\n",
              "    </script>\n",
              "  </div>\n",
              "\n",
              "    </div>\n",
              "  </div>\n"
            ]
          },
          "metadata": {},
          "execution_count": 163
        }
      ]
    },
    {
      "cell_type": "code",
      "source": [
        "EleData.info()\n",
        "# EleData.isnull().sum()"
      ],
      "metadata": {
        "colab": {
          "base_uri": "https://localhost:8080/"
        },
        "id": "R7JnFVez1G3-",
        "outputId": "4ffed6e7-2754-4d3a-d38e-99fcd26f1d83"
      },
      "execution_count": 144,
      "outputs": [
        {
          "output_type": "stream",
          "name": "stdout",
          "text": [
            "<class 'pandas.core.frame.DataFrame'>\n",
            "RangeIndex: 1648824 entries, 0 to 1648823\n",
            "Data columns (total 20 columns):\n",
            " #   Column                           Non-Null Count    Dtype  \n",
            "---  ------                           --------------    -----  \n",
            " 0   fsn_id                           1648824 non-null  object \n",
            " 1   order_date                       1648824 non-null  object \n",
            " 2   Year                             1648824 non-null  int64  \n",
            " 3   Month                            1648824 non-null  int64  \n",
            " 4   order_id                         1648824 non-null  float64\n",
            " 5   order_item_id                    1648824 non-null  float64\n",
            " 6   gmv                              1648824 non-null  object \n",
            " 7   units                            1648824 non-null  int64  \n",
            " 8   deliverybdays                    1648824 non-null  object \n",
            " 9   deliverycdays                    1648824 non-null  object \n",
            " 10  s1_fact.order_payment_type       1648824 non-null  object \n",
            " 11  sla                              1648824 non-null  int64  \n",
            " 12  cust_id                          1648824 non-null  object \n",
            " 13  pincode                          1648824 non-null  object \n",
            " 14  product_analytic_super_category  1648824 non-null  object \n",
            " 15  product_analytic_category        1648824 non-null  object \n",
            " 16  product_analytic_sub_category    1648824 non-null  object \n",
            " 17  product_analytic_vertical        1648824 non-null  object \n",
            " 18  product_mrp                      1648824 non-null  int64  \n",
            " 19  product_procurement_sla          1648824 non-null  int64  \n",
            "dtypes: float64(2), int64(6), object(12)\n",
            "memory usage: 251.6+ MB\n"
          ]
        }
      ]
    },
    {
      "cell_type": "code",
      "source": [
        "# EleData.order_date.describe()\n",
        "EleData[\"order_date\"]= pd.to_datetime(EleData.order_date).dt.date\n"
      ],
      "metadata": {
        "id": "XByAeJfW1HIG"
      },
      "execution_count": 145,
      "outputs": []
    },
    {
      "cell_type": "code",
      "source": [
        "EleData.Year.value_counts()\n",
        "EleData.Month.value_counts()"
      ],
      "metadata": {
        "colab": {
          "base_uri": "https://localhost:8080/"
        },
        "id": "KTIEQbRnNK72",
        "outputId": "6d4c649f-d773-4413-834b-6ffbfb8f4e28"
      },
      "execution_count": 146,
      "outputs": [
        {
          "output_type": "execute_result",
          "data": {
            "text/plain": [
              "9     209202\n",
              "10    207301\n",
              "12    158151\n",
              "5     157072\n",
              "3     153299\n",
              "2     144084\n",
              "1     143768\n",
              "4     134390\n",
              "11    130203\n",
              "6     121798\n",
              "7      89285\n",
              "8        271\n",
              "Name: Month, dtype: int64"
            ]
          },
          "metadata": {},
          "execution_count": 146
        }
      ]
    },
    {
      "cell_type": "code",
      "source": [
        "EleData.order_id=EleData.order_id.astype(int)\n",
        "EleData.order_item_id=EleData.order_item_id.astype(int)"
      ],
      "metadata": {
        "id": "JWttpwtkOYu_"
      },
      "execution_count": 147,
      "outputs": []
    },
    {
      "cell_type": "code",
      "source": [
        "EleData= EleData.drop_duplicates(subset=[\"order_id\",\"order_item_id\"],keep='first')"
      ],
      "metadata": {
        "id": "pj9bCMvkP4CS"
      },
      "execution_count": 148,
      "outputs": []
    },
    {
      "cell_type": "code",
      "source": [
        "EleData.info()"
      ],
      "metadata": {
        "colab": {
          "base_uri": "https://localhost:8080/"
        },
        "id": "T67q06htQS1B",
        "outputId": "bfc4e307-f201-4e52-9dc0-73f6c807475d"
      },
      "execution_count": 149,
      "outputs": [
        {
          "output_type": "stream",
          "name": "stdout",
          "text": [
            "<class 'pandas.core.frame.DataFrame'>\n",
            "Int64Index: 1508710 entries, 0 to 1543996\n",
            "Data columns (total 20 columns):\n",
            " #   Column                           Non-Null Count    Dtype \n",
            "---  ------                           --------------    ----- \n",
            " 0   fsn_id                           1508710 non-null  object\n",
            " 1   order_date                       1508710 non-null  object\n",
            " 2   Year                             1508710 non-null  int64 \n",
            " 3   Month                            1508710 non-null  int64 \n",
            " 4   order_id                         1508710 non-null  int64 \n",
            " 5   order_item_id                    1508710 non-null  int64 \n",
            " 6   gmv                              1508710 non-null  object\n",
            " 7   units                            1508710 non-null  int64 \n",
            " 8   deliverybdays                    1508710 non-null  object\n",
            " 9   deliverycdays                    1508710 non-null  object\n",
            " 10  s1_fact.order_payment_type       1508710 non-null  object\n",
            " 11  sla                              1508710 non-null  int64 \n",
            " 12  cust_id                          1508710 non-null  object\n",
            " 13  pincode                          1508710 non-null  object\n",
            " 14  product_analytic_super_category  1508710 non-null  object\n",
            " 15  product_analytic_category        1508710 non-null  object\n",
            " 16  product_analytic_sub_category    1508710 non-null  object\n",
            " 17  product_analytic_vertical        1508710 non-null  object\n",
            " 18  product_mrp                      1508710 non-null  int64 \n",
            " 19  product_procurement_sla          1508710 non-null  int64 \n",
            "dtypes: int64(8), object(12)\n",
            "memory usage: 241.7+ MB\n"
          ]
        }
      ]
    },
    {
      "cell_type": "code",
      "source": [
        "EleData[Ele_obj_columns]=EleData[Ele_obj_columns].apply(lambda x : x.astype(str).str.strip())"
      ],
      "metadata": {
        "id": "rBXRq6IHP4HF"
      },
      "execution_count": 164,
      "outputs": []
    },
    {
      "cell_type": "code",
      "source": [
        "EleData.units.value_counts()"
      ],
      "metadata": {
        "colab": {
          "base_uri": "https://localhost:8080/"
        },
        "id": "RXiMykw0R1WC",
        "outputId": "7ef249ba-40b1-48c2-a263-b5eaef733406"
      },
      "execution_count": 152,
      "outputs": [
        {
          "output_type": "execute_result",
          "data": {
            "text/plain": [
              "1     1488142\n",
              "2       16585\n",
              "3        2010\n",
              "4         786\n",
              "5         669\n",
              "6         166\n",
              "10        159\n",
              "8          63\n",
              "7          43\n",
              "9          26\n",
              "15         12\n",
              "12         10\n",
              "20          8\n",
              "16          6\n",
              "11          6\n",
              "18          4\n",
              "14          3\n",
              "21          2\n",
              "17          2\n",
              "50          2\n",
              "13          2\n",
              "29          1\n",
              "39          1\n",
              "30          1\n",
              "34          1\n",
              "Name: units, dtype: int64"
            ]
          },
          "metadata": {},
          "execution_count": 152
        }
      ]
    },
    {
      "cell_type": "code",
      "source": [
        "EleData[EleData.gmv==''] ## not useful dropping\n",
        "\n",
        "EleData=EleData[EleData.gmv!='']\n",
        "EleData.gmv = EleData.gmv.astype(float)"
      ],
      "metadata": {
        "id": "oojGDO3dXKio"
      },
      "execution_count": 166,
      "outputs": []
    },
    {
      "cell_type": "code",
      "source": [
        "\n",
        "EleData[EleData.deliverybdays=='\\\\N']\n",
        "EleData.deliverybdays.replace('\\\\N','NA',inplace=True)\n",
        "EleData.info()\n",
        "EleData[EleData.deliverycdays=='\\\\N']\n",
        "EleData.deliverycdays.replace('\\\\N','NA',inplace=True)"
      ],
      "metadata": {
        "colab": {
          "base_uri": "https://localhost:8080/"
        },
        "id": "57mxkapTXZ27",
        "outputId": "644be7f7-4ab1-44c9-9960-2ca432692d95"
      },
      "execution_count": 187,
      "outputs": [
        {
          "output_type": "stream",
          "name": "stdout",
          "text": [
            "<class 'pandas.core.frame.DataFrame'>\n",
            "Int64Index: 1504760 entries, 0 to 1543996\n",
            "Data columns (total 20 columns):\n",
            " #   Column                           Non-Null Count    Dtype  \n",
            "---  ------                           --------------    -----  \n",
            " 0   fsn_id                           1504760 non-null  object \n",
            " 1   order_date                       1504760 non-null  object \n",
            " 2   Year                             1504760 non-null  int64  \n",
            " 3   Month                            1504760 non-null  int64  \n",
            " 4   order_id                         1504760 non-null  int64  \n",
            " 5   order_item_id                    1504760 non-null  int64  \n",
            " 6   gmv                              1504760 non-null  float64\n",
            " 7   units                            1504760 non-null  int64  \n",
            " 8   deliverybdays                    1504760 non-null  object \n",
            " 9   deliverycdays                    1504760 non-null  object \n",
            " 10  s1_fact.order_payment_type       1504760 non-null  object \n",
            " 11  sla                              1504760 non-null  int64  \n",
            " 12  cust_id                          1504760 non-null  object \n",
            " 13  pincode                          1504760 non-null  object \n",
            " 14  product_analytic_super_category  1504760 non-null  object \n",
            " 15  product_analytic_category        1504760 non-null  object \n",
            " 16  product_analytic_sub_category    1504760 non-null  object \n",
            " 17  product_analytic_vertical        1504760 non-null  object \n",
            " 18  product_mrp                      1504760 non-null  int64  \n",
            " 19  product_procurement_sla          1504760 non-null  int64  \n",
            "dtypes: float64(1), int64(8), object(11)\n",
            "memory usage: 241.1+ MB\n"
          ]
        }
      ]
    },
    {
      "cell_type": "code",
      "source": [
        "EleData.deliverybdays.value_counts()[0]/EleData.shape[0]\n",
        "# --78% values are NA so dropping this column\n",
        "EleData.deliverycdays.value_counts()[0]/EleData.shape[0]\n",
        "# --78% values are NA so dropping this column\n",
        "\n",
        "EleData.drop([\"deliverybdays\",\"deliverycdays\"],1,inplace=True)\n"
      ],
      "metadata": {
        "colab": {
          "base_uri": "https://localhost:8080/"
        },
        "id": "ZcU__NVnalMJ",
        "outputId": "9cec4572-b260-4f84-d2a1-a633e0414798"
      },
      "execution_count": 200,
      "outputs": [
        {
          "output_type": "stream",
          "name": "stderr",
          "text": [
            "<ipython-input-200-94372c1098ca>:6: FutureWarning: In a future version of pandas all arguments of DataFrame.drop except for the argument 'labels' will be keyword-only.\n",
            "  EleData.drop([\"deliverybdays\",\"deliverycdays\"],1,inplace=True)\n"
          ]
        }
      ]
    },
    {
      "cell_type": "code",
      "source": [
        "EleData[\"s1_fact.order_payment_type\"].value_counts()\n",
        "EleData.rename(columns={\"s1_fact.order_payment_type\":\"order_payment_type\"},inplace=True)"
      ],
      "metadata": {
        "id": "39dUjYLaZ-Yi"
      },
      "execution_count": 192,
      "outputs": []
    },
    {
      "cell_type": "code",
      "source": [
        "EleData.order_payment_type.value_counts()"
      ],
      "metadata": {
        "colab": {
          "base_uri": "https://localhost:8080/"
        },
        "id": "SMh5HKhRadxC",
        "outputId": "4c611334-4c05-4f57-eaf7-b2e87e4e6aea"
      },
      "execution_count": 193,
      "outputs": [
        {
          "output_type": "execute_result",
          "data": {
            "text/plain": [
              "COD        1090984\n",
              "Prepaid     413776\n",
              "Name: order_payment_type, dtype: int64"
            ]
          },
          "metadata": {},
          "execution_count": 193
        }
      ]
    },
    {
      "cell_type": "code",
      "source": [
        "EleData.sla=EleData.sla.astype(int)\n",
        "EleData[EleData.sla==0].shape"
      ],
      "metadata": {
        "colab": {
          "base_uri": "https://localhost:8080/"
        },
        "id": "BkJAER4ubKlL",
        "outputId": "82b4a2a5-3447-4738-bb08-c4cb769eaa49"
      },
      "execution_count": 206,
      "outputs": [
        {
          "output_type": "execute_result",
          "data": {
            "text/plain": [
              "(5582, 18)"
            ]
          },
          "metadata": {},
          "execution_count": 206
        }
      ]
    },
    {
      "cell_type": "code",
      "source": [
        "EleData.pincode.value_counts()\n",
        "## Too many groups , plus format isnt correct plus canadas pincode are alphanumeric so dropping it\n",
        "\n",
        "EleData.drop([\"pincode\"],1,inplace=True)"
      ],
      "metadata": {
        "colab": {
          "base_uri": "https://localhost:8080/"
        },
        "id": "ch-W1K6jbcdR",
        "outputId": "6dc2f885-032e-4e94-ec6c-bec4570f5622"
      },
      "execution_count": 213,
      "outputs": [
        {
          "output_type": "stream",
          "name": "stderr",
          "text": [
            "<ipython-input-213-729901627f6a>:4: FutureWarning: In a future version of pandas all arguments of DataFrame.drop except for the argument 'labels' will be keyword-only.\n",
            "  EleData.drop([\"pincode\"],1,inplace=True)\n"
          ]
        }
      ]
    },
    {
      "cell_type": "code",
      "source": [
        "EleData.product_analytic_category.value_counts()\n"
      ],
      "metadata": {
        "colab": {
          "base_uri": "https://localhost:8080/"
        },
        "id": "_ay0up62cd1r",
        "outputId": "539bbcf8-66da-498d-8da8-e83145e56749"
      },
      "execution_count": 219,
      "outputs": [
        {
          "output_type": "execute_result",
          "data": {
            "text/plain": [
              "EntertainmentSmall    869382\n",
              "CameraAccessory       229738\n",
              "GamingHardware        211181\n",
              "GameCDDVD              99991\n",
              "Camera                 94468\n",
              "Name: product_analytic_category, dtype: int64"
            ]
          },
          "metadata": {},
          "execution_count": 219
        }
      ]
    },
    {
      "cell_type": "code",
      "source": [
        "EleData.product_analytic_sub_category.value_counts()\n",
        "# EleData.product_analytic_vertical.value_counts()"
      ],
      "metadata": {
        "colab": {
          "base_uri": "https://localhost:8080/"
        },
        "id": "hVX4NY0jc7Qg",
        "outputId": "81466d60-c5e6-4a26-a25e-ae27121aca1e"
      },
      "execution_count": 223,
      "outputs": [
        {
          "output_type": "execute_result",
          "data": {
            "text/plain": [
              "Speaker                502857\n",
              "CameraAccessory        213574\n",
              "GamingAccessory        184835\n",
              "TVVideoSmall           131285\n",
              "HomeAudio              114438\n",
              "AudioMP3Player         102915\n",
              "Game                    99906\n",
              "Camera                  94468\n",
              "GamingConsole           26346\n",
              "CameraStorage           16164\n",
              "AudioAccessory          10300\n",
              "HomeTheatre              4168\n",
              "AmplifierReceiver        3419\n",
              "GameMembershipCards        85\n",
              "Name: product_analytic_sub_category, dtype: int64"
            ]
          },
          "metadata": {},
          "execution_count": 223
        }
      ]
    },
    {
      "cell_type": "code",
      "source": [
        "## new subcategory needs to be created\n",
        "## Camera , Home Audio and Gaming Accessory\n",
        "EleData_1=EleData[EleData.product_analytic_sub_category.isin(['Camera','HomeAudio','GamingAccessory'])]"
      ],
      "metadata": {
        "id": "AKIewFwycQmu"
      },
      "execution_count": 225,
      "outputs": []
    },
    {
      "cell_type": "code",
      "source": [
        "EleData_1.info()"
      ],
      "metadata": {
        "colab": {
          "base_uri": "https://localhost:8080/"
        },
        "id": "LlB8quXZdtmN",
        "outputId": "97cebb87-0b4e-481c-de65-cd2a5f4f6f7a"
      },
      "execution_count": 226,
      "outputs": [
        {
          "output_type": "stream",
          "name": "stdout",
          "text": [
            "<class 'pandas.core.frame.DataFrame'>\n",
            "Int64Index: 393741 entries, 1598 to 1542378\n",
            "Data columns (total 17 columns):\n",
            " #   Column                           Non-Null Count   Dtype  \n",
            "---  ------                           --------------   -----  \n",
            " 0   fsn_id                           393741 non-null  object \n",
            " 1   order_date                       393741 non-null  object \n",
            " 2   Year                             393741 non-null  int64  \n",
            " 3   Month                            393741 non-null  int64  \n",
            " 4   order_id                         393741 non-null  int64  \n",
            " 5   order_item_id                    393741 non-null  int64  \n",
            " 6   gmv                              393741 non-null  float64\n",
            " 7   units                            393741 non-null  int64  \n",
            " 8   order_payment_type               393741 non-null  object \n",
            " 9   sla                              393741 non-null  int64  \n",
            " 10  cust_id                          393741 non-null  object \n",
            " 11  product_analytic_super_category  393741 non-null  object \n",
            " 12  product_analytic_category        393741 non-null  object \n",
            " 13  product_analytic_sub_category    393741 non-null  object \n",
            " 14  product_analytic_vertical        393741 non-null  object \n",
            " 15  product_mrp                      393741 non-null  int64  \n",
            " 16  product_procurement_sla          393741 non-null  int64  \n",
            "dtypes: float64(1), int64(8), object(8)\n",
            "memory usage: 54.1+ MB\n"
          ]
        }
      ]
    },
    {
      "cell_type": "code",
      "source": [],
      "metadata": {
        "id": "AZ8PjKl1iq9H"
      },
      "execution_count": null,
      "outputs": []
    },
    {
      "cell_type": "code",
      "source": [
        "EleData_1.product_analytic_category.value_counts()\n",
        "EleData_1.product_analytic_super_category.value_counts()\n",
        "EleData_1.product_analytic_vertical.value_counts()\n",
        "\n",
        "##dropping supercatergy as its having only 1 valye"
      ],
      "metadata": {
        "colab": {
          "base_uri": "https://localhost:8080/"
        },
        "id": "6wA3w3Pjdtvp",
        "outputId": "13621ce2-094e-4327-a4a4-7d76cac25315"
      },
      "execution_count": 229,
      "outputs": [
        {
          "output_type": "execute_result",
          "data": {
            "text/plain": [
              "HomeAudioSpeaker         79513\n",
              "GamingHeadset            59535\n",
              "DSLR                     53994\n",
              "GamePad                  52752\n",
              "Point & Shoot            35015\n",
              "GamingMouse              34667\n",
              "FMRadio                  25211\n",
              "GamingAccessoryKit        7607\n",
              "TVOutCableAccessory       6625\n",
              "GamingKeyboard            6212\n",
              "GamingMemoryCard          5934\n",
              "GamingMousePad            4168\n",
              "VoiceRecorder             3380\n",
              "GamingAdapter             3040\n",
              "JoystickGamingWheel       2669\n",
              "BoomBox                   2449\n",
              "Instant Cameras           2403\n",
              "SportsAndAction           2159\n",
              "Dock                      1884\n",
              "HiFiSystem                1387\n",
              "MotionController          1041\n",
              "Camcorders                 897\n",
              "GamingSpeaker              493\n",
              "DockingStation             355\n",
              "DJController               186\n",
              "SoundMixer                  68\n",
              "CoolingPad                  45\n",
              "GamingChargingStation       43\n",
              "SlingBox                     3\n",
              "GamingGun                    3\n",
              "KaraokePlayer                2\n",
              "GameControlMount             1\n",
              "Name: product_analytic_vertical, dtype: int64"
            ]
          },
          "metadata": {},
          "execution_count": 229
        }
      ]
    },
    {
      "cell_type": "code",
      "source": [
        "EleData_1.drop(['product_analytic_super_category'],1,inplace=True)"
      ],
      "metadata": {
        "colab": {
          "base_uri": "https://localhost:8080/"
        },
        "id": "ttGiNFpXeHOT",
        "outputId": "4d2605c7-58c3-4060-d721-efcf7b0b98fc"
      },
      "execution_count": 233,
      "outputs": [
        {
          "output_type": "stream",
          "name": "stderr",
          "text": [
            "<ipython-input-233-c59d92d27cf4>:1: FutureWarning: In a future version of pandas all arguments of DataFrame.drop except for the argument 'labels' will be keyword-only.\n",
            "  EleData_1.drop(['product_analytic_super_category'],1,inplace=True)\n",
            "<ipython-input-233-c59d92d27cf4>:1: SettingWithCopyWarning: \n",
            "A value is trying to be set on a copy of a slice from a DataFrame\n",
            "\n",
            "See the caveats in the documentation: https://pandas.pydata.org/pandas-docs/stable/user_guide/indexing.html#returning-a-view-versus-a-copy\n",
            "  EleData_1.drop(['product_analytic_super_category'],1,inplace=True)\n"
          ]
        }
      ]
    },
    {
      "cell_type": "code",
      "source": [
        "# vertical1=(EleData_1.product_analytic_vertical.value_counts()<20000)[EleData_1.product_analytic_vertical.value_counts()<20000].index\n",
        "EleData_1.product_analytic_vertical.value_counts()<20000"
      ],
      "metadata": {
        "colab": {
          "base_uri": "https://localhost:8080/"
        },
        "id": "7bZE1zdUefzK",
        "outputId": "0778c3d7-7f3f-48ce-c8a0-489c2b975032"
      },
      "execution_count": 269,
      "outputs": [
        {
          "output_type": "execute_result",
          "data": {
            "text/plain": [
              "HomeAudioSpeaker         False\n",
              "GamingHeadset            False\n",
              "DSLR                     False\n",
              "GamePad                  False\n",
              "Point & Shoot            False\n",
              "GamingMouse              False\n",
              "FMRadio                  False\n",
              "GamingAccessoryKit        True\n",
              "TVOutCableAccessory       True\n",
              "GamingKeyboard            True\n",
              "GamingMemoryCard          True\n",
              "GamingMousePad            True\n",
              "VoiceRecorder             True\n",
              "GamingAdapter             True\n",
              "JoystickGamingWheel       True\n",
              "BoomBox                   True\n",
              "Instant Cameras           True\n",
              "SportsAndAction           True\n",
              "Dock                      True\n",
              "HiFiSystem                True\n",
              "MotionController          True\n",
              "Camcorders                True\n",
              "GamingSpeaker             True\n",
              "DockingStation            True\n",
              "DJController              True\n",
              "SoundMixer                True\n",
              "CoolingPad                True\n",
              "GamingChargingStation     True\n",
              "SlingBox                  True\n",
              "GamingGun                 True\n",
              "KaraokePlayer             True\n",
              "GameControlMount          True\n",
              "Name: product_analytic_vertical, dtype: bool"
            ]
          },
          "metadata": {},
          "execution_count": 269
        }
      ]
    },
    {
      "cell_type": "code",
      "source": [
        "# EleData_1[\"product_vertical_derived\"]=EleData_1[\"product_analytic_vertical\"].apply(lambda x : 'Other' if x.isin(vertical1) else x)\n",
        "EleData_1[\"product_analytic_vertical_derived\"]=EleData_1.product_analytic_vertical.replace(vertical1,\"Others\")"
      ],
      "metadata": {
        "colab": {
          "base_uri": "https://localhost:8080/"
        },
        "id": "QaioSt_qgeFy",
        "outputId": "b6b6bc6c-7505-4825-a1a5-c72ec0e49586"
      },
      "execution_count": 281,
      "outputs": [
        {
          "output_type": "stream",
          "name": "stderr",
          "text": [
            "<ipython-input-281-80f1048859bc>:2: SettingWithCopyWarning: \n",
            "A value is trying to be set on a copy of a slice from a DataFrame.\n",
            "Try using .loc[row_indexer,col_indexer] = value instead\n",
            "\n",
            "See the caveats in the documentation: https://pandas.pydata.org/pandas-docs/stable/user_guide/indexing.html#returning-a-view-versus-a-copy\n",
            "  EleData_1[\"product_analytic_vertical_derived\"]=EleData_1.product_analytic_vertical.replace(vertical1,\"Others\")\n"
          ]
        }
      ]
    },
    {
      "cell_type": "code",
      "source": [
        "EleData_1.product_analytic_vertical_derived.value_counts()"
      ],
      "metadata": {
        "colab": {
          "base_uri": "https://localhost:8080/"
        },
        "id": "5wMmeOkZgzsT",
        "outputId": "5818ad72-24eb-4ad7-949d-121da688f757"
      },
      "execution_count": 282,
      "outputs": [
        {
          "output_type": "execute_result",
          "data": {
            "text/plain": [
              "HomeAudioSpeaker    79513\n",
              "GamingHeadset       59535\n",
              "DSLR                53994\n",
              "Others              53054\n",
              "GamePad             52752\n",
              "Point & Shoot       35015\n",
              "GamingMouse         34667\n",
              "FMRadio             25211\n",
              "Name: product_analytic_vertical_derived, dtype: int64"
            ]
          },
          "metadata": {},
          "execution_count": 282
        }
      ]
    },
    {
      "cell_type": "code",
      "source": [
        "EleData_1.product_mrp.astype(float)"
      ],
      "metadata": {
        "id": "bt32mw7miZbg",
        "outputId": "a321fcf5-391d-4de1-a3ea-e0a356644b08",
        "colab": {
          "base_uri": "https://localhost:8080/"
        }
      },
      "execution_count": 286,
      "outputs": [
        {
          "output_type": "execute_result",
          "data": {
            "text/plain": [
              "1598        3999.0\n",
              "1599        3999.0\n",
              "1600        3999.0\n",
              "1601        3999.0\n",
              "1602        3999.0\n",
              "            ...   \n",
              "1542374    10500.0\n",
              "1542375    10500.0\n",
              "1542376    10500.0\n",
              "1542377    10500.0\n",
              "1542378    10500.0\n",
              "Name: product_mrp, Length: 393741, dtype: float64"
            ]
          },
          "metadata": {},
          "execution_count": 286
        }
      ]
    },
    {
      "cell_type": "code",
      "source": [
        "EleData_1.product_procurement_sla.value_counts()"
      ],
      "metadata": {
        "id": "ZrOALXGSisSE",
        "outputId": "7a6c2fa2-bbe1-43cb-cbfc-4c099015b4a3",
        "colab": {
          "base_uri": "https://localhost:8080/"
        }
      },
      "execution_count": 288,
      "outputs": [
        {
          "output_type": "execute_result",
          "data": {
            "text/plain": [
              " 2     121960\n",
              " 3      77833\n",
              " 1      65347\n",
              " 5      44314\n",
              " 4      35122\n",
              " 0      18418\n",
              "-1      15732\n",
              " 7       8606\n",
              " 6       3184\n",
              " 14      2144\n",
              " 15       909\n",
              " 8        110\n",
              " 9         60\n",
              " 10         2\n",
              "Name: product_procurement_sla, dtype: int64"
            ]
          },
          "metadata": {},
          "execution_count": 288
        }
      ]
    }
  ]
}