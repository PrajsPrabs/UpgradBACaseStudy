{
  "nbformat": 4,
  "nbformat_minor": 0,
  "metadata": {
    "colab": {
      "provenance": [],
      "mount_file_id": "https://github.com/PrajsPrabs/UpgradBACaseStudy/blob/main/EComm1.ipynb",
      "authorship_tag": "ABX9TyOFJVyHyhz0unQ6HQE6ultY",
      "include_colab_link": true
    },
    "kernelspec": {
      "name": "python3",
      "display_name": "Python 3"
    },
    "language_info": {
      "name": "python"
    }
  },
  "cells": [
    {
      "cell_type": "markdown",
      "metadata": {
        "id": "view-in-github",
        "colab_type": "text"
      },
      "source": [
        "<a href=\"https://colab.research.google.com/github/PrajsPrabs/UpgradBACaseStudy/blob/main/EComm1.ipynb\" target=\"_parent\"><img src=\"https://colab.research.google.com/assets/colab-badge.svg\" alt=\"Open In Colab\"/></a>"
      ]
    },
    {
      "cell_type": "code",
      "execution_count": 1,
      "metadata": {
        "id": "rAK_VUdVqMmS"
      },
      "outputs": [],
      "source": [
        "import pandas as pd\n",
        "import numpy as nm\n",
        "import matplotlib.pyplot as plt\n",
        "import seaborn as sns"
      ]
    },
    {
      "cell_type": "markdown",
      "source": [
        "# Reading the Data"
      ],
      "metadata": {
        "id": "yiOc2iKs0hQQ"
      }
    },
    {
      "cell_type": "code",
      "source": [
        "EleData = pd.read_csv(\"/content/drive/MyDrive/Colab Notebooks/E-Commerce Capstone Dataset/ConsumerElectronics.csv\")\n",
        "ProdList = pd.read_excel(\"/content/drive/MyDrive/Colab Notebooks/E-Commerce Capstone Dataset/Media data and other information.xlsx\",header=1,sheet_name=\"Product List\")\n",
        "Investment = pd.read_excel(\"/content/drive/MyDrive/Colab Notebooks/E-Commerce Capstone Dataset/Media data and other information.xlsx\",header=2,sheet_name=\"Media Investment\")\n",
        "MonthlyNPS = pd.read_excel(\"/content/drive/MyDrive/Colab Notebooks/E-Commerce Capstone Dataset/Media data and other information.xlsx\",sheet_name=\"Monthly NPS Score\")\n",
        "SalesCal = pd.read_excel(\"/content/drive/MyDrive/Colab Notebooks/E-Commerce Capstone Dataset/Media data and other information.xlsx\",sheet_name=\"Special Sale Calendar\")\n",
        "Ont2015=pd.read_excel(\"/content/drive/MyDrive/Colab Notebooks/E-Commerce Capstone Dataset/ONTARIO-2015.xlsx\",header=24)\n",
        "Ont2016=pd.read_excel(\"/content/drive/MyDrive/Colab Notebooks/E-Commerce Capstone Dataset/ONTARIO-2016.xlsx\",header=24)"
      ],
      "metadata": {
        "colab": {
          "base_uri": "https://localhost:8080/"
        },
        "id": "2QpMh1qHr-WA",
        "outputId": "c1e119e3-faea-423b-84fa-315f54ae41e9"
      },
      "execution_count": 2,
      "outputs": [
        {
          "output_type": "stream",
          "name": "stderr",
          "text": [
            "<ipython-input-2-69dde8b565b3>:1: DtypeWarning: Columns (6,12,13) have mixed types. Specify dtype option on import or set low_memory=False.\n",
            "  EleData = pd.read_csv(\"/content/drive/MyDrive/Colab Notebooks/E-Commerce Capstone Dataset/ConsumerElectronics.csv\")\n"
          ]
        }
      ]
    },
    {
      "cell_type": "code",
      "source": [
        "##ProdList\n",
        "ProdList.info()\n",
        "ProdList=ProdList.rename(columns={\"Unnamed: 1\":\"Equipment\"})\n",
        "ProdList.drop(\"Unnamed: 0\",1,inplace=True)\n"
      ],
      "metadata": {
        "colab": {
          "base_uri": "https://localhost:8080/"
        },
        "id": "GMbvY5YzsVgx",
        "outputId": "02a492ea-aa34-4755-d25b-249e6d46691c"
      },
      "execution_count": 3,
      "outputs": [
        {
          "output_type": "stream",
          "name": "stdout",
          "text": [
            "<class 'pandas.core.frame.DataFrame'>\n",
            "RangeIndex: 75 entries, 0 to 74\n",
            "Data columns (total 4 columns):\n",
            " #   Column      Non-Null Count  Dtype  \n",
            "---  ------      --------------  -----  \n",
            " 0   Unnamed: 0  0 non-null      float64\n",
            " 1   Unnamed: 1  75 non-null     object \n",
            " 2   Frequency   75 non-null     int64  \n",
            " 3   Percent     75 non-null     float64\n",
            "dtypes: float64(2), int64(1), object(1)\n",
            "memory usage: 2.5+ KB\n"
          ]
        },
        {
          "output_type": "stream",
          "name": "stderr",
          "text": [
            "<ipython-input-3-16c6641230a8>:4: FutureWarning: In a future version of pandas all arguments of DataFrame.drop except for the argument 'labels' will be keyword-only.\n",
            "  ProdList.drop(\"Unnamed: 0\",1,inplace=True)\n"
          ]
        }
      ]
    },
    {
      "cell_type": "code",
      "source": [
        "##Investments\n",
        "Investment.head()\n",
        "Investment = Investment.drop(\"Unnamed: 0\",1)"
      ],
      "metadata": {
        "id": "G0L4bSTssVjQ",
        "outputId": "cbc58e98-ac31-4332-9366-a9f4d9af8451",
        "colab": {
          "base_uri": "https://localhost:8080/"
        }
      },
      "execution_count": 4,
      "outputs": [
        {
          "output_type": "stream",
          "name": "stderr",
          "text": [
            "<ipython-input-4-ad6f8d046e0d>:3: FutureWarning: In a future version of pandas all arguments of DataFrame.drop except for the argument 'labels' will be keyword-only.\n",
            "  Investment = Investment.drop(\"Unnamed: 0\",1)\n"
          ]
        }
      ]
    },
    {
      "cell_type": "code",
      "source": [
        "Investment.head()"
      ],
      "metadata": {
        "colab": {
          "base_uri": "https://localhost:8080/",
          "height": 206
        },
        "id": "WNDlAZg8x7EA",
        "outputId": "36676b9b-2ab6-45b2-a0a5-e8e18c4504c9"
      },
      "execution_count": 5,
      "outputs": [
        {
          "output_type": "execute_result",
          "data": {
            "text/plain": [
              "     Year  Month  Total Investment        TV    Digital  Sponsorship  \\\n",
              "0  2015.0    7.0         17.061775  0.215330   2.533014     7.414270   \n",
              "1  2015.0    8.0          5.064306  0.006438   1.278074     1.063332   \n",
              "2  2015.0    9.0         96.254380  3.879504   1.356528    62.787651   \n",
              "3  2015.0   10.0        170.156297  6.144711  12.622480    84.672532   \n",
              "4  2015.0   11.0         51.216220  4.220630   1.275469    14.172116   \n",
              "\n",
              "   Content Marketing  Online marketing   Affiliates        SEM  Radio  Other  \n",
              "0           0.000933          1.327278     0.547254   5.023697    NaN    NaN  \n",
              "1           0.000006          0.129244     0.073684   2.513528    NaN    NaN  \n",
              "2           0.610292         16.379990     5.038266   6.202149    NaN    NaN  \n",
              "3           3.444075         24.371778     6.973711  31.927011    NaN    NaN  \n",
              "4           0.168633         19.561574     6.595767   5.222032    NaN    NaN  "
            ],
            "text/html": [
              "\n",
              "  <div id=\"df-247192e1-6d7d-498e-bfa6-9a4f569075c8\" class=\"colab-df-container\">\n",
              "    <div>\n",
              "<style scoped>\n",
              "    .dataframe tbody tr th:only-of-type {\n",
              "        vertical-align: middle;\n",
              "    }\n",
              "\n",
              "    .dataframe tbody tr th {\n",
              "        vertical-align: top;\n",
              "    }\n",
              "\n",
              "    .dataframe thead th {\n",
              "        text-align: right;\n",
              "    }\n",
              "</style>\n",
              "<table border=\"1\" class=\"dataframe\">\n",
              "  <thead>\n",
              "    <tr style=\"text-align: right;\">\n",
              "      <th></th>\n",
              "      <th>Year</th>\n",
              "      <th>Month</th>\n",
              "      <th>Total Investment</th>\n",
              "      <th>TV</th>\n",
              "      <th>Digital</th>\n",
              "      <th>Sponsorship</th>\n",
              "      <th>Content Marketing</th>\n",
              "      <th>Online marketing</th>\n",
              "      <th>Affiliates</th>\n",
              "      <th>SEM</th>\n",
              "      <th>Radio</th>\n",
              "      <th>Other</th>\n",
              "    </tr>\n",
              "  </thead>\n",
              "  <tbody>\n",
              "    <tr>\n",
              "      <th>0</th>\n",
              "      <td>2015.0</td>\n",
              "      <td>7.0</td>\n",
              "      <td>17.061775</td>\n",
              "      <td>0.215330</td>\n",
              "      <td>2.533014</td>\n",
              "      <td>7.414270</td>\n",
              "      <td>0.000933</td>\n",
              "      <td>1.327278</td>\n",
              "      <td>0.547254</td>\n",
              "      <td>5.023697</td>\n",
              "      <td>NaN</td>\n",
              "      <td>NaN</td>\n",
              "    </tr>\n",
              "    <tr>\n",
              "      <th>1</th>\n",
              "      <td>2015.0</td>\n",
              "      <td>8.0</td>\n",
              "      <td>5.064306</td>\n",
              "      <td>0.006438</td>\n",
              "      <td>1.278074</td>\n",
              "      <td>1.063332</td>\n",
              "      <td>0.000006</td>\n",
              "      <td>0.129244</td>\n",
              "      <td>0.073684</td>\n",
              "      <td>2.513528</td>\n",
              "      <td>NaN</td>\n",
              "      <td>NaN</td>\n",
              "    </tr>\n",
              "    <tr>\n",
              "      <th>2</th>\n",
              "      <td>2015.0</td>\n",
              "      <td>9.0</td>\n",
              "      <td>96.254380</td>\n",
              "      <td>3.879504</td>\n",
              "      <td>1.356528</td>\n",
              "      <td>62.787651</td>\n",
              "      <td>0.610292</td>\n",
              "      <td>16.379990</td>\n",
              "      <td>5.038266</td>\n",
              "      <td>6.202149</td>\n",
              "      <td>NaN</td>\n",
              "      <td>NaN</td>\n",
              "    </tr>\n",
              "    <tr>\n",
              "      <th>3</th>\n",
              "      <td>2015.0</td>\n",
              "      <td>10.0</td>\n",
              "      <td>170.156297</td>\n",
              "      <td>6.144711</td>\n",
              "      <td>12.622480</td>\n",
              "      <td>84.672532</td>\n",
              "      <td>3.444075</td>\n",
              "      <td>24.371778</td>\n",
              "      <td>6.973711</td>\n",
              "      <td>31.927011</td>\n",
              "      <td>NaN</td>\n",
              "      <td>NaN</td>\n",
              "    </tr>\n",
              "    <tr>\n",
              "      <th>4</th>\n",
              "      <td>2015.0</td>\n",
              "      <td>11.0</td>\n",
              "      <td>51.216220</td>\n",
              "      <td>4.220630</td>\n",
              "      <td>1.275469</td>\n",
              "      <td>14.172116</td>\n",
              "      <td>0.168633</td>\n",
              "      <td>19.561574</td>\n",
              "      <td>6.595767</td>\n",
              "      <td>5.222032</td>\n",
              "      <td>NaN</td>\n",
              "      <td>NaN</td>\n",
              "    </tr>\n",
              "  </tbody>\n",
              "</table>\n",
              "</div>\n",
              "    <div class=\"colab-df-buttons\">\n",
              "\n",
              "  <div class=\"colab-df-container\">\n",
              "    <button class=\"colab-df-convert\" onclick=\"convertToInteractive('df-247192e1-6d7d-498e-bfa6-9a4f569075c8')\"\n",
              "            title=\"Convert this dataframe to an interactive table.\"\n",
              "            style=\"display:none;\">\n",
              "\n",
              "  <svg xmlns=\"http://www.w3.org/2000/svg\" height=\"24px\" viewBox=\"0 -960 960 960\">\n",
              "    <path d=\"M120-120v-720h720v720H120Zm60-500h600v-160H180v160Zm220 220h160v-160H400v160Zm0 220h160v-160H400v160ZM180-400h160v-160H180v160Zm440 0h160v-160H620v160ZM180-180h160v-160H180v160Zm440 0h160v-160H620v160Z\"/>\n",
              "  </svg>\n",
              "    </button>\n",
              "\n",
              "  <style>\n",
              "    .colab-df-container {\n",
              "      display:flex;\n",
              "      gap: 12px;\n",
              "    }\n",
              "\n",
              "    .colab-df-convert {\n",
              "      background-color: #E8F0FE;\n",
              "      border: none;\n",
              "      border-radius: 50%;\n",
              "      cursor: pointer;\n",
              "      display: none;\n",
              "      fill: #1967D2;\n",
              "      height: 32px;\n",
              "      padding: 0 0 0 0;\n",
              "      width: 32px;\n",
              "    }\n",
              "\n",
              "    .colab-df-convert:hover {\n",
              "      background-color: #E2EBFA;\n",
              "      box-shadow: 0px 1px 2px rgba(60, 64, 67, 0.3), 0px 1px 3px 1px rgba(60, 64, 67, 0.15);\n",
              "      fill: #174EA6;\n",
              "    }\n",
              "\n",
              "    .colab-df-buttons div {\n",
              "      margin-bottom: 4px;\n",
              "    }\n",
              "\n",
              "    [theme=dark] .colab-df-convert {\n",
              "      background-color: #3B4455;\n",
              "      fill: #D2E3FC;\n",
              "    }\n",
              "\n",
              "    [theme=dark] .colab-df-convert:hover {\n",
              "      background-color: #434B5C;\n",
              "      box-shadow: 0px 1px 3px 1px rgba(0, 0, 0, 0.15);\n",
              "      filter: drop-shadow(0px 1px 2px rgba(0, 0, 0, 0.3));\n",
              "      fill: #FFFFFF;\n",
              "    }\n",
              "  </style>\n",
              "\n",
              "    <script>\n",
              "      const buttonEl =\n",
              "        document.querySelector('#df-247192e1-6d7d-498e-bfa6-9a4f569075c8 button.colab-df-convert');\n",
              "      buttonEl.style.display =\n",
              "        google.colab.kernel.accessAllowed ? 'block' : 'none';\n",
              "\n",
              "      async function convertToInteractive(key) {\n",
              "        const element = document.querySelector('#df-247192e1-6d7d-498e-bfa6-9a4f569075c8');\n",
              "        const dataTable =\n",
              "          await google.colab.kernel.invokeFunction('convertToInteractive',\n",
              "                                                    [key], {});\n",
              "        if (!dataTable) return;\n",
              "\n",
              "        const docLinkHtml = 'Like what you see? Visit the ' +\n",
              "          '<a target=\"_blank\" href=https://colab.research.google.com/notebooks/data_table.ipynb>data table notebook</a>'\n",
              "          + ' to learn more about interactive tables.';\n",
              "        element.innerHTML = '';\n",
              "        dataTable['output_type'] = 'display_data';\n",
              "        await google.colab.output.renderOutput(dataTable, element);\n",
              "        const docLink = document.createElement('div');\n",
              "        docLink.innerHTML = docLinkHtml;\n",
              "        element.appendChild(docLink);\n",
              "      }\n",
              "    </script>\n",
              "  </div>\n",
              "\n",
              "\n",
              "<div id=\"df-9ac04d32-28ab-408e-81e2-db5bed0235e1\">\n",
              "  <button class=\"colab-df-quickchart\" onclick=\"quickchart('df-9ac04d32-28ab-408e-81e2-db5bed0235e1')\"\n",
              "            title=\"Suggest charts.\"\n",
              "            style=\"display:none;\">\n",
              "\n",
              "<svg xmlns=\"http://www.w3.org/2000/svg\" height=\"24px\"viewBox=\"0 0 24 24\"\n",
              "     width=\"24px\">\n",
              "    <g>\n",
              "        <path d=\"M19 3H5c-1.1 0-2 .9-2 2v14c0 1.1.9 2 2 2h14c1.1 0 2-.9 2-2V5c0-1.1-.9-2-2-2zM9 17H7v-7h2v7zm4 0h-2V7h2v10zm4 0h-2v-4h2v4z\"/>\n",
              "    </g>\n",
              "</svg>\n",
              "  </button>\n",
              "\n",
              "<style>\n",
              "  .colab-df-quickchart {\n",
              "      --bg-color: #E8F0FE;\n",
              "      --fill-color: #1967D2;\n",
              "      --hover-bg-color: #E2EBFA;\n",
              "      --hover-fill-color: #174EA6;\n",
              "      --disabled-fill-color: #AAA;\n",
              "      --disabled-bg-color: #DDD;\n",
              "  }\n",
              "\n",
              "  [theme=dark] .colab-df-quickchart {\n",
              "      --bg-color: #3B4455;\n",
              "      --fill-color: #D2E3FC;\n",
              "      --hover-bg-color: #434B5C;\n",
              "      --hover-fill-color: #FFFFFF;\n",
              "      --disabled-bg-color: #3B4455;\n",
              "      --disabled-fill-color: #666;\n",
              "  }\n",
              "\n",
              "  .colab-df-quickchart {\n",
              "    background-color: var(--bg-color);\n",
              "    border: none;\n",
              "    border-radius: 50%;\n",
              "    cursor: pointer;\n",
              "    display: none;\n",
              "    fill: var(--fill-color);\n",
              "    height: 32px;\n",
              "    padding: 0;\n",
              "    width: 32px;\n",
              "  }\n",
              "\n",
              "  .colab-df-quickchart:hover {\n",
              "    background-color: var(--hover-bg-color);\n",
              "    box-shadow: 0 1px 2px rgba(60, 64, 67, 0.3), 0 1px 3px 1px rgba(60, 64, 67, 0.15);\n",
              "    fill: var(--button-hover-fill-color);\n",
              "  }\n",
              "\n",
              "  .colab-df-quickchart-complete:disabled,\n",
              "  .colab-df-quickchart-complete:disabled:hover {\n",
              "    background-color: var(--disabled-bg-color);\n",
              "    fill: var(--disabled-fill-color);\n",
              "    box-shadow: none;\n",
              "  }\n",
              "\n",
              "  .colab-df-spinner {\n",
              "    border: 2px solid var(--fill-color);\n",
              "    border-color: transparent;\n",
              "    border-bottom-color: var(--fill-color);\n",
              "    animation:\n",
              "      spin 1s steps(1) infinite;\n",
              "  }\n",
              "\n",
              "  @keyframes spin {\n",
              "    0% {\n",
              "      border-color: transparent;\n",
              "      border-bottom-color: var(--fill-color);\n",
              "      border-left-color: var(--fill-color);\n",
              "    }\n",
              "    20% {\n",
              "      border-color: transparent;\n",
              "      border-left-color: var(--fill-color);\n",
              "      border-top-color: var(--fill-color);\n",
              "    }\n",
              "    30% {\n",
              "      border-color: transparent;\n",
              "      border-left-color: var(--fill-color);\n",
              "      border-top-color: var(--fill-color);\n",
              "      border-right-color: var(--fill-color);\n",
              "    }\n",
              "    40% {\n",
              "      border-color: transparent;\n",
              "      border-right-color: var(--fill-color);\n",
              "      border-top-color: var(--fill-color);\n",
              "    }\n",
              "    60% {\n",
              "      border-color: transparent;\n",
              "      border-right-color: var(--fill-color);\n",
              "    }\n",
              "    80% {\n",
              "      border-color: transparent;\n",
              "      border-right-color: var(--fill-color);\n",
              "      border-bottom-color: var(--fill-color);\n",
              "    }\n",
              "    90% {\n",
              "      border-color: transparent;\n",
              "      border-bottom-color: var(--fill-color);\n",
              "    }\n",
              "  }\n",
              "</style>\n",
              "\n",
              "  <script>\n",
              "    async function quickchart(key) {\n",
              "      const quickchartButtonEl =\n",
              "        document.querySelector('#' + key + ' button');\n",
              "      quickchartButtonEl.disabled = true;  // To prevent multiple clicks.\n",
              "      quickchartButtonEl.classList.add('colab-df-spinner');\n",
              "      try {\n",
              "        const charts = await google.colab.kernel.invokeFunction(\n",
              "            'suggestCharts', [key], {});\n",
              "      } catch (error) {\n",
              "        console.error('Error during call to suggestCharts:', error);\n",
              "      }\n",
              "      quickchartButtonEl.classList.remove('colab-df-spinner');\n",
              "      quickchartButtonEl.classList.add('colab-df-quickchart-complete');\n",
              "    }\n",
              "    (() => {\n",
              "      let quickchartButtonEl =\n",
              "        document.querySelector('#df-9ac04d32-28ab-408e-81e2-db5bed0235e1 button');\n",
              "      quickchartButtonEl.style.display =\n",
              "        google.colab.kernel.accessAllowed ? 'block' : 'none';\n",
              "    })();\n",
              "  </script>\n",
              "</div>\n",
              "    </div>\n",
              "  </div>\n"
            ]
          },
          "metadata": {},
          "execution_count": 5
        }
      ]
    },
    {
      "cell_type": "code",
      "source": [
        "#SalesCal\n",
        "SalesCal.head(10)"
      ],
      "metadata": {
        "colab": {
          "base_uri": "https://localhost:8080/",
          "height": 363
        },
        "id": "9LQPQWTZsVl-",
        "outputId": "8c64ca54-0819-48fe-9d62-ab5c5d5d3d0c"
      },
      "execution_count": 6,
      "outputs": [
        {
          "output_type": "execute_result",
          "data": {
            "text/plain": [
              "   Unnamed: 0  Unnamed: 1               Sales Calendar\n",
              "0         NaN      2015.0               (18-19th July)\n",
              "1         NaN         NaN                (15-17th Aug)\n",
              "2         NaN         NaN                (28-30th Aug)\n",
              "3         NaN         NaN                (15-17th Oct)\n",
              "4         NaN         NaN                 (7-14th Nov)\n",
              "5         NaN         NaN   (25th Dec'15 - 3rd Jan'16)\n",
              "6         NaN      2016.0                  (20-22 Jan)\n",
              "7         NaN         NaN                    (1-2 Feb)\n",
              "8         NaN         NaN                  (20-21 Feb)\n",
              "9         NaN         NaN                  (14-15 Feb)"
            ],
            "text/html": [
              "\n",
              "  <div id=\"df-fe85c455-65b7-4e99-b9c7-6da05a3bedb8\" class=\"colab-df-container\">\n",
              "    <div>\n",
              "<style scoped>\n",
              "    .dataframe tbody tr th:only-of-type {\n",
              "        vertical-align: middle;\n",
              "    }\n",
              "\n",
              "    .dataframe tbody tr th {\n",
              "        vertical-align: top;\n",
              "    }\n",
              "\n",
              "    .dataframe thead th {\n",
              "        text-align: right;\n",
              "    }\n",
              "</style>\n",
              "<table border=\"1\" class=\"dataframe\">\n",
              "  <thead>\n",
              "    <tr style=\"text-align: right;\">\n",
              "      <th></th>\n",
              "      <th>Unnamed: 0</th>\n",
              "      <th>Unnamed: 1</th>\n",
              "      <th>Sales Calendar</th>\n",
              "    </tr>\n",
              "  </thead>\n",
              "  <tbody>\n",
              "    <tr>\n",
              "      <th>0</th>\n",
              "      <td>NaN</td>\n",
              "      <td>2015.0</td>\n",
              "      <td>(18-19th July)</td>\n",
              "    </tr>\n",
              "    <tr>\n",
              "      <th>1</th>\n",
              "      <td>NaN</td>\n",
              "      <td>NaN</td>\n",
              "      <td>(15-17th Aug)</td>\n",
              "    </tr>\n",
              "    <tr>\n",
              "      <th>2</th>\n",
              "      <td>NaN</td>\n",
              "      <td>NaN</td>\n",
              "      <td>(28-30th Aug)</td>\n",
              "    </tr>\n",
              "    <tr>\n",
              "      <th>3</th>\n",
              "      <td>NaN</td>\n",
              "      <td>NaN</td>\n",
              "      <td>(15-17th Oct)</td>\n",
              "    </tr>\n",
              "    <tr>\n",
              "      <th>4</th>\n",
              "      <td>NaN</td>\n",
              "      <td>NaN</td>\n",
              "      <td>(7-14th Nov)</td>\n",
              "    </tr>\n",
              "    <tr>\n",
              "      <th>5</th>\n",
              "      <td>NaN</td>\n",
              "      <td>NaN</td>\n",
              "      <td>(25th Dec'15 - 3rd Jan'16)</td>\n",
              "    </tr>\n",
              "    <tr>\n",
              "      <th>6</th>\n",
              "      <td>NaN</td>\n",
              "      <td>2016.0</td>\n",
              "      <td>(20-22 Jan)</td>\n",
              "    </tr>\n",
              "    <tr>\n",
              "      <th>7</th>\n",
              "      <td>NaN</td>\n",
              "      <td>NaN</td>\n",
              "      <td>(1-2 Feb)</td>\n",
              "    </tr>\n",
              "    <tr>\n",
              "      <th>8</th>\n",
              "      <td>NaN</td>\n",
              "      <td>NaN</td>\n",
              "      <td>(20-21 Feb)</td>\n",
              "    </tr>\n",
              "    <tr>\n",
              "      <th>9</th>\n",
              "      <td>NaN</td>\n",
              "      <td>NaN</td>\n",
              "      <td>(14-15 Feb)</td>\n",
              "    </tr>\n",
              "  </tbody>\n",
              "</table>\n",
              "</div>\n",
              "    <div class=\"colab-df-buttons\">\n",
              "\n",
              "  <div class=\"colab-df-container\">\n",
              "    <button class=\"colab-df-convert\" onclick=\"convertToInteractive('df-fe85c455-65b7-4e99-b9c7-6da05a3bedb8')\"\n",
              "            title=\"Convert this dataframe to an interactive table.\"\n",
              "            style=\"display:none;\">\n",
              "\n",
              "  <svg xmlns=\"http://www.w3.org/2000/svg\" height=\"24px\" viewBox=\"0 -960 960 960\">\n",
              "    <path d=\"M120-120v-720h720v720H120Zm60-500h600v-160H180v160Zm220 220h160v-160H400v160Zm0 220h160v-160H400v160ZM180-400h160v-160H180v160Zm440 0h160v-160H620v160ZM180-180h160v-160H180v160Zm440 0h160v-160H620v160Z\"/>\n",
              "  </svg>\n",
              "    </button>\n",
              "\n",
              "  <style>\n",
              "    .colab-df-container {\n",
              "      display:flex;\n",
              "      gap: 12px;\n",
              "    }\n",
              "\n",
              "    .colab-df-convert {\n",
              "      background-color: #E8F0FE;\n",
              "      border: none;\n",
              "      border-radius: 50%;\n",
              "      cursor: pointer;\n",
              "      display: none;\n",
              "      fill: #1967D2;\n",
              "      height: 32px;\n",
              "      padding: 0 0 0 0;\n",
              "      width: 32px;\n",
              "    }\n",
              "\n",
              "    .colab-df-convert:hover {\n",
              "      background-color: #E2EBFA;\n",
              "      box-shadow: 0px 1px 2px rgba(60, 64, 67, 0.3), 0px 1px 3px 1px rgba(60, 64, 67, 0.15);\n",
              "      fill: #174EA6;\n",
              "    }\n",
              "\n",
              "    .colab-df-buttons div {\n",
              "      margin-bottom: 4px;\n",
              "    }\n",
              "\n",
              "    [theme=dark] .colab-df-convert {\n",
              "      background-color: #3B4455;\n",
              "      fill: #D2E3FC;\n",
              "    }\n",
              "\n",
              "    [theme=dark] .colab-df-convert:hover {\n",
              "      background-color: #434B5C;\n",
              "      box-shadow: 0px 1px 3px 1px rgba(0, 0, 0, 0.15);\n",
              "      filter: drop-shadow(0px 1px 2px rgba(0, 0, 0, 0.3));\n",
              "      fill: #FFFFFF;\n",
              "    }\n",
              "  </style>\n",
              "\n",
              "    <script>\n",
              "      const buttonEl =\n",
              "        document.querySelector('#df-fe85c455-65b7-4e99-b9c7-6da05a3bedb8 button.colab-df-convert');\n",
              "      buttonEl.style.display =\n",
              "        google.colab.kernel.accessAllowed ? 'block' : 'none';\n",
              "\n",
              "      async function convertToInteractive(key) {\n",
              "        const element = document.querySelector('#df-fe85c455-65b7-4e99-b9c7-6da05a3bedb8');\n",
              "        const dataTable =\n",
              "          await google.colab.kernel.invokeFunction('convertToInteractive',\n",
              "                                                    [key], {});\n",
              "        if (!dataTable) return;\n",
              "\n",
              "        const docLinkHtml = 'Like what you see? Visit the ' +\n",
              "          '<a target=\"_blank\" href=https://colab.research.google.com/notebooks/data_table.ipynb>data table notebook</a>'\n",
              "          + ' to learn more about interactive tables.';\n",
              "        element.innerHTML = '';\n",
              "        dataTable['output_type'] = 'display_data';\n",
              "        await google.colab.output.renderOutput(dataTable, element);\n",
              "        const docLink = document.createElement('div');\n",
              "        docLink.innerHTML = docLinkHtml;\n",
              "        element.appendChild(docLink);\n",
              "      }\n",
              "    </script>\n",
              "  </div>\n",
              "\n",
              "\n",
              "<div id=\"df-5a38b25d-a400-4425-94ba-3a024ee04b79\">\n",
              "  <button class=\"colab-df-quickchart\" onclick=\"quickchart('df-5a38b25d-a400-4425-94ba-3a024ee04b79')\"\n",
              "            title=\"Suggest charts.\"\n",
              "            style=\"display:none;\">\n",
              "\n",
              "<svg xmlns=\"http://www.w3.org/2000/svg\" height=\"24px\"viewBox=\"0 0 24 24\"\n",
              "     width=\"24px\">\n",
              "    <g>\n",
              "        <path d=\"M19 3H5c-1.1 0-2 .9-2 2v14c0 1.1.9 2 2 2h14c1.1 0 2-.9 2-2V5c0-1.1-.9-2-2-2zM9 17H7v-7h2v7zm4 0h-2V7h2v10zm4 0h-2v-4h2v4z\"/>\n",
              "    </g>\n",
              "</svg>\n",
              "  </button>\n",
              "\n",
              "<style>\n",
              "  .colab-df-quickchart {\n",
              "      --bg-color: #E8F0FE;\n",
              "      --fill-color: #1967D2;\n",
              "      --hover-bg-color: #E2EBFA;\n",
              "      --hover-fill-color: #174EA6;\n",
              "      --disabled-fill-color: #AAA;\n",
              "      --disabled-bg-color: #DDD;\n",
              "  }\n",
              "\n",
              "  [theme=dark] .colab-df-quickchart {\n",
              "      --bg-color: #3B4455;\n",
              "      --fill-color: #D2E3FC;\n",
              "      --hover-bg-color: #434B5C;\n",
              "      --hover-fill-color: #FFFFFF;\n",
              "      --disabled-bg-color: #3B4455;\n",
              "      --disabled-fill-color: #666;\n",
              "  }\n",
              "\n",
              "  .colab-df-quickchart {\n",
              "    background-color: var(--bg-color);\n",
              "    border: none;\n",
              "    border-radius: 50%;\n",
              "    cursor: pointer;\n",
              "    display: none;\n",
              "    fill: var(--fill-color);\n",
              "    height: 32px;\n",
              "    padding: 0;\n",
              "    width: 32px;\n",
              "  }\n",
              "\n",
              "  .colab-df-quickchart:hover {\n",
              "    background-color: var(--hover-bg-color);\n",
              "    box-shadow: 0 1px 2px rgba(60, 64, 67, 0.3), 0 1px 3px 1px rgba(60, 64, 67, 0.15);\n",
              "    fill: var(--button-hover-fill-color);\n",
              "  }\n",
              "\n",
              "  .colab-df-quickchart-complete:disabled,\n",
              "  .colab-df-quickchart-complete:disabled:hover {\n",
              "    background-color: var(--disabled-bg-color);\n",
              "    fill: var(--disabled-fill-color);\n",
              "    box-shadow: none;\n",
              "  }\n",
              "\n",
              "  .colab-df-spinner {\n",
              "    border: 2px solid var(--fill-color);\n",
              "    border-color: transparent;\n",
              "    border-bottom-color: var(--fill-color);\n",
              "    animation:\n",
              "      spin 1s steps(1) infinite;\n",
              "  }\n",
              "\n",
              "  @keyframes spin {\n",
              "    0% {\n",
              "      border-color: transparent;\n",
              "      border-bottom-color: var(--fill-color);\n",
              "      border-left-color: var(--fill-color);\n",
              "    }\n",
              "    20% {\n",
              "      border-color: transparent;\n",
              "      border-left-color: var(--fill-color);\n",
              "      border-top-color: var(--fill-color);\n",
              "    }\n",
              "    30% {\n",
              "      border-color: transparent;\n",
              "      border-left-color: var(--fill-color);\n",
              "      border-top-color: var(--fill-color);\n",
              "      border-right-color: var(--fill-color);\n",
              "    }\n",
              "    40% {\n",
              "      border-color: transparent;\n",
              "      border-right-color: var(--fill-color);\n",
              "      border-top-color: var(--fill-color);\n",
              "    }\n",
              "    60% {\n",
              "      border-color: transparent;\n",
              "      border-right-color: var(--fill-color);\n",
              "    }\n",
              "    80% {\n",
              "      border-color: transparent;\n",
              "      border-right-color: var(--fill-color);\n",
              "      border-bottom-color: var(--fill-color);\n",
              "    }\n",
              "    90% {\n",
              "      border-color: transparent;\n",
              "      border-bottom-color: var(--fill-color);\n",
              "    }\n",
              "  }\n",
              "</style>\n",
              "\n",
              "  <script>\n",
              "    async function quickchart(key) {\n",
              "      const quickchartButtonEl =\n",
              "        document.querySelector('#' + key + ' button');\n",
              "      quickchartButtonEl.disabled = true;  // To prevent multiple clicks.\n",
              "      quickchartButtonEl.classList.add('colab-df-spinner');\n",
              "      try {\n",
              "        const charts = await google.colab.kernel.invokeFunction(\n",
              "            'suggestCharts', [key], {});\n",
              "      } catch (error) {\n",
              "        console.error('Error during call to suggestCharts:', error);\n",
              "      }\n",
              "      quickchartButtonEl.classList.remove('colab-df-spinner');\n",
              "      quickchartButtonEl.classList.add('colab-df-quickchart-complete');\n",
              "    }\n",
              "    (() => {\n",
              "      let quickchartButtonEl =\n",
              "        document.querySelector('#df-5a38b25d-a400-4425-94ba-3a024ee04b79 button');\n",
              "      quickchartButtonEl.style.display =\n",
              "        google.colab.kernel.accessAllowed ? 'block' : 'none';\n",
              "    })();\n",
              "  </script>\n",
              "</div>\n",
              "    </div>\n",
              "  </div>\n"
            ]
          },
          "metadata": {},
          "execution_count": 6
        }
      ]
    },
    {
      "cell_type": "code",
      "source": [
        "SalesCal=SalesCal.drop(\"Unnamed: 0\",1)\n",
        "SalesCal.rename(columns={\"Unnamed: 1\":\"Year\"},inplace=True)"
      ],
      "metadata": {
        "id": "tz3-Uof2sVod",
        "outputId": "80e04ec2-95ce-4f85-d755-663496474907",
        "colab": {
          "base_uri": "https://localhost:8080/"
        }
      },
      "execution_count": 7,
      "outputs": [
        {
          "output_type": "stream",
          "name": "stderr",
          "text": [
            "<ipython-input-7-3ef3e6c831f7>:1: FutureWarning: In a future version of pandas all arguments of DataFrame.drop except for the argument 'labels' will be keyword-only.\n",
            "  SalesCal=SalesCal.drop(\"Unnamed: 0\",1)\n"
          ]
        }
      ]
    },
    {
      "cell_type": "code",
      "source": [
        "SalesCal.iloc[0:6,0:1]='2015'\n",
        "SalesCal.iloc[6:11,0:1]='2016'"
      ],
      "metadata": {
        "id": "xL-FkycjsVrC"
      },
      "execution_count": 8,
      "outputs": []
    },
    {
      "cell_type": "code",
      "source": [
        "SalesCal"
      ],
      "metadata": {
        "colab": {
          "base_uri": "https://localhost:8080/",
          "height": 426
        },
        "id": "ltti0ca3zcE-",
        "outputId": "eb35435c-c11b-45f1-9696-ef6d8b0c2217"
      },
      "execution_count": 9,
      "outputs": [
        {
          "output_type": "execute_result",
          "data": {
            "text/plain": [
              "    Year               Sales Calendar\n",
              "0   2015               (18-19th July)\n",
              "1   2015                (15-17th Aug)\n",
              "2   2015                (28-30th Aug)\n",
              "3   2015                (15-17th Oct)\n",
              "4   2015                 (7-14th Nov)\n",
              "5   2015   (25th Dec'15 - 3rd Jan'16)\n",
              "6   2016                  (20-22 Jan)\n",
              "7   2016                    (1-2 Feb)\n",
              "8   2016                  (20-21 Feb)\n",
              "9   2016                  (14-15 Feb)\n",
              "10  2016                    (7-9 Mar)\n",
              "11   NaN                  (25-27 May)"
            ],
            "text/html": [
              "\n",
              "  <div id=\"df-a081b01f-c467-4adc-a36f-64cecfcd1199\" class=\"colab-df-container\">\n",
              "    <div>\n",
              "<style scoped>\n",
              "    .dataframe tbody tr th:only-of-type {\n",
              "        vertical-align: middle;\n",
              "    }\n",
              "\n",
              "    .dataframe tbody tr th {\n",
              "        vertical-align: top;\n",
              "    }\n",
              "\n",
              "    .dataframe thead th {\n",
              "        text-align: right;\n",
              "    }\n",
              "</style>\n",
              "<table border=\"1\" class=\"dataframe\">\n",
              "  <thead>\n",
              "    <tr style=\"text-align: right;\">\n",
              "      <th></th>\n",
              "      <th>Year</th>\n",
              "      <th>Sales Calendar</th>\n",
              "    </tr>\n",
              "  </thead>\n",
              "  <tbody>\n",
              "    <tr>\n",
              "      <th>0</th>\n",
              "      <td>2015</td>\n",
              "      <td>(18-19th July)</td>\n",
              "    </tr>\n",
              "    <tr>\n",
              "      <th>1</th>\n",
              "      <td>2015</td>\n",
              "      <td>(15-17th Aug)</td>\n",
              "    </tr>\n",
              "    <tr>\n",
              "      <th>2</th>\n",
              "      <td>2015</td>\n",
              "      <td>(28-30th Aug)</td>\n",
              "    </tr>\n",
              "    <tr>\n",
              "      <th>3</th>\n",
              "      <td>2015</td>\n",
              "      <td>(15-17th Oct)</td>\n",
              "    </tr>\n",
              "    <tr>\n",
              "      <th>4</th>\n",
              "      <td>2015</td>\n",
              "      <td>(7-14th Nov)</td>\n",
              "    </tr>\n",
              "    <tr>\n",
              "      <th>5</th>\n",
              "      <td>2015</td>\n",
              "      <td>(25th Dec'15 - 3rd Jan'16)</td>\n",
              "    </tr>\n",
              "    <tr>\n",
              "      <th>6</th>\n",
              "      <td>2016</td>\n",
              "      <td>(20-22 Jan)</td>\n",
              "    </tr>\n",
              "    <tr>\n",
              "      <th>7</th>\n",
              "      <td>2016</td>\n",
              "      <td>(1-2 Feb)</td>\n",
              "    </tr>\n",
              "    <tr>\n",
              "      <th>8</th>\n",
              "      <td>2016</td>\n",
              "      <td>(20-21 Feb)</td>\n",
              "    </tr>\n",
              "    <tr>\n",
              "      <th>9</th>\n",
              "      <td>2016</td>\n",
              "      <td>(14-15 Feb)</td>\n",
              "    </tr>\n",
              "    <tr>\n",
              "      <th>10</th>\n",
              "      <td>2016</td>\n",
              "      <td>(7-9 Mar)</td>\n",
              "    </tr>\n",
              "    <tr>\n",
              "      <th>11</th>\n",
              "      <td>NaN</td>\n",
              "      <td>(25-27 May)</td>\n",
              "    </tr>\n",
              "  </tbody>\n",
              "</table>\n",
              "</div>\n",
              "    <div class=\"colab-df-buttons\">\n",
              "\n",
              "  <div class=\"colab-df-container\">\n",
              "    <button class=\"colab-df-convert\" onclick=\"convertToInteractive('df-a081b01f-c467-4adc-a36f-64cecfcd1199')\"\n",
              "            title=\"Convert this dataframe to an interactive table.\"\n",
              "            style=\"display:none;\">\n",
              "\n",
              "  <svg xmlns=\"http://www.w3.org/2000/svg\" height=\"24px\" viewBox=\"0 -960 960 960\">\n",
              "    <path d=\"M120-120v-720h720v720H120Zm60-500h600v-160H180v160Zm220 220h160v-160H400v160Zm0 220h160v-160H400v160ZM180-400h160v-160H180v160Zm440 0h160v-160H620v160ZM180-180h160v-160H180v160Zm440 0h160v-160H620v160Z\"/>\n",
              "  </svg>\n",
              "    </button>\n",
              "\n",
              "  <style>\n",
              "    .colab-df-container {\n",
              "      display:flex;\n",
              "      gap: 12px;\n",
              "    }\n",
              "\n",
              "    .colab-df-convert {\n",
              "      background-color: #E8F0FE;\n",
              "      border: none;\n",
              "      border-radius: 50%;\n",
              "      cursor: pointer;\n",
              "      display: none;\n",
              "      fill: #1967D2;\n",
              "      height: 32px;\n",
              "      padding: 0 0 0 0;\n",
              "      width: 32px;\n",
              "    }\n",
              "\n",
              "    .colab-df-convert:hover {\n",
              "      background-color: #E2EBFA;\n",
              "      box-shadow: 0px 1px 2px rgba(60, 64, 67, 0.3), 0px 1px 3px 1px rgba(60, 64, 67, 0.15);\n",
              "      fill: #174EA6;\n",
              "    }\n",
              "\n",
              "    .colab-df-buttons div {\n",
              "      margin-bottom: 4px;\n",
              "    }\n",
              "\n",
              "    [theme=dark] .colab-df-convert {\n",
              "      background-color: #3B4455;\n",
              "      fill: #D2E3FC;\n",
              "    }\n",
              "\n",
              "    [theme=dark] .colab-df-convert:hover {\n",
              "      background-color: #434B5C;\n",
              "      box-shadow: 0px 1px 3px 1px rgba(0, 0, 0, 0.15);\n",
              "      filter: drop-shadow(0px 1px 2px rgba(0, 0, 0, 0.3));\n",
              "      fill: #FFFFFF;\n",
              "    }\n",
              "  </style>\n",
              "\n",
              "    <script>\n",
              "      const buttonEl =\n",
              "        document.querySelector('#df-a081b01f-c467-4adc-a36f-64cecfcd1199 button.colab-df-convert');\n",
              "      buttonEl.style.display =\n",
              "        google.colab.kernel.accessAllowed ? 'block' : 'none';\n",
              "\n",
              "      async function convertToInteractive(key) {\n",
              "        const element = document.querySelector('#df-a081b01f-c467-4adc-a36f-64cecfcd1199');\n",
              "        const dataTable =\n",
              "          await google.colab.kernel.invokeFunction('convertToInteractive',\n",
              "                                                    [key], {});\n",
              "        if (!dataTable) return;\n",
              "\n",
              "        const docLinkHtml = 'Like what you see? Visit the ' +\n",
              "          '<a target=\"_blank\" href=https://colab.research.google.com/notebooks/data_table.ipynb>data table notebook</a>'\n",
              "          + ' to learn more about interactive tables.';\n",
              "        element.innerHTML = '';\n",
              "        dataTable['output_type'] = 'display_data';\n",
              "        await google.colab.output.renderOutput(dataTable, element);\n",
              "        const docLink = document.createElement('div');\n",
              "        docLink.innerHTML = docLinkHtml;\n",
              "        element.appendChild(docLink);\n",
              "      }\n",
              "    </script>\n",
              "  </div>\n",
              "\n",
              "\n",
              "<div id=\"df-8053b5b1-ccb1-4d91-8f1f-6c263b15a702\">\n",
              "  <button class=\"colab-df-quickchart\" onclick=\"quickchart('df-8053b5b1-ccb1-4d91-8f1f-6c263b15a702')\"\n",
              "            title=\"Suggest charts.\"\n",
              "            style=\"display:none;\">\n",
              "\n",
              "<svg xmlns=\"http://www.w3.org/2000/svg\" height=\"24px\"viewBox=\"0 0 24 24\"\n",
              "     width=\"24px\">\n",
              "    <g>\n",
              "        <path d=\"M19 3H5c-1.1 0-2 .9-2 2v14c0 1.1.9 2 2 2h14c1.1 0 2-.9 2-2V5c0-1.1-.9-2-2-2zM9 17H7v-7h2v7zm4 0h-2V7h2v10zm4 0h-2v-4h2v4z\"/>\n",
              "    </g>\n",
              "</svg>\n",
              "  </button>\n",
              "\n",
              "<style>\n",
              "  .colab-df-quickchart {\n",
              "      --bg-color: #E8F0FE;\n",
              "      --fill-color: #1967D2;\n",
              "      --hover-bg-color: #E2EBFA;\n",
              "      --hover-fill-color: #174EA6;\n",
              "      --disabled-fill-color: #AAA;\n",
              "      --disabled-bg-color: #DDD;\n",
              "  }\n",
              "\n",
              "  [theme=dark] .colab-df-quickchart {\n",
              "      --bg-color: #3B4455;\n",
              "      --fill-color: #D2E3FC;\n",
              "      --hover-bg-color: #434B5C;\n",
              "      --hover-fill-color: #FFFFFF;\n",
              "      --disabled-bg-color: #3B4455;\n",
              "      --disabled-fill-color: #666;\n",
              "  }\n",
              "\n",
              "  .colab-df-quickchart {\n",
              "    background-color: var(--bg-color);\n",
              "    border: none;\n",
              "    border-radius: 50%;\n",
              "    cursor: pointer;\n",
              "    display: none;\n",
              "    fill: var(--fill-color);\n",
              "    height: 32px;\n",
              "    padding: 0;\n",
              "    width: 32px;\n",
              "  }\n",
              "\n",
              "  .colab-df-quickchart:hover {\n",
              "    background-color: var(--hover-bg-color);\n",
              "    box-shadow: 0 1px 2px rgba(60, 64, 67, 0.3), 0 1px 3px 1px rgba(60, 64, 67, 0.15);\n",
              "    fill: var(--button-hover-fill-color);\n",
              "  }\n",
              "\n",
              "  .colab-df-quickchart-complete:disabled,\n",
              "  .colab-df-quickchart-complete:disabled:hover {\n",
              "    background-color: var(--disabled-bg-color);\n",
              "    fill: var(--disabled-fill-color);\n",
              "    box-shadow: none;\n",
              "  }\n",
              "\n",
              "  .colab-df-spinner {\n",
              "    border: 2px solid var(--fill-color);\n",
              "    border-color: transparent;\n",
              "    border-bottom-color: var(--fill-color);\n",
              "    animation:\n",
              "      spin 1s steps(1) infinite;\n",
              "  }\n",
              "\n",
              "  @keyframes spin {\n",
              "    0% {\n",
              "      border-color: transparent;\n",
              "      border-bottom-color: var(--fill-color);\n",
              "      border-left-color: var(--fill-color);\n",
              "    }\n",
              "    20% {\n",
              "      border-color: transparent;\n",
              "      border-left-color: var(--fill-color);\n",
              "      border-top-color: var(--fill-color);\n",
              "    }\n",
              "    30% {\n",
              "      border-color: transparent;\n",
              "      border-left-color: var(--fill-color);\n",
              "      border-top-color: var(--fill-color);\n",
              "      border-right-color: var(--fill-color);\n",
              "    }\n",
              "    40% {\n",
              "      border-color: transparent;\n",
              "      border-right-color: var(--fill-color);\n",
              "      border-top-color: var(--fill-color);\n",
              "    }\n",
              "    60% {\n",
              "      border-color: transparent;\n",
              "      border-right-color: var(--fill-color);\n",
              "    }\n",
              "    80% {\n",
              "      border-color: transparent;\n",
              "      border-right-color: var(--fill-color);\n",
              "      border-bottom-color: var(--fill-color);\n",
              "    }\n",
              "    90% {\n",
              "      border-color: transparent;\n",
              "      border-bottom-color: var(--fill-color);\n",
              "    }\n",
              "  }\n",
              "</style>\n",
              "\n",
              "  <script>\n",
              "    async function quickchart(key) {\n",
              "      const quickchartButtonEl =\n",
              "        document.querySelector('#' + key + ' button');\n",
              "      quickchartButtonEl.disabled = true;  // To prevent multiple clicks.\n",
              "      quickchartButtonEl.classList.add('colab-df-spinner');\n",
              "      try {\n",
              "        const charts = await google.colab.kernel.invokeFunction(\n",
              "            'suggestCharts', [key], {});\n",
              "      } catch (error) {\n",
              "        console.error('Error during call to suggestCharts:', error);\n",
              "      }\n",
              "      quickchartButtonEl.classList.remove('colab-df-spinner');\n",
              "      quickchartButtonEl.classList.add('colab-df-quickchart-complete');\n",
              "    }\n",
              "    (() => {\n",
              "      let quickchartButtonEl =\n",
              "        document.querySelector('#df-8053b5b1-ccb1-4d91-8f1f-6c263b15a702 button');\n",
              "      quickchartButtonEl.style.display =\n",
              "        google.colab.kernel.accessAllowed ? 'block' : 'none';\n",
              "    })();\n",
              "  </script>\n",
              "</div>\n",
              "    </div>\n",
              "  </div>\n"
            ]
          },
          "metadata": {},
          "execution_count": 9
        }
      ]
    },
    {
      "cell_type": "code",
      "source": [
        "MonthlyNPS.rename(columns={\"Unnamed: 0\":\"Header\"},inplace=True)"
      ],
      "metadata": {
        "id": "-fY85JtMzvCj"
      },
      "execution_count": 10,
      "outputs": []
    },
    {
      "cell_type": "markdown",
      "source": [
        "# Data Cleaning"
      ],
      "metadata": {
        "id": "NrsAzbRE1Clv"
      }
    },
    {
      "cell_type": "markdown",
      "source": [
        "\n",
        "\n",
        " Basic data type handling"
      ],
      "metadata": {
        "id": "MA-a1rhD14VB"
      }
    },
    {
      "cell_type": "code",
      "source": [
        "EleData = pd.read_csv(\"/content/drive/MyDrive/Colab Notebooks/E-Commerce Capstone Dataset/ConsumerElectronics.csv\")"
      ],
      "metadata": {
        "colab": {
          "base_uri": "https://localhost:8080/"
        },
        "id": "dzCY0lOg3VIK",
        "outputId": "1bc571fe-3c36-44e8-8e7d-2abe3e4c8a69"
      },
      "execution_count": 11,
      "outputs": [
        {
          "output_type": "stream",
          "name": "stderr",
          "text": [
            "<ipython-input-11-de44342a677d>:1: DtypeWarning: Columns (6,12,13) have mixed types. Specify dtype option on import or set low_memory=False.\n",
            "  EleData = pd.read_csv(\"/content/drive/MyDrive/Colab Notebooks/E-Commerce Capstone Dataset/ConsumerElectronics.csv\")\n"
          ]
        }
      ]
    },
    {
      "cell_type": "code",
      "source": [
        "EleData.info()"
      ],
      "metadata": {
        "colab": {
          "base_uri": "https://localhost:8080/"
        },
        "id": "wGTwHKu1QwCc",
        "outputId": "a5a2f63c-e92c-4466-b93d-ab4e7e0a5962"
      },
      "execution_count": 12,
      "outputs": [
        {
          "output_type": "stream",
          "name": "stdout",
          "text": [
            "<class 'pandas.core.frame.DataFrame'>\n",
            "RangeIndex: 1648824 entries, 0 to 1648823\n",
            "Data columns (total 20 columns):\n",
            " #   Column                           Non-Null Count    Dtype  \n",
            "---  ------                           --------------    -----  \n",
            " 0   fsn_id                           1648824 non-null  object \n",
            " 1   order_date                       1648824 non-null  object \n",
            " 2   Year                             1648824 non-null  int64  \n",
            " 3   Month                            1648824 non-null  int64  \n",
            " 4   order_id                         1648824 non-null  float64\n",
            " 5   order_item_id                    1648824 non-null  float64\n",
            " 6   gmv                              1648824 non-null  object \n",
            " 7   units                            1648824 non-null  int64  \n",
            " 8   deliverybdays                    1648824 non-null  object \n",
            " 9   deliverycdays                    1648824 non-null  object \n",
            " 10  s1_fact.order_payment_type       1648824 non-null  object \n",
            " 11  sla                              1648824 non-null  int64  \n",
            " 12  cust_id                          1648824 non-null  object \n",
            " 13  pincode                          1648824 non-null  object \n",
            " 14  product_analytic_super_category  1648824 non-null  object \n",
            " 15  product_analytic_category        1648824 non-null  object \n",
            " 16  product_analytic_sub_category    1648824 non-null  object \n",
            " 17  product_analytic_vertical        1648824 non-null  object \n",
            " 18  product_mrp                      1648824 non-null  int64  \n",
            " 19  product_procurement_sla          1648824 non-null  int64  \n",
            "dtypes: float64(2), int64(6), object(12)\n",
            "memory usage: 251.6+ MB\n"
          ]
        }
      ]
    },
    {
      "cell_type": "code",
      "source": [
        "EleData.info()\n",
        "# EleData.isnull().sum()"
      ],
      "metadata": {
        "colab": {
          "base_uri": "https://localhost:8080/"
        },
        "id": "R7JnFVez1G3-",
        "outputId": "d67bf3b6-e1d0-4a15-a576-aa50f783f760"
      },
      "execution_count": 13,
      "outputs": [
        {
          "output_type": "stream",
          "name": "stdout",
          "text": [
            "<class 'pandas.core.frame.DataFrame'>\n",
            "RangeIndex: 1648824 entries, 0 to 1648823\n",
            "Data columns (total 20 columns):\n",
            " #   Column                           Non-Null Count    Dtype  \n",
            "---  ------                           --------------    -----  \n",
            " 0   fsn_id                           1648824 non-null  object \n",
            " 1   order_date                       1648824 non-null  object \n",
            " 2   Year                             1648824 non-null  int64  \n",
            " 3   Month                            1648824 non-null  int64  \n",
            " 4   order_id                         1648824 non-null  float64\n",
            " 5   order_item_id                    1648824 non-null  float64\n",
            " 6   gmv                              1648824 non-null  object \n",
            " 7   units                            1648824 non-null  int64  \n",
            " 8   deliverybdays                    1648824 non-null  object \n",
            " 9   deliverycdays                    1648824 non-null  object \n",
            " 10  s1_fact.order_payment_type       1648824 non-null  object \n",
            " 11  sla                              1648824 non-null  int64  \n",
            " 12  cust_id                          1648824 non-null  object \n",
            " 13  pincode                          1648824 non-null  object \n",
            " 14  product_analytic_super_category  1648824 non-null  object \n",
            " 15  product_analytic_category        1648824 non-null  object \n",
            " 16  product_analytic_sub_category    1648824 non-null  object \n",
            " 17  product_analytic_vertical        1648824 non-null  object \n",
            " 18  product_mrp                      1648824 non-null  int64  \n",
            " 19  product_procurement_sla          1648824 non-null  int64  \n",
            "dtypes: float64(2), int64(6), object(12)\n",
            "memory usage: 251.6+ MB\n"
          ]
        }
      ]
    },
    {
      "cell_type": "code",
      "source": [
        "# EleData.order_date.describe()\n",
        "EleData[\"order_date\"]= pd.to_datetime(EleData.order_date).dt.date\n"
      ],
      "metadata": {
        "id": "XByAeJfW1HIG"
      },
      "execution_count": 14,
      "outputs": []
    },
    {
      "cell_type": "code",
      "source": [
        "EleData.Year.value_counts()\n",
        "EleData.Month.value_counts()"
      ],
      "metadata": {
        "colab": {
          "base_uri": "https://localhost:8080/"
        },
        "id": "KTIEQbRnNK72",
        "outputId": "d77fc492-3ee9-44a0-93a8-14a25b75ee41"
      },
      "execution_count": 15,
      "outputs": [
        {
          "output_type": "execute_result",
          "data": {
            "text/plain": [
              "9     209202\n",
              "10    207301\n",
              "12    158151\n",
              "5     157072\n",
              "3     153299\n",
              "2     144084\n",
              "1     143768\n",
              "4     134390\n",
              "11    130203\n",
              "6     121798\n",
              "7      89285\n",
              "8        271\n",
              "Name: Month, dtype: int64"
            ]
          },
          "metadata": {},
          "execution_count": 15
        }
      ]
    },
    {
      "cell_type": "code",
      "source": [
        "EleData.order_id=EleData.order_id.astype(int)\n",
        "EleData.order_item_id=EleData.order_item_id.astype(int)"
      ],
      "metadata": {
        "id": "JWttpwtkOYu_"
      },
      "execution_count": 16,
      "outputs": []
    },
    {
      "cell_type": "code",
      "source": [
        "## removing duplicate order items records\n",
        "EleData= EleData.drop_duplicates(subset=[\"order_id\",\"order_item_id\"],keep='first')"
      ],
      "metadata": {
        "id": "pj9bCMvkP4CS"
      },
      "execution_count": 17,
      "outputs": []
    },
    {
      "cell_type": "code",
      "source": [
        "# EleData.info()\n",
        "Ele_obj_columns=[]\n",
        "for i in EleData.columns:\n",
        "  if EleData[i].dtype=='object':\n",
        "    Ele_obj_columns.append(i)"
      ],
      "metadata": {
        "id": "T67q06htQS1B"
      },
      "execution_count": 18,
      "outputs": []
    },
    {
      "cell_type": "code",
      "source": [
        "## removing duplicates using strip and lower\n",
        "Ele_obj_columns\n",
        "EleData[Ele_obj_columns]=EleData[Ele_obj_columns].apply(lambda x : x.astype(str).str.strip())\n",
        "EleData[Ele_obj_columns]=EleData[Ele_obj_columns].apply(lambda x : x.astype(str).str.lower())"
      ],
      "metadata": {
        "id": "wc428Hmv0bHT"
      },
      "execution_count": 19,
      "outputs": []
    },
    {
      "cell_type": "code",
      "source": [
        "EleData= EleData.drop_duplicates(keep='first')\n",
        "EleData.info()"
      ],
      "metadata": {
        "colab": {
          "base_uri": "https://localhost:8080/"
        },
        "id": "pgKqnXJN3qUy",
        "outputId": "4d2049af-b44c-4a2f-dfda-98afa415dd67"
      },
      "execution_count": 20,
      "outputs": [
        {
          "output_type": "stream",
          "name": "stdout",
          "text": [
            "<class 'pandas.core.frame.DataFrame'>\n",
            "Int64Index: 1508710 entries, 0 to 1543996\n",
            "Data columns (total 20 columns):\n",
            " #   Column                           Non-Null Count    Dtype \n",
            "---  ------                           --------------    ----- \n",
            " 0   fsn_id                           1508710 non-null  object\n",
            " 1   order_date                       1508710 non-null  object\n",
            " 2   Year                             1508710 non-null  int64 \n",
            " 3   Month                            1508710 non-null  int64 \n",
            " 4   order_id                         1508710 non-null  int64 \n",
            " 5   order_item_id                    1508710 non-null  int64 \n",
            " 6   gmv                              1508710 non-null  object\n",
            " 7   units                            1508710 non-null  int64 \n",
            " 8   deliverybdays                    1508710 non-null  object\n",
            " 9   deliverycdays                    1508710 non-null  object\n",
            " 10  s1_fact.order_payment_type       1508710 non-null  object\n",
            " 11  sla                              1508710 non-null  int64 \n",
            " 12  cust_id                          1508710 non-null  object\n",
            " 13  pincode                          1508710 non-null  object\n",
            " 14  product_analytic_super_category  1508710 non-null  object\n",
            " 15  product_analytic_category        1508710 non-null  object\n",
            " 16  product_analytic_sub_category    1508710 non-null  object\n",
            " 17  product_analytic_vertical        1508710 non-null  object\n",
            " 18  product_mrp                      1508710 non-null  int64 \n",
            " 19  product_procurement_sla          1508710 non-null  int64 \n",
            "dtypes: int64(8), object(12)\n",
            "memory usage: 241.7+ MB\n"
          ]
        }
      ]
    },
    {
      "cell_type": "code",
      "source": [
        "EleData.units.value_counts()"
      ],
      "metadata": {
        "colab": {
          "base_uri": "https://localhost:8080/"
        },
        "id": "RXiMykw0R1WC",
        "outputId": "ecb5e64c-1c33-4d0a-99c3-68ca4acacba8"
      },
      "execution_count": 21,
      "outputs": [
        {
          "output_type": "execute_result",
          "data": {
            "text/plain": [
              "1     1488142\n",
              "2       16585\n",
              "3        2010\n",
              "4         786\n",
              "5         669\n",
              "6         166\n",
              "10        159\n",
              "8          63\n",
              "7          43\n",
              "9          26\n",
              "15         12\n",
              "12         10\n",
              "20          8\n",
              "16          6\n",
              "11          6\n",
              "18          4\n",
              "14          3\n",
              "21          2\n",
              "17          2\n",
              "50          2\n",
              "13          2\n",
              "29          1\n",
              "39          1\n",
              "30          1\n",
              "34          1\n",
              "Name: units, dtype: int64"
            ]
          },
          "metadata": {},
          "execution_count": 21
        }
      ]
    },
    {
      "cell_type": "code",
      "source": [
        "# EleData[EleData.gmv=='']\n",
        "EleData.loc[EleData.gmv=='',\"gmv\"]=EleData.units*EleData.product_mrp"
      ],
      "metadata": {
        "id": "oojGDO3dXKio"
      },
      "execution_count": 22,
      "outputs": []
    },
    {
      "cell_type": "code",
      "source": [
        "EleData[EleData.deliverybdays=='\\\\N']\n",
        "EleData.deliverybdays.replace('\\\\N','NA',inplace=True)\n",
        "EleData.info()\n",
        "EleData[EleData.deliverycdays=='\\\\N']\n",
        "EleData.deliverycdays.replace('\\\\N','NA',inplace=True)"
      ],
      "metadata": {
        "colab": {
          "base_uri": "https://localhost:8080/"
        },
        "id": "57mxkapTXZ27",
        "outputId": "8939b58d-5c54-4fda-c2bb-c5cddadcb53d"
      },
      "execution_count": 23,
      "outputs": [
        {
          "output_type": "stream",
          "name": "stdout",
          "text": [
            "<class 'pandas.core.frame.DataFrame'>\n",
            "Int64Index: 1508710 entries, 0 to 1543996\n",
            "Data columns (total 20 columns):\n",
            " #   Column                           Non-Null Count    Dtype \n",
            "---  ------                           --------------    ----- \n",
            " 0   fsn_id                           1508710 non-null  object\n",
            " 1   order_date                       1508710 non-null  object\n",
            " 2   Year                             1508710 non-null  int64 \n",
            " 3   Month                            1508710 non-null  int64 \n",
            " 4   order_id                         1508710 non-null  int64 \n",
            " 5   order_item_id                    1508710 non-null  int64 \n",
            " 6   gmv                              1508710 non-null  object\n",
            " 7   units                            1508710 non-null  int64 \n",
            " 8   deliverybdays                    1508710 non-null  object\n",
            " 9   deliverycdays                    1508710 non-null  object\n",
            " 10  s1_fact.order_payment_type       1508710 non-null  object\n",
            " 11  sla                              1508710 non-null  int64 \n",
            " 12  cust_id                          1508710 non-null  object\n",
            " 13  pincode                          1508710 non-null  object\n",
            " 14  product_analytic_super_category  1508710 non-null  object\n",
            " 15  product_analytic_category        1508710 non-null  object\n",
            " 16  product_analytic_sub_category    1508710 non-null  object\n",
            " 17  product_analytic_vertical        1508710 non-null  object\n",
            " 18  product_mrp                      1508710 non-null  int64 \n",
            " 19  product_procurement_sla          1508710 non-null  int64 \n",
            "dtypes: int64(8), object(12)\n",
            "memory usage: 274.0+ MB\n"
          ]
        }
      ]
    },
    {
      "cell_type": "code",
      "source": [
        "EleData.deliverybdays.value_counts()[0]/EleData.shape[0]\n",
        "# --78% values are NA so dropping this column\n",
        "EleData.deliverycdays.value_counts()[0]/EleData.shape[0]\n",
        "# --78% values are NA so dropping this column\n",
        "\n",
        "EleData.drop([\"deliverybdays\",\"deliverycdays\"],1,inplace=True)\n"
      ],
      "metadata": {
        "colab": {
          "base_uri": "https://localhost:8080/"
        },
        "id": "ZcU__NVnalMJ",
        "outputId": "c1d1d2bb-da21-4500-c8a7-1983a9fa17a9"
      },
      "execution_count": 24,
      "outputs": [
        {
          "output_type": "stream",
          "name": "stderr",
          "text": [
            "<ipython-input-24-94372c1098ca>:6: FutureWarning: In a future version of pandas all arguments of DataFrame.drop except for the argument 'labels' will be keyword-only.\n",
            "  EleData.drop([\"deliverybdays\",\"deliverycdays\"],1,inplace=True)\n"
          ]
        }
      ]
    },
    {
      "cell_type": "code",
      "source": [
        "EleData[\"s1_fact.order_payment_type\"].value_counts()\n",
        "EleData.rename(columns={\"s1_fact.order_payment_type\":\"order_payment_type\"},inplace=True)"
      ],
      "metadata": {
        "id": "39dUjYLaZ-Yi"
      },
      "execution_count": 25,
      "outputs": []
    },
    {
      "cell_type": "code",
      "source": [
        "EleData.order_payment_type.value_counts()"
      ],
      "metadata": {
        "colab": {
          "base_uri": "https://localhost:8080/"
        },
        "id": "SMh5HKhRadxC",
        "outputId": "1e0c4ae8-278c-473b-b5bf-1a507e48b0f0"
      },
      "execution_count": 26,
      "outputs": [
        {
          "output_type": "execute_result",
          "data": {
            "text/plain": [
              "cod        1090984\n",
              "prepaid     417726\n",
              "Name: order_payment_type, dtype: int64"
            ]
          },
          "metadata": {},
          "execution_count": 26
        }
      ]
    },
    {
      "cell_type": "code",
      "source": [
        "EleData.sla=EleData.sla.astype(int)\n",
        "EleData[EleData.sla==0].shape"
      ],
      "metadata": {
        "colab": {
          "base_uri": "https://localhost:8080/"
        },
        "id": "BkJAER4ubKlL",
        "outputId": "c26c333e-eb7c-41f9-ee5d-23db72d5c9f4"
      },
      "execution_count": 27,
      "outputs": [
        {
          "output_type": "execute_result",
          "data": {
            "text/plain": [
              "(5585, 18)"
            ]
          },
          "metadata": {},
          "execution_count": 27
        }
      ]
    },
    {
      "cell_type": "code",
      "source": [
        "EleData.pincode.value_counts()\n",
        "## Too many groups , plus format isnt correct plus canadas pincode are alphanumeric so dropping it\n",
        "\n",
        "EleData.drop([\"pincode\"],1,inplace=True)"
      ],
      "metadata": {
        "colab": {
          "base_uri": "https://localhost:8080/"
        },
        "id": "ch-W1K6jbcdR",
        "outputId": "5f7706bc-805d-43cb-b286-bc3e8f0cc8cc"
      },
      "execution_count": 28,
      "outputs": [
        {
          "output_type": "stream",
          "name": "stderr",
          "text": [
            "<ipython-input-28-729901627f6a>:4: FutureWarning: In a future version of pandas all arguments of DataFrame.drop except for the argument 'labels' will be keyword-only.\n",
            "  EleData.drop([\"pincode\"],1,inplace=True)\n"
          ]
        }
      ]
    },
    {
      "cell_type": "code",
      "source": [
        "print(EleData.product_analytic_category.value_counts())\n",
        "print(EleData.product_analytic_sub_category.value_counts())\n",
        "print(EleData.product_analytic_vertical.value_counts())\n",
        "##droppning supercategory as its having only 1 value\n",
        "EleData.drop(['product_analytic_super_category'],1,inplace=True)"
      ],
      "metadata": {
        "colab": {
          "base_uri": "https://localhost:8080/"
        },
        "id": "_ay0up62cd1r",
        "outputId": "09dfcd08-4e0e-4995-95b0-7d444e5ff865"
      },
      "execution_count": 29,
      "outputs": [
        {
          "output_type": "stream",
          "name": "stdout",
          "text": [
            "entertainmentsmall    871879\n",
            "cameraaccessory       230278\n",
            "gaminghardware        211680\n",
            "gamecddvd             100205\n",
            "camera                 94668\n",
            "Name: product_analytic_category, dtype: int64\n",
            "speaker                504320\n",
            "cameraaccessory        214084\n",
            "gamingaccessory        185297\n",
            "tvvideosmall           131631\n",
            "homeaudio              114802\n",
            "audiomp3player         103192\n",
            "game                   100120\n",
            "camera                  94668\n",
            "gamingconsole           26383\n",
            "camerastorage           16194\n",
            "audioaccessory          10327\n",
            "hometheatre              4177\n",
            "amplifierreceiver        3430\n",
            "gamemembershipcards        85\n",
            "Name: product_analytic_sub_category, dtype: int64\n",
            "laptopspeaker        263718\n",
            "mobilespeaker        234867\n",
            "audiomp3player       103192\n",
            "physicalgame          91879\n",
            "homeaudiospeaker      79766\n",
            "                      ...  \n",
            "reflectorumbrella         3\n",
            "flashshoeadapter          2\n",
            "karaokeplayer             2\n",
            "gamecontrolmount          1\n",
            "teleconverter             1\n",
            "Name: product_analytic_vertical, Length: 74, dtype: int64\n"
          ]
        },
        {
          "output_type": "stream",
          "name": "stderr",
          "text": [
            "<ipython-input-29-b37bb17a7256>:5: FutureWarning: In a future version of pandas all arguments of DataFrame.drop except for the argument 'labels' will be keyword-only.\n",
            "  EleData.drop(['product_analytic_super_category'],1,inplace=True)\n"
          ]
        }
      ]
    },
    {
      "cell_type": "code",
      "source": [
        "## new subcategory needs to be created\n",
        "## Camera , Home Audio and Gaming Accessory\n",
        "EleData_1=EleData[EleData.product_analytic_sub_category.isin(['camera','homeaudio','gamingaccessory'])]"
      ],
      "metadata": {
        "id": "AKIewFwycQmu"
      },
      "execution_count": 30,
      "outputs": []
    },
    {
      "cell_type": "code",
      "source": [
        "EleData_1.info()"
      ],
      "metadata": {
        "colab": {
          "base_uri": "https://localhost:8080/"
        },
        "id": "LlB8quXZdtmN",
        "outputId": "b9bce484-cf3b-4be5-ed86-46bc58bff31a"
      },
      "execution_count": 31,
      "outputs": [
        {
          "output_type": "stream",
          "name": "stdout",
          "text": [
            "<class 'pandas.core.frame.DataFrame'>\n",
            "Int64Index: 394767 entries, 1598 to 1542378\n",
            "Data columns (total 16 columns):\n",
            " #   Column                         Non-Null Count   Dtype \n",
            "---  ------                         --------------   ----- \n",
            " 0   fsn_id                         394767 non-null  object\n",
            " 1   order_date                     394767 non-null  object\n",
            " 2   Year                           394767 non-null  int64 \n",
            " 3   Month                          394767 non-null  int64 \n",
            " 4   order_id                       394767 non-null  int64 \n",
            " 5   order_item_id                  394767 non-null  int64 \n",
            " 6   gmv                            394767 non-null  object\n",
            " 7   units                          394767 non-null  int64 \n",
            " 8   order_payment_type             394767 non-null  object\n",
            " 9   sla                            394767 non-null  int64 \n",
            " 10  cust_id                        394767 non-null  object\n",
            " 11  product_analytic_category      394767 non-null  object\n",
            " 12  product_analytic_sub_category  394767 non-null  object\n",
            " 13  product_analytic_vertical      394767 non-null  object\n",
            " 14  product_mrp                    394767 non-null  int64 \n",
            " 15  product_procurement_sla        394767 non-null  int64 \n",
            "dtypes: int64(8), object(8)\n",
            "memory usage: 51.2+ MB\n"
          ]
        }
      ]
    },
    {
      "cell_type": "code",
      "source": [
        "EleData_1.product_analytic_category.value_counts()\n",
        "EleData_1.product_analytic_vertical.value_counts()\n",
        "\n"
      ],
      "metadata": {
        "colab": {
          "base_uri": "https://localhost:8080/"
        },
        "id": "6wA3w3Pjdtvp",
        "outputId": "13903226-6ecd-4912-cf02-ebc24efe3849"
      },
      "execution_count": 32,
      "outputs": [
        {
          "output_type": "execute_result",
          "data": {
            "text/plain": [
              "homeaudiospeaker         79766\n",
              "gamingheadset            59649\n",
              "dslr                     54087\n",
              "gamepad                  52884\n",
              "point & shoot            35116\n",
              "gamingmouse              34774\n",
              "fmradio                  25299\n",
              "gamingaccessorykit        7631\n",
              "tvoutcableaccessory       6646\n",
              "gamingkeyboard            6231\n",
              "gamingmemorycard          5944\n",
              "gamingmousepad            4192\n",
              "voicerecorder             3384\n",
              "gamingadapter             3045\n",
              "joystickgamingwheel       2671\n",
              "boombox                   2456\n",
              "instant cameras           2404\n",
              "sportsandaction           2161\n",
              "dock                      1888\n",
              "hifisystem                1393\n",
              "motioncontroller          1044\n",
              "camcorders                 900\n",
              "gamingspeaker              493\n",
              "dockingstation             355\n",
              "djcontroller               188\n",
              "soundmixer                  68\n",
              "coolingpad                  45\n",
              "gamingchargingstation       43\n",
              "gaminggun                    4\n",
              "slingbox                     3\n",
              "karaokeplayer                2\n",
              "gamecontrolmount             1\n",
              "Name: product_analytic_vertical, dtype: int64"
            ]
          },
          "metadata": {},
          "execution_count": 32
        }
      ]
    },
    {
      "cell_type": "code",
      "source": [
        "vertical1=(EleData_1.product_analytic_vertical.value_counts()<20000)[EleData_1.product_analytic_vertical.value_counts()<20000].index\n",
        "EleData_1.product_analytic_vertical.value_counts()<20000"
      ],
      "metadata": {
        "colab": {
          "base_uri": "https://localhost:8080/"
        },
        "id": "7bZE1zdUefzK",
        "outputId": "085d9b09-7cb6-4473-c25d-54b7dfa275dd"
      },
      "execution_count": 33,
      "outputs": [
        {
          "output_type": "execute_result",
          "data": {
            "text/plain": [
              "homeaudiospeaker         False\n",
              "gamingheadset            False\n",
              "dslr                     False\n",
              "gamepad                  False\n",
              "point & shoot            False\n",
              "gamingmouse              False\n",
              "fmradio                  False\n",
              "gamingaccessorykit        True\n",
              "tvoutcableaccessory       True\n",
              "gamingkeyboard            True\n",
              "gamingmemorycard          True\n",
              "gamingmousepad            True\n",
              "voicerecorder             True\n",
              "gamingadapter             True\n",
              "joystickgamingwheel       True\n",
              "boombox                   True\n",
              "instant cameras           True\n",
              "sportsandaction           True\n",
              "dock                      True\n",
              "hifisystem                True\n",
              "motioncontroller          True\n",
              "camcorders                True\n",
              "gamingspeaker             True\n",
              "dockingstation            True\n",
              "djcontroller              True\n",
              "soundmixer                True\n",
              "coolingpad                True\n",
              "gamingchargingstation     True\n",
              "gaminggun                 True\n",
              "slingbox                  True\n",
              "karaokeplayer             True\n",
              "gamecontrolmount          True\n",
              "Name: product_analytic_vertical, dtype: bool"
            ]
          },
          "metadata": {},
          "execution_count": 33
        }
      ]
    },
    {
      "cell_type": "code",
      "source": [
        "EleData_1[\"product_analytic_vertical_derived\"]=EleData_1.product_analytic_vertical.replace(vertical1,\"Others\")"
      ],
      "metadata": {
        "colab": {
          "base_uri": "https://localhost:8080/"
        },
        "id": "QaioSt_qgeFy",
        "outputId": "a38c297f-3f40-470e-bdbe-d16d6889ac89"
      },
      "execution_count": 34,
      "outputs": [
        {
          "output_type": "stream",
          "name": "stderr",
          "text": [
            "<ipython-input-34-9b64ecd5eb04>:1: SettingWithCopyWarning: \n",
            "A value is trying to be set on a copy of a slice from a DataFrame.\n",
            "Try using .loc[row_indexer,col_indexer] = value instead\n",
            "\n",
            "See the caveats in the documentation: https://pandas.pydata.org/pandas-docs/stable/user_guide/indexing.html#returning-a-view-versus-a-copy\n",
            "  EleData_1[\"product_analytic_vertical_derived\"]=EleData_1.product_analytic_vertical.replace(vertical1,\"Others\")\n"
          ]
        }
      ]
    },
    {
      "cell_type": "code",
      "source": [
        "EleData_1.product_analytic_vertical_derived.value_counts()"
      ],
      "metadata": {
        "colab": {
          "base_uri": "https://localhost:8080/"
        },
        "id": "5wMmeOkZgzsT",
        "outputId": "cab843fc-7f48-44b4-cfed-6ba2b97c1bf4"
      },
      "execution_count": 35,
      "outputs": [
        {
          "output_type": "execute_result",
          "data": {
            "text/plain": [
              "homeaudiospeaker    79766\n",
              "gamingheadset       59649\n",
              "dslr                54087\n",
              "Others              53192\n",
              "gamepad             52884\n",
              "point & shoot       35116\n",
              "gamingmouse         34774\n",
              "fmradio             25299\n",
              "Name: product_analytic_vertical_derived, dtype: int64"
            ]
          },
          "metadata": {},
          "execution_count": 35
        }
      ]
    },
    {
      "cell_type": "code",
      "source": [
        "EleData_1.product_mrp.astype(float)"
      ],
      "metadata": {
        "id": "bt32mw7miZbg",
        "outputId": "4ae32cef-8285-4634-e75c-00ba3584062e",
        "colab": {
          "base_uri": "https://localhost:8080/"
        }
      },
      "execution_count": 36,
      "outputs": [
        {
          "output_type": "execute_result",
          "data": {
            "text/plain": [
              "1598        3999.0\n",
              "1599        3999.0\n",
              "1600        3999.0\n",
              "1601        3999.0\n",
              "1602        3999.0\n",
              "            ...   \n",
              "1542374    10500.0\n",
              "1542375    10500.0\n",
              "1542376    10500.0\n",
              "1542377    10500.0\n",
              "1542378    10500.0\n",
              "Name: product_mrp, Length: 394767, dtype: float64"
            ]
          },
          "metadata": {},
          "execution_count": 36
        }
      ]
    },
    {
      "cell_type": "code",
      "source": [],
      "metadata": {
        "id": "dv8EKUjDAC9B"
      },
      "execution_count": 36,
      "outputs": []
    },
    {
      "cell_type": "markdown",
      "source": [
        "Outlier treatment and Feature Engineering"
      ],
      "metadata": {
        "id": "dm675Va_1sue"
      }
    },
    {
      "cell_type": "code",
      "source": [
        "EleData_1.info()"
      ],
      "metadata": {
        "colab": {
          "base_uri": "https://localhost:8080/"
        },
        "id": "SSI1crOQ2V9x",
        "outputId": "2d9c19b6-7daf-4558-8755-3c0f2a398d15"
      },
      "execution_count": 37,
      "outputs": [
        {
          "output_type": "stream",
          "name": "stdout",
          "text": [
            "<class 'pandas.core.frame.DataFrame'>\n",
            "Int64Index: 394767 entries, 1598 to 1542378\n",
            "Data columns (total 17 columns):\n",
            " #   Column                             Non-Null Count   Dtype \n",
            "---  ------                             --------------   ----- \n",
            " 0   fsn_id                             394767 non-null  object\n",
            " 1   order_date                         394767 non-null  object\n",
            " 2   Year                               394767 non-null  int64 \n",
            " 3   Month                              394767 non-null  int64 \n",
            " 4   order_id                           394767 non-null  int64 \n",
            " 5   order_item_id                      394767 non-null  int64 \n",
            " 6   gmv                                394767 non-null  object\n",
            " 7   units                              394767 non-null  int64 \n",
            " 8   order_payment_type                 394767 non-null  object\n",
            " 9   sla                                394767 non-null  int64 \n",
            " 10  cust_id                            394767 non-null  object\n",
            " 11  product_analytic_category          394767 non-null  object\n",
            " 12  product_analytic_sub_category      394767 non-null  object\n",
            " 13  product_analytic_vertical          394767 non-null  object\n",
            " 14  product_mrp                        394767 non-null  int64 \n",
            " 15  product_procurement_sla            394767 non-null  int64 \n",
            " 16  product_analytic_vertical_derived  394767 non-null  object\n",
            "dtypes: int64(8), object(9)\n",
            "memory usage: 54.2+ MB\n"
          ]
        }
      ]
    },
    {
      "cell_type": "code",
      "source": [
        "EleData_1.Year=EleData_1.Year.astype(object)\n",
        "EleData_1.Month=EleData_1.Month.astype(object)"
      ],
      "metadata": {
        "colab": {
          "base_uri": "https://localhost:8080/"
        },
        "id": "ca0pDNfEAD_q",
        "outputId": "e87455f0-6bc2-401d-f17e-ec0c893ff1c2"
      },
      "execution_count": 38,
      "outputs": [
        {
          "output_type": "stream",
          "name": "stderr",
          "text": [
            "<ipython-input-38-4d925445d5e8>:1: SettingWithCopyWarning: \n",
            "A value is trying to be set on a copy of a slice from a DataFrame.\n",
            "Try using .loc[row_indexer,col_indexer] = value instead\n",
            "\n",
            "See the caveats in the documentation: https://pandas.pydata.org/pandas-docs/stable/user_guide/indexing.html#returning-a-view-versus-a-copy\n",
            "  EleData_1.Year=EleData_1.Year.astype(object)\n",
            "<ipython-input-38-4d925445d5e8>:2: SettingWithCopyWarning: \n",
            "A value is trying to be set on a copy of a slice from a DataFrame.\n",
            "Try using .loc[row_indexer,col_indexer] = value instead\n",
            "\n",
            "See the caveats in the documentation: https://pandas.pydata.org/pandas-docs/stable/user_guide/indexing.html#returning-a-view-versus-a-copy\n",
            "  EleData_1.Month=EleData_1.Month.astype(object)\n"
          ]
        }
      ]
    },
    {
      "cell_type": "code",
      "source": [
        "## Deleting columns which wont be required\n",
        "EleData2=EleData_1.drop(['fsn_id','cust_id','product_analytic_vertical','order_id'],1)\n",
        "## keep only July 2015 to June 2016 data\n",
        "\n",
        "EleData2=EleData2.where((EleData2['order_date']>='2015-07-01') & (EleData2['order_date']<='2016-06-30'))"
      ],
      "metadata": {
        "id": "rIcj3oXO2ZfF"
      },
      "execution_count": 97,
      "outputs": []
    },
    {
      "cell_type": "code",
      "source": [
        "EleData2.info()"
      ],
      "metadata": {
        "colab": {
          "base_uri": "https://localhost:8080/"
        },
        "id": "i6wK-UhA4bEG",
        "outputId": "56e208e2-5a8d-4f20-9318-e7e0aec85016"
      },
      "execution_count": 103,
      "outputs": [
        {
          "output_type": "stream",
          "name": "stdout",
          "text": [
            "<class 'pandas.core.frame.DataFrame'>\n",
            "Int64Index: 394767 entries, 1598 to 1542378\n",
            "Data columns (total 13 columns):\n",
            " #   Column                             Non-Null Count   Dtype  \n",
            "---  ------                             --------------   -----  \n",
            " 0   order_date                         394612 non-null  object \n",
            " 1   Year                               394612 non-null  object \n",
            " 2   Month                              394612 non-null  object \n",
            " 3   order_item_id                      394612 non-null  float64\n",
            " 4   gmv                                394612 non-null  object \n",
            " 5   units                              394612 non-null  float64\n",
            " 6   order_payment_type                 394612 non-null  object \n",
            " 7   sla                                394612 non-null  float64\n",
            " 8   product_analytic_category          394612 non-null  object \n",
            " 9   product_analytic_sub_category      394612 non-null  object \n",
            " 10  product_mrp                        394612 non-null  float64\n",
            " 11  product_procurement_sla            394612 non-null  float64\n",
            " 12  product_analytic_vertical_derived  394612 non-null  object \n",
            "dtypes: float64(5), object(8)\n",
            "memory usage: 42.2+ MB\n"
          ]
        }
      ]
    },
    {
      "cell_type": "code",
      "source": [
        "## integer column handling\n",
        "num=[]\n",
        "obj=[]\n",
        "for i in EleData2.columns:\n",
        "  if EleData2[i].dtype=='float64':\n",
        "    num.append(i)\n",
        "  if EleData2[i].dtype=='object':\n",
        "    obj.append(i)\n",
        "\n",
        "# num.remove('Year')\n",
        "# num.remove('Month')\n",
        "num.remove('order_item_id')\n"
      ],
      "metadata": {
        "id": "1mk-PKYq5Fjw"
      },
      "execution_count": 110,
      "outputs": []
    },
    {
      "cell_type": "code",
      "source": [
        "import matplotlib.pyplot as plt\n",
        "num"
      ],
      "metadata": {
        "colab": {
          "base_uri": "https://localhost:8080/"
        },
        "id": "SRoc5Vy28oVE",
        "outputId": "7d09b97f-c16f-49e3-fab5-08e6a8270104"
      },
      "execution_count": 107,
      "outputs": [
        {
          "output_type": "execute_result",
          "data": {
            "text/plain": [
              "[]"
            ]
          },
          "metadata": {},
          "execution_count": 107
        }
      ]
    },
    {
      "cell_type": "code",
      "source": [
        "EleData2[num].describe()\n"
      ],
      "metadata": {
        "colab": {
          "base_uri": "https://localhost:8080/",
          "height": 300
        },
        "id": "h-OZIjPWBJ0Z",
        "outputId": "e9a7137e-c69f-4dea-fdee-c45467a3d58a"
      },
      "execution_count": 122,
      "outputs": [
        {
          "output_type": "execute_result",
          "data": {
            "text/plain": [
              "               units            sla    product_mrp  product_procurement_sla\n",
              "count  394612.000000  394612.000000  394612.000000            394612.000000\n",
              "mean        1.020782       5.460893    8464.834744                 2.574747\n",
              "std         0.211504       2.659377   13884.502714                 1.955616\n",
              "min         1.000000       0.000000       0.000000                -1.000000\n",
              "25%         1.000000       4.000000     950.000000                 1.000000\n",
              "50%         1.000000       5.000000    2180.000000                 2.000000\n",
              "75%         1.000000       7.000000    6990.000000                 3.000000\n",
              "max        18.000000      60.000000  280000.000000                15.000000"
            ],
            "text/html": [
              "\n",
              "  <div id=\"df-31534e6f-24a6-4721-ab00-fd1c0c480a8a\" class=\"colab-df-container\">\n",
              "    <div>\n",
              "<style scoped>\n",
              "    .dataframe tbody tr th:only-of-type {\n",
              "        vertical-align: middle;\n",
              "    }\n",
              "\n",
              "    .dataframe tbody tr th {\n",
              "        vertical-align: top;\n",
              "    }\n",
              "\n",
              "    .dataframe thead th {\n",
              "        text-align: right;\n",
              "    }\n",
              "</style>\n",
              "<table border=\"1\" class=\"dataframe\">\n",
              "  <thead>\n",
              "    <tr style=\"text-align: right;\">\n",
              "      <th></th>\n",
              "      <th>units</th>\n",
              "      <th>sla</th>\n",
              "      <th>product_mrp</th>\n",
              "      <th>product_procurement_sla</th>\n",
              "    </tr>\n",
              "  </thead>\n",
              "  <tbody>\n",
              "    <tr>\n",
              "      <th>count</th>\n",
              "      <td>394612.000000</td>\n",
              "      <td>394612.000000</td>\n",
              "      <td>394612.000000</td>\n",
              "      <td>394612.000000</td>\n",
              "    </tr>\n",
              "    <tr>\n",
              "      <th>mean</th>\n",
              "      <td>1.020782</td>\n",
              "      <td>5.460893</td>\n",
              "      <td>8464.834744</td>\n",
              "      <td>2.574747</td>\n",
              "    </tr>\n",
              "    <tr>\n",
              "      <th>std</th>\n",
              "      <td>0.211504</td>\n",
              "      <td>2.659377</td>\n",
              "      <td>13884.502714</td>\n",
              "      <td>1.955616</td>\n",
              "    </tr>\n",
              "    <tr>\n",
              "      <th>min</th>\n",
              "      <td>1.000000</td>\n",
              "      <td>0.000000</td>\n",
              "      <td>0.000000</td>\n",
              "      <td>-1.000000</td>\n",
              "    </tr>\n",
              "    <tr>\n",
              "      <th>25%</th>\n",
              "      <td>1.000000</td>\n",
              "      <td>4.000000</td>\n",
              "      <td>950.000000</td>\n",
              "      <td>1.000000</td>\n",
              "    </tr>\n",
              "    <tr>\n",
              "      <th>50%</th>\n",
              "      <td>1.000000</td>\n",
              "      <td>5.000000</td>\n",
              "      <td>2180.000000</td>\n",
              "      <td>2.000000</td>\n",
              "    </tr>\n",
              "    <tr>\n",
              "      <th>75%</th>\n",
              "      <td>1.000000</td>\n",
              "      <td>7.000000</td>\n",
              "      <td>6990.000000</td>\n",
              "      <td>3.000000</td>\n",
              "    </tr>\n",
              "    <tr>\n",
              "      <th>max</th>\n",
              "      <td>18.000000</td>\n",
              "      <td>60.000000</td>\n",
              "      <td>280000.000000</td>\n",
              "      <td>15.000000</td>\n",
              "    </tr>\n",
              "  </tbody>\n",
              "</table>\n",
              "</div>\n",
              "    <div class=\"colab-df-buttons\">\n",
              "\n",
              "  <div class=\"colab-df-container\">\n",
              "    <button class=\"colab-df-convert\" onclick=\"convertToInteractive('df-31534e6f-24a6-4721-ab00-fd1c0c480a8a')\"\n",
              "            title=\"Convert this dataframe to an interactive table.\"\n",
              "            style=\"display:none;\">\n",
              "\n",
              "  <svg xmlns=\"http://www.w3.org/2000/svg\" height=\"24px\" viewBox=\"0 -960 960 960\">\n",
              "    <path d=\"M120-120v-720h720v720H120Zm60-500h600v-160H180v160Zm220 220h160v-160H400v160Zm0 220h160v-160H400v160ZM180-400h160v-160H180v160Zm440 0h160v-160H620v160ZM180-180h160v-160H180v160Zm440 0h160v-160H620v160Z\"/>\n",
              "  </svg>\n",
              "    </button>\n",
              "\n",
              "  <style>\n",
              "    .colab-df-container {\n",
              "      display:flex;\n",
              "      gap: 12px;\n",
              "    }\n",
              "\n",
              "    .colab-df-convert {\n",
              "      background-color: #E8F0FE;\n",
              "      border: none;\n",
              "      border-radius: 50%;\n",
              "      cursor: pointer;\n",
              "      display: none;\n",
              "      fill: #1967D2;\n",
              "      height: 32px;\n",
              "      padding: 0 0 0 0;\n",
              "      width: 32px;\n",
              "    }\n",
              "\n",
              "    .colab-df-convert:hover {\n",
              "      background-color: #E2EBFA;\n",
              "      box-shadow: 0px 1px 2px rgba(60, 64, 67, 0.3), 0px 1px 3px 1px rgba(60, 64, 67, 0.15);\n",
              "      fill: #174EA6;\n",
              "    }\n",
              "\n",
              "    .colab-df-buttons div {\n",
              "      margin-bottom: 4px;\n",
              "    }\n",
              "\n",
              "    [theme=dark] .colab-df-convert {\n",
              "      background-color: #3B4455;\n",
              "      fill: #D2E3FC;\n",
              "    }\n",
              "\n",
              "    [theme=dark] .colab-df-convert:hover {\n",
              "      background-color: #434B5C;\n",
              "      box-shadow: 0px 1px 3px 1px rgba(0, 0, 0, 0.15);\n",
              "      filter: drop-shadow(0px 1px 2px rgba(0, 0, 0, 0.3));\n",
              "      fill: #FFFFFF;\n",
              "    }\n",
              "  </style>\n",
              "\n",
              "    <script>\n",
              "      const buttonEl =\n",
              "        document.querySelector('#df-31534e6f-24a6-4721-ab00-fd1c0c480a8a button.colab-df-convert');\n",
              "      buttonEl.style.display =\n",
              "        google.colab.kernel.accessAllowed ? 'block' : 'none';\n",
              "\n",
              "      async function convertToInteractive(key) {\n",
              "        const element = document.querySelector('#df-31534e6f-24a6-4721-ab00-fd1c0c480a8a');\n",
              "        const dataTable =\n",
              "          await google.colab.kernel.invokeFunction('convertToInteractive',\n",
              "                                                    [key], {});\n",
              "        if (!dataTable) return;\n",
              "\n",
              "        const docLinkHtml = 'Like what you see? Visit the ' +\n",
              "          '<a target=\"_blank\" href=https://colab.research.google.com/notebooks/data_table.ipynb>data table notebook</a>'\n",
              "          + ' to learn more about interactive tables.';\n",
              "        element.innerHTML = '';\n",
              "        dataTable['output_type'] = 'display_data';\n",
              "        await google.colab.output.renderOutput(dataTable, element);\n",
              "        const docLink = document.createElement('div');\n",
              "        docLink.innerHTML = docLinkHtml;\n",
              "        element.appendChild(docLink);\n",
              "      }\n",
              "    </script>\n",
              "  </div>\n",
              "\n",
              "\n",
              "<div id=\"df-f06ac249-cbbd-46ef-969f-4bf5042a642d\">\n",
              "  <button class=\"colab-df-quickchart\" onclick=\"quickchart('df-f06ac249-cbbd-46ef-969f-4bf5042a642d')\"\n",
              "            title=\"Suggest charts.\"\n",
              "            style=\"display:none;\">\n",
              "\n",
              "<svg xmlns=\"http://www.w3.org/2000/svg\" height=\"24px\"viewBox=\"0 0 24 24\"\n",
              "     width=\"24px\">\n",
              "    <g>\n",
              "        <path d=\"M19 3H5c-1.1 0-2 .9-2 2v14c0 1.1.9 2 2 2h14c1.1 0 2-.9 2-2V5c0-1.1-.9-2-2-2zM9 17H7v-7h2v7zm4 0h-2V7h2v10zm4 0h-2v-4h2v4z\"/>\n",
              "    </g>\n",
              "</svg>\n",
              "  </button>\n",
              "\n",
              "<style>\n",
              "  .colab-df-quickchart {\n",
              "      --bg-color: #E8F0FE;\n",
              "      --fill-color: #1967D2;\n",
              "      --hover-bg-color: #E2EBFA;\n",
              "      --hover-fill-color: #174EA6;\n",
              "      --disabled-fill-color: #AAA;\n",
              "      --disabled-bg-color: #DDD;\n",
              "  }\n",
              "\n",
              "  [theme=dark] .colab-df-quickchart {\n",
              "      --bg-color: #3B4455;\n",
              "      --fill-color: #D2E3FC;\n",
              "      --hover-bg-color: #434B5C;\n",
              "      --hover-fill-color: #FFFFFF;\n",
              "      --disabled-bg-color: #3B4455;\n",
              "      --disabled-fill-color: #666;\n",
              "  }\n",
              "\n",
              "  .colab-df-quickchart {\n",
              "    background-color: var(--bg-color);\n",
              "    border: none;\n",
              "    border-radius: 50%;\n",
              "    cursor: pointer;\n",
              "    display: none;\n",
              "    fill: var(--fill-color);\n",
              "    height: 32px;\n",
              "    padding: 0;\n",
              "    width: 32px;\n",
              "  }\n",
              "\n",
              "  .colab-df-quickchart:hover {\n",
              "    background-color: var(--hover-bg-color);\n",
              "    box-shadow: 0 1px 2px rgba(60, 64, 67, 0.3), 0 1px 3px 1px rgba(60, 64, 67, 0.15);\n",
              "    fill: var(--button-hover-fill-color);\n",
              "  }\n",
              "\n",
              "  .colab-df-quickchart-complete:disabled,\n",
              "  .colab-df-quickchart-complete:disabled:hover {\n",
              "    background-color: var(--disabled-bg-color);\n",
              "    fill: var(--disabled-fill-color);\n",
              "    box-shadow: none;\n",
              "  }\n",
              "\n",
              "  .colab-df-spinner {\n",
              "    border: 2px solid var(--fill-color);\n",
              "    border-color: transparent;\n",
              "    border-bottom-color: var(--fill-color);\n",
              "    animation:\n",
              "      spin 1s steps(1) infinite;\n",
              "  }\n",
              "\n",
              "  @keyframes spin {\n",
              "    0% {\n",
              "      border-color: transparent;\n",
              "      border-bottom-color: var(--fill-color);\n",
              "      border-left-color: var(--fill-color);\n",
              "    }\n",
              "    20% {\n",
              "      border-color: transparent;\n",
              "      border-left-color: var(--fill-color);\n",
              "      border-top-color: var(--fill-color);\n",
              "    }\n",
              "    30% {\n",
              "      border-color: transparent;\n",
              "      border-left-color: var(--fill-color);\n",
              "      border-top-color: var(--fill-color);\n",
              "      border-right-color: var(--fill-color);\n",
              "    }\n",
              "    40% {\n",
              "      border-color: transparent;\n",
              "      border-right-color: var(--fill-color);\n",
              "      border-top-color: var(--fill-color);\n",
              "    }\n",
              "    60% {\n",
              "      border-color: transparent;\n",
              "      border-right-color: var(--fill-color);\n",
              "    }\n",
              "    80% {\n",
              "      border-color: transparent;\n",
              "      border-right-color: var(--fill-color);\n",
              "      border-bottom-color: var(--fill-color);\n",
              "    }\n",
              "    90% {\n",
              "      border-color: transparent;\n",
              "      border-bottom-color: var(--fill-color);\n",
              "    }\n",
              "  }\n",
              "</style>\n",
              "\n",
              "  <script>\n",
              "    async function quickchart(key) {\n",
              "      const quickchartButtonEl =\n",
              "        document.querySelector('#' + key + ' button');\n",
              "      quickchartButtonEl.disabled = true;  // To prevent multiple clicks.\n",
              "      quickchartButtonEl.classList.add('colab-df-spinner');\n",
              "      try {\n",
              "        const charts = await google.colab.kernel.invokeFunction(\n",
              "            'suggestCharts', [key], {});\n",
              "      } catch (error) {\n",
              "        console.error('Error during call to suggestCharts:', error);\n",
              "      }\n",
              "      quickchartButtonEl.classList.remove('colab-df-spinner');\n",
              "      quickchartButtonEl.classList.add('colab-df-quickchart-complete');\n",
              "    }\n",
              "    (() => {\n",
              "      let quickchartButtonEl =\n",
              "        document.querySelector('#df-f06ac249-cbbd-46ef-969f-4bf5042a642d button');\n",
              "      quickchartButtonEl.style.display =\n",
              "        google.colab.kernel.accessAllowed ? 'block' : 'none';\n",
              "    })();\n",
              "  </script>\n",
              "</div>\n",
              "    </div>\n",
              "  </div>\n"
            ]
          },
          "metadata": {},
          "execution_count": 122
        }
      ]
    },
    {
      "cell_type": "code",
      "source": [
        "plt.figure(figsize=(15, 9))\n",
        "x=1\n",
        "for i in num:\n",
        "  plt.subplot(2,2,x)\n",
        "  plt.title(i)\n",
        "  sns.barplot(x=EleData2['Month'],y=EleData2[i],hue=EleData2['Year'])\n",
        "  x=x+1"
      ],
      "metadata": {
        "colab": {
          "base_uri": "https://localhost:8080/",
          "height": 788
        },
        "id": "URdoZCYO9HxY",
        "outputId": "ffb47fed-bbe6-4ea8-ccfa-5c4b002a6309"
      },
      "execution_count": 111,
      "outputs": [
        {
          "output_type": "display_data",
          "data": {
            "text/plain": [
              "<Figure size 1500x900 with 4 Axes>"
            ],
            "image/png": "[encoded data removed]"
          },
          "metadata": {}
        }
      ]
    },
    {
      "cell_type": "code",
      "source": [
        "plt.figure(figsize=(15, 15))\n",
        "x=1\n",
        "for i in num:\n",
        "  plt.subplot(2,2,x)\n",
        "  plt.title(i)\n",
        "  sns.boxplot(x=EleData2['Month'],y=EleData2[i],hue=EleData2['Year'])\n",
        "  x=x+1"
      ],
      "metadata": {
        "colab": {
          "base_uri": "https://localhost:8080/",
          "height": 1000
        },
        "id": "PZJDKPhh875A",
        "outputId": "6e48095c-6dc6-43c6-e2b0-4c13ce321c13"
      },
      "execution_count": 112,
      "outputs": [
        {
          "output_type": "display_data",
          "data": {
            "text/plain": [
              "<Figure size 1500x1500 with 4 Axes>"
            ],
            "image/png": "[encoded data removed]"
          },
          "metadata": {}
        }
      ]
    },
    {
      "cell_type": "code",
      "source": [
        "plt.figure(figsize=(15, 12))\n",
        "x=1\n",
        "for i in num:\n",
        "  plt.subplot(4,1,x)\n",
        "  plt.title(i)\n",
        "  sns.lineplot(x=EleData2['order_date'],y=EleData2[i],estimator=nm.median)\n",
        "  x=x+1"
      ],
      "metadata": {
        "colab": {
          "base_uri": "https://localhost:8080/",
          "height": 1000
        },
        "id": "s69awhM58hOJ",
        "outputId": "abcd633d-f202-4ff8-ad88-a0b455e73d5d"
      },
      "execution_count": 132,
      "outputs": [
        {
          "output_type": "display_data",
          "data": {
            "text/plain": [
              "<Figure size 1500x1200 with 4 Axes>"
            ],
            "image/png": "[encoded data removed]"
          },
          "metadata": {}
        }
      ]
    },
    {
      "cell_type": "code",
      "source": [
        "q = EleData.groupby(['Year','Month'])['product_mrp','units','sla'].quantile([0.5,1]).reset_index()\n"
      ],
      "metadata": {
        "id": "yWcHBDCl_2Wv",
        "outputId": "b9f5e716-81d6-4ccc-86c6-291e5f0afb4d",
        "colab": {
          "base_uri": "https://localhost:8080/"
        }
      },
      "execution_count": 124,
      "outputs": [
        {
          "output_type": "stream",
          "name": "stderr",
          "text": [
            "<ipython-input-124-b51d168fe864>:1: FutureWarning: Indexing with multiple keys (implicitly converted to a tuple of keys) will be deprecated, use a list instead.\n",
            "  q = EleData.groupby(['Year','Month'])['product_mrp','units','sla'].quantile([0.5,1]).reset_index()\n"
          ]
        }
      ]
    },
    {
      "cell_type": "code",
      "source": [
        "q"
      ],
      "metadata": {
        "id": "yB3ywz_4Byqw",
        "outputId": "ff9d000c-7646-447f-8357-d579deeb8da5",
        "colab": {
          "base_uri": "https://localhost:8080/",
          "height": 990
        }
      },
      "execution_count": 126,
      "outputs": [
        {
          "output_type": "execute_result",
          "data": {
            "text/plain": [
              "    Year  Month  level_2  product_mrp  units     sla\n",
              "0   2015      5      0.5       6990.0    1.0     6.0\n",
              "1   2015      5      1.0       6990.0    1.0     6.0\n",
              "2   2015      6      0.5        500.0    1.0     8.0\n",
              "3   2015      6      1.0       3000.0    1.0    28.0\n",
              "4   2015      7      0.5       1499.0    1.0     6.0\n",
              "5   2015      7      1.0     299999.0   10.0    68.0\n",
              "6   2015      8      0.5       1100.0    1.0     5.0\n",
              "7   2015      8      1.0      34950.0    2.0    15.0\n",
              "8   2015      9      0.5       1300.0    1.0     6.0\n",
              "9   2015      9      1.0     259995.0   10.0    47.0\n",
              "10  2015     10      0.5       1700.0    1.0     5.0\n",
              "11  2015     10      1.0     150795.0   50.0    42.0\n",
              "12  2015     11      0.5       1341.0    1.0     5.0\n",
              "13  2015     11      1.0     150795.0   39.0    60.0\n",
              "14  2015     12      0.5       1990.0    1.0     5.0\n",
              "15  2015     12      1.0     259995.0   50.0    56.0\n",
              "16  2016      1      0.5       1700.0    1.0     6.0\n",
              "17  2016      1      1.0     280000.0   16.0    35.0\n",
              "18  2016      2      0.5       1399.0    1.0     6.0\n",
              "19  2016      2      1.0     259995.0   20.0   175.0\n",
              "20  2016      3      0.5       1750.0    1.0     5.0\n",
              "21  2016      3      1.0     189000.0   20.0    28.0\n",
              "22  2016      4      0.5       1599.0    1.0     6.0\n",
              "23  2016      4      1.0     259995.0   18.0  1006.0\n",
              "24  2016      5      0.5       1699.0    1.0     5.0\n",
              "25  2016      5      1.0     280000.0   15.0    61.0\n",
              "26  2016      6      0.5       1599.0    1.0     5.0\n",
              "27  2016      6      1.0     189000.0   12.0    61.0\n",
              "28  2016      7      0.5       1800.0    1.0     5.0\n",
              "29  2016      7      1.0     134450.0    2.0    32.0"
            ],
            "text/html": [
              "\n",
              "  <div id=\"df-65639545-e79f-45c3-af59-4719ea58a347\" class=\"colab-df-container\">\n",
              "    <div>\n",
              "<style scoped>\n",
              "    .dataframe tbody tr th:only-of-type {\n",
              "        vertical-align: middle;\n",
              "    }\n",
              "\n",
              "    .dataframe tbody tr th {\n",
              "        vertical-align: top;\n",
              "    }\n",
              "\n",
              "    .dataframe thead th {\n",
              "        text-align: right;\n",
              "    }\n",
              "</style>\n",
              "<table border=\"1\" class=\"dataframe\">\n",
              "  <thead>\n",
              "    <tr style=\"text-align: right;\">\n",
              "      <th></th>\n",
              "      <th>Year</th>\n",
              "      <th>Month</th>\n",
              "      <th>level_2</th>\n",
              "      <th>product_mrp</th>\n",
              "      <th>units</th>\n",
              "      <th>sla</th>\n",
              "    </tr>\n",
              "  </thead>\n",
              "  <tbody>\n",
              "    <tr>\n",
              "      <th>0</th>\n",
              "      <td>2015</td>\n",
              "      <td>5</td>\n",
              "      <td>0.5</td>\n",
              "      <td>6990.0</td>\n",
              "      <td>1.0</td>\n",
              "      <td>6.0</td>\n",
              "    </tr>\n",
              "    <tr>\n",
              "      <th>1</th>\n",
              "      <td>2015</td>\n",
              "      <td>5</td>\n",
              "      <td>1.0</td>\n",
              "      <td>6990.0</td>\n",
              "      <td>1.0</td>\n",
              "      <td>6.0</td>\n",
              "    </tr>\n",
              "    <tr>\n",
              "      <th>2</th>\n",
              "      <td>2015</td>\n",
              "      <td>6</td>\n",
              "      <td>0.5</td>\n",
              "      <td>500.0</td>\n",
              "      <td>1.0</td>\n",
              "      <td>8.0</td>\n",
              "    </tr>\n",
              "    <tr>\n",
              "      <th>3</th>\n",
              "      <td>2015</td>\n",
              "      <td>6</td>\n",
              "      <td>1.0</td>\n",
              "      <td>3000.0</td>\n",
              "      <td>1.0</td>\n",
              "      <td>28.0</td>\n",
              "    </tr>\n",
              "    <tr>\n",
              "      <th>4</th>\n",
              "      <td>2015</td>\n",
              "      <td>7</td>\n",
              "      <td>0.5</td>\n",
              "      <td>1499.0</td>\n",
              "      <td>1.0</td>\n",
              "      <td>6.0</td>\n",
              "    </tr>\n",
              "    <tr>\n",
              "      <th>5</th>\n",
              "      <td>2015</td>\n",
              "      <td>7</td>\n",
              "      <td>1.0</td>\n",
              "      <td>299999.0</td>\n",
              "      <td>10.0</td>\n",
              "      <td>68.0</td>\n",
              "    </tr>\n",
              "    <tr>\n",
              "      <th>6</th>\n",
              "      <td>2015</td>\n",
              "      <td>8</td>\n",
              "      <td>0.5</td>\n",
              "      <td>1100.0</td>\n",
              "      <td>1.0</td>\n",
              "      <td>5.0</td>\n",
              "    </tr>\n",
              "    <tr>\n",
              "      <th>7</th>\n",
              "      <td>2015</td>\n",
              "      <td>8</td>\n",
              "      <td>1.0</td>\n",
              "      <td>34950.0</td>\n",
              "      <td>2.0</td>\n",
              "      <td>15.0</td>\n",
              "    </tr>\n",
              "    <tr>\n",
              "      <th>8</th>\n",
              "      <td>2015</td>\n",
              "      <td>9</td>\n",
              "      <td>0.5</td>\n",
              "      <td>1300.0</td>\n",
              "      <td>1.0</td>\n",
              "      <td>6.0</td>\n",
              "    </tr>\n",
              "    <tr>\n",
              "      <th>9</th>\n",
              "      <td>2015</td>\n",
              "      <td>9</td>\n",
              "      <td>1.0</td>\n",
              "      <td>259995.0</td>\n",
              "      <td>10.0</td>\n",
              "      <td>47.0</td>\n",
              "    </tr>\n",
              "    <tr>\n",
              "      <th>10</th>\n",
              "      <td>2015</td>\n",
              "      <td>10</td>\n",
              "      <td>0.5</td>\n",
              "      <td>1700.0</td>\n",
              "      <td>1.0</td>\n",
              "      <td>5.0</td>\n",
              "    </tr>\n",
              "    <tr>\n",
              "      <th>11</th>\n",
              "      <td>2015</td>\n",
              "      <td>10</td>\n",
              "      <td>1.0</td>\n",
              "      <td>150795.0</td>\n",
              "      <td>50.0</td>\n",
              "      <td>42.0</td>\n",
              "    </tr>\n",
              "    <tr>\n",
              "      <th>12</th>\n",
              "      <td>2015</td>\n",
              "      <td>11</td>\n",
              "      <td>0.5</td>\n",
              "      <td>1341.0</td>\n",
              "      <td>1.0</td>\n",
              "      <td>5.0</td>\n",
              "    </tr>\n",
              "    <tr>\n",
              "      <th>13</th>\n",
              "      <td>2015</td>\n",
              "      <td>11</td>\n",
              "      <td>1.0</td>\n",
              "      <td>150795.0</td>\n",
              "      <td>39.0</td>\n",
              "      <td>60.0</td>\n",
              "    </tr>\n",
              "    <tr>\n",
              "      <th>14</th>\n",
              "      <td>2015</td>\n",
              "      <td>12</td>\n",
              "      <td>0.5</td>\n",
              "      <td>1990.0</td>\n",
              "      <td>1.0</td>\n",
              "      <td>5.0</td>\n",
              "    </tr>\n",
              "    <tr>\n",
              "      <th>15</th>\n",
              "      <td>2015</td>\n",
              "      <td>12</td>\n",
              "      <td>1.0</td>\n",
              "      <td>259995.0</td>\n",
              "      <td>50.0</td>\n",
              "      <td>56.0</td>\n",
              "    </tr>\n",
              "    <tr>\n",
              "      <th>16</th>\n",
              "      <td>2016</td>\n",
              "      <td>1</td>\n",
              "      <td>0.5</td>\n",
              "      <td>1700.0</td>\n",
              "      <td>1.0</td>\n",
              "      <td>6.0</td>\n",
              "    </tr>\n",
              "    <tr>\n",
              "      <th>17</th>\n",
              "      <td>2016</td>\n",
              "      <td>1</td>\n",
              "      <td>1.0</td>\n",
              "      <td>280000.0</td>\n",
              "      <td>16.0</td>\n",
              "      <td>35.0</td>\n",
              "    </tr>\n",
              "    <tr>\n",
              "      <th>18</th>\n",
              "      <td>2016</td>\n",
              "      <td>2</td>\n",
              "      <td>0.5</td>\n",
              "      <td>1399.0</td>\n",
              "      <td>1.0</td>\n",
              "      <td>6.0</td>\n",
              "    </tr>\n",
              "    <tr>\n",
              "      <th>19</th>\n",
              "      <td>2016</td>\n",
              "      <td>2</td>\n",
              "      <td>1.0</td>\n",
              "      <td>259995.0</td>\n",
              "      <td>20.0</td>\n",
              "      <td>175.0</td>\n",
              "    </tr>\n",
              "    <tr>\n",
              "      <th>20</th>\n",
              "      <td>2016</td>\n",
              "      <td>3</td>\n",
              "      <td>0.5</td>\n",
              "      <td>1750.0</td>\n",
              "      <td>1.0</td>\n",
              "      <td>5.0</td>\n",
              "    </tr>\n",
              "    <tr>\n",
              "      <th>21</th>\n",
              "      <td>2016</td>\n",
              "      <td>3</td>\n",
              "      <td>1.0</td>\n",
              "      <td>189000.0</td>\n",
              "      <td>20.0</td>\n",
              "      <td>28.0</td>\n",
              "    </tr>\n",
              "    <tr>\n",
              "      <th>22</th>\n",
              "      <td>2016</td>\n",
              "      <td>4</td>\n",
              "      <td>0.5</td>\n",
              "      <td>1599.0</td>\n",
              "      <td>1.0</td>\n",
              "      <td>6.0</td>\n",
              "    </tr>\n",
              "    <tr>\n",
              "      <th>23</th>\n",
              "      <td>2016</td>\n",
              "      <td>4</td>\n",
              "      <td>1.0</td>\n",
              "      <td>259995.0</td>\n",
              "      <td>18.0</td>\n",
              "      <td>1006.0</td>\n",
              "    </tr>\n",
              "    <tr>\n",
              "      <th>24</th>\n",
              "      <td>2016</td>\n",
              "      <td>5</td>\n",
              "      <td>0.5</td>\n",
              "      <td>1699.0</td>\n",
              "      <td>1.0</td>\n",
              "      <td>5.0</td>\n",
              "    </tr>\n",
              "    <tr>\n",
              "      <th>25</th>\n",
              "      <td>2016</td>\n",
              "      <td>5</td>\n",
              "      <td>1.0</td>\n",
              "      <td>280000.0</td>\n",
              "      <td>15.0</td>\n",
              "      <td>61.0</td>\n",
              "    </tr>\n",
              "    <tr>\n",
              "      <th>26</th>\n",
              "      <td>2016</td>\n",
              "      <td>6</td>\n",
              "      <td>0.5</td>\n",
              "      <td>1599.0</td>\n",
              "      <td>1.0</td>\n",
              "      <td>5.0</td>\n",
              "    </tr>\n",
              "    <tr>\n",
              "      <th>27</th>\n",
              "      <td>2016</td>\n",
              "      <td>6</td>\n",
              "      <td>1.0</td>\n",
              "      <td>189000.0</td>\n",
              "      <td>12.0</td>\n",
              "      <td>61.0</td>\n",
              "    </tr>\n",
              "    <tr>\n",
              "      <th>28</th>\n",
              "      <td>2016</td>\n",
              "      <td>7</td>\n",
              "      <td>0.5</td>\n",
              "      <td>1800.0</td>\n",
              "      <td>1.0</td>\n",
              "      <td>5.0</td>\n",
              "    </tr>\n",
              "    <tr>\n",
              "      <th>29</th>\n",
              "      <td>2016</td>\n",
              "      <td>7</td>\n",
              "      <td>1.0</td>\n",
              "      <td>134450.0</td>\n",
              "      <td>2.0</td>\n",
              "      <td>32.0</td>\n",
              "    </tr>\n",
              "  </tbody>\n",
              "</table>\n",
              "</div>\n",
              "    <div class=\"colab-df-buttons\">\n",
              "\n",
              "  <div class=\"colab-df-container\">\n",
              "    <button class=\"colab-df-convert\" onclick=\"convertToInteractive('df-65639545-e79f-45c3-af59-4719ea58a347')\"\n",
              "            title=\"Convert this dataframe to an interactive table.\"\n",
              "            style=\"display:none;\">\n",
              "\n",
              "  <svg xmlns=\"http://www.w3.org/2000/svg\" height=\"24px\" viewBox=\"0 -960 960 960\">\n",
              "    <path d=\"M120-120v-720h720v720H120Zm60-500h600v-160H180v160Zm220 220h160v-160H400v160Zm0 220h160v-160H400v160ZM180-400h160v-160H180v160Zm440 0h160v-160H620v160ZM180-180h160v-160H180v160Zm440 0h160v-160H620v160Z\"/>\n",
              "  </svg>\n",
              "    </button>\n",
              "\n",
              "  <style>\n",
              "    .colab-df-container {\n",
              "      display:flex;\n",
              "      gap: 12px;\n",
              "    }\n",
              "\n",
              "    .colab-df-convert {\n",
              "      background-color: #E8F0FE;\n",
              "      border: none;\n",
              "      border-radius: 50%;\n",
              "      cursor: pointer;\n",
              "      display: none;\n",
              "      fill: #1967D2;\n",
              "      height: 32px;\n",
              "      padding: 0 0 0 0;\n",
              "      width: 32px;\n",
              "    }\n",
              "\n",
              "    .colab-df-convert:hover {\n",
              "      background-color: #E2EBFA;\n",
              "      box-shadow: 0px 1px 2px rgba(60, 64, 67, 0.3), 0px 1px 3px 1px rgba(60, 64, 67, 0.15);\n",
              "      fill: #174EA6;\n",
              "    }\n",
              "\n",
              "    .colab-df-buttons div {\n",
              "      margin-bottom: 4px;\n",
              "    }\n",
              "\n",
              "    [theme=dark] .colab-df-convert {\n",
              "      background-color: #3B4455;\n",
              "      fill: #D2E3FC;\n",
              "    }\n",
              "\n",
              "    [theme=dark] .colab-df-convert:hover {\n",
              "      background-color: #434B5C;\n",
              "      box-shadow: 0px 1px 3px 1px rgba(0, 0, 0, 0.15);\n",
              "      filter: drop-shadow(0px 1px 2px rgba(0, 0, 0, 0.3));\n",
              "      fill: #FFFFFF;\n",
              "    }\n",
              "  </style>\n",
              "\n",
              "    <script>\n",
              "      const buttonEl =\n",
              "        document.querySelector('#df-65639545-e79f-45c3-af59-4719ea58a347 button.colab-df-convert');\n",
              "      buttonEl.style.display =\n",
              "        google.colab.kernel.accessAllowed ? 'block' : 'none';\n",
              "\n",
              "      async function convertToInteractive(key) {\n",
              "        const element = document.querySelector('#df-65639545-e79f-45c3-af59-4719ea58a347');\n",
              "        const dataTable =\n",
              "          await google.colab.kernel.invokeFunction('convertToInteractive',\n",
              "                                                    [key], {});\n",
              "        if (!dataTable) return;\n",
              "\n",
              "        const docLinkHtml = 'Like what you see? Visit the ' +\n",
              "          '<a target=\"_blank\" href=https://colab.research.google.com/notebooks/data_table.ipynb>data table notebook</a>'\n",
              "          + ' to learn more about interactive tables.';\n",
              "        element.innerHTML = '';\n",
              "        dataTable['output_type'] = 'display_data';\n",
              "        await google.colab.output.renderOutput(dataTable, element);\n",
              "        const docLink = document.createElement('div');\n",
              "        docLink.innerHTML = docLinkHtml;\n",
              "        element.appendChild(docLink);\n",
              "      }\n",
              "    </script>\n",
              "  </div>\n",
              "\n",
              "\n",
              "<div id=\"df-4ed41d73-7f09-4b69-9f62-e213e50884e1\">\n",
              "  <button class=\"colab-df-quickchart\" onclick=\"quickchart('df-4ed41d73-7f09-4b69-9f62-e213e50884e1')\"\n",
              "            title=\"Suggest charts.\"\n",
              "            style=\"display:none;\">\n",
              "\n",
              "<svg xmlns=\"http://www.w3.org/2000/svg\" height=\"24px\"viewBox=\"0 0 24 24\"\n",
              "     width=\"24px\">\n",
              "    <g>\n",
              "        <path d=\"M19 3H5c-1.1 0-2 .9-2 2v14c0 1.1.9 2 2 2h14c1.1 0 2-.9 2-2V5c0-1.1-.9-2-2-2zM9 17H7v-7h2v7zm4 0h-2V7h2v10zm4 0h-2v-4h2v4z\"/>\n",
              "    </g>\n",
              "</svg>\n",
              "  </button>\n",
              "\n",
              "<style>\n",
              "  .colab-df-quickchart {\n",
              "      --bg-color: #E8F0FE;\n",
              "      --fill-color: #1967D2;\n",
              "      --hover-bg-color: #E2EBFA;\n",
              "      --hover-fill-color: #174EA6;\n",
              "      --disabled-fill-color: #AAA;\n",
              "      --disabled-bg-color: #DDD;\n",
              "  }\n",
              "\n",
              "  [theme=dark] .colab-df-quickchart {\n",
              "      --bg-color: #3B4455;\n",
              "      --fill-color: #D2E3FC;\n",
              "      --hover-bg-color: #434B5C;\n",
              "      --hover-fill-color: #FFFFFF;\n",
              "      --disabled-bg-color: #3B4455;\n",
              "      --disabled-fill-color: #666;\n",
              "  }\n",
              "\n",
              "  .colab-df-quickchart {\n",
              "    background-color: var(--bg-color);\n",
              "    border: none;\n",
              "    border-radius: 50%;\n",
              "    cursor: pointer;\n",
              "    display: none;\n",
              "    fill: var(--fill-color);\n",
              "    height: 32px;\n",
              "    padding: 0;\n",
              "    width: 32px;\n",
              "  }\n",
              "\n",
              "  .colab-df-quickchart:hover {\n",
              "    background-color: var(--hover-bg-color);\n",
              "    box-shadow: 0 1px 2px rgba(60, 64, 67, 0.3), 0 1px 3px 1px rgba(60, 64, 67, 0.15);\n",
              "    fill: var(--button-hover-fill-color);\n",
              "  }\n",
              "\n",
              "  .colab-df-quickchart-complete:disabled,\n",
              "  .colab-df-quickchart-complete:disabled:hover {\n",
              "    background-color: var(--disabled-bg-color);\n",
              "    fill: var(--disabled-fill-color);\n",
              "    box-shadow: none;\n",
              "  }\n",
              "\n",
              "  .colab-df-spinner {\n",
              "    border: 2px solid var(--fill-color);\n",
              "    border-color: transparent;\n",
              "    border-bottom-color: var(--fill-color);\n",
              "    animation:\n",
              "      spin 1s steps(1) infinite;\n",
              "  }\n",
              "\n",
              "  @keyframes spin {\n",
              "    0% {\n",
              "      border-color: transparent;\n",
              "      border-bottom-color: var(--fill-color);\n",
              "      border-left-color: var(--fill-color);\n",
              "    }\n",
              "    20% {\n",
              "      border-color: transparent;\n",
              "      border-left-color: var(--fill-color);\n",
              "      border-top-color: var(--fill-color);\n",
              "    }\n",
              "    30% {\n",
              "      border-color: transparent;\n",
              "      border-left-color: var(--fill-color);\n",
              "      border-top-color: var(--fill-color);\n",
              "      border-right-color: var(--fill-color);\n",
              "    }\n",
              "    40% {\n",
              "      border-color: transparent;\n",
              "      border-right-color: var(--fill-color);\n",
              "      border-top-color: var(--fill-color);\n",
              "    }\n",
              "    60% {\n",
              "      border-color: transparent;\n",
              "      border-right-color: var(--fill-color);\n",
              "    }\n",
              "    80% {\n",
              "      border-color: transparent;\n",
              "      border-right-color: var(--fill-color);\n",
              "      border-bottom-color: var(--fill-color);\n",
              "    }\n",
              "    90% {\n",
              "      border-color: transparent;\n",
              "      border-bottom-color: var(--fill-color);\n",
              "    }\n",
              "  }\n",
              "</style>\n",
              "\n",
              "  <script>\n",
              "    async function quickchart(key) {\n",
              "      const quickchartButtonEl =\n",
              "        document.querySelector('#' + key + ' button');\n",
              "      quickchartButtonEl.disabled = true;  // To prevent multiple clicks.\n",
              "      quickchartButtonEl.classList.add('colab-df-spinner');\n",
              "      try {\n",
              "        const charts = await google.colab.kernel.invokeFunction(\n",
              "            'suggestCharts', [key], {});\n",
              "      } catch (error) {\n",
              "        console.error('Error during call to suggestCharts:', error);\n",
              "      }\n",
              "      quickchartButtonEl.classList.remove('colab-df-spinner');\n",
              "      quickchartButtonEl.classList.add('colab-df-quickchart-complete');\n",
              "    }\n",
              "    (() => {\n",
              "      let quickchartButtonEl =\n",
              "        document.querySelector('#df-4ed41d73-7f09-4b69-9f62-e213e50884e1 button');\n",
              "      quickchartButtonEl.style.display =\n",
              "        google.colab.kernel.accessAllowed ? 'block' : 'none';\n",
              "    })();\n",
              "  </script>\n",
              "</div>\n",
              "    </div>\n",
              "  </div>\n"
            ]
          },
          "metadata": {},
          "execution_count": 126
        }
      ]
    },
    {
      "cell_type": "code",
      "source": [
        "sns.lineplot(x=EleData2['order_date'],y=EleData2['product_mrp'])"
      ],
      "metadata": {
        "id": "3583-Uu-MDXX",
        "outputId": "157d80b0-56e8-4a09-e4eb-0ff2f306ed56",
        "colab": {
          "base_uri": "https://localhost:8080/",
          "height": 467
        }
      },
      "execution_count": 128,
      "outputs": [
        {
          "output_type": "execute_result",
          "data": {
            "text/plain": [
              "<Axes: xlabel='order_date', ylabel='product_mrp'>"
            ]
          },
          "metadata": {},
          "execution_count": 128
        },
        {
          "output_type": "display_data",
          "data": {
            "text/plain": [
              "<Figure size 640x480 with 1 Axes>"
            ],
            "image/png": "[encoded data removed]"
          },
          "metadata": {}
        }
      ]
    }
  ]
}